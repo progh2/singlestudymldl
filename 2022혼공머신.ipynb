{
  "nbformat": 4,
  "nbformat_minor": 0,
  "metadata": {
    "colab": {
      "name": "2022혼공머신.ipynb",
      "provenance": [],
      "authorship_tag": "ABX9TyM5a4gtuIxR7xm8/5uDXm0a",
      "include_colab_link": true
    },
    "kernelspec": {
      "name": "python3",
      "display_name": "Python 3"
    },
    "language_info": {
      "name": "python"
    }
  },
  "cells": [
    {
      "cell_type": "markdown",
      "metadata": {
        "id": "view-in-github",
        "colab_type": "text"
      },
      "source": [
        "<a href=\"https://colab.research.google.com/github/progh2/singlestudymldl/blob/main/2022%ED%98%BC%EA%B3%B5%EB%A8%B8%EC%8B%A0.ipynb\" target=\"_parent\"><img src=\"https://colab.research.google.com/assets/colab-badge.svg\" alt=\"Open In Colab\"/></a>"
      ]
    },
    {
      "cell_type": "markdown",
      "source": [
        "# 혼공 미션\n",
        "* [혼공학습단 7기 도서 별 미션과 커리큘럼](https://hongong.hanbit.co.kr/%ed%98%bc%ea%b3%b5-%ea%b2%8c%ec%8b%9c%ed%8c%90/?uid=46&mod=document&pageid=1&fbclid=IwAR2sr9Al27oQgCJgQNaEhit_bDJLSg5BsIgLjsl6SvVeA80te5KpabSjUyI)\n",
        "* [개인 SNS 미션 올리기]()\n",
        "* [혼공 페이스북 스터디 그룹(인증 공유)](https://www.facebook.com/groups/301584907425640)\n",
        "* [강의 유튜브 목록](https://www.youtube.com/watch?v=J6wehCO_c58&list=PLJN246lAkhQjoU0C4v8FgtbjOIXxSs_4Q)\n",
        "* 미션 ![미션](https://user-images.githubusercontent.com/1307187/149649965-8c958615-2079-49d7-a055-64b4c1d9de48.png)\n",
        "* 내 깃허브 저장소: https://github.com/progh2/singlestudymldl"
      ],
      "metadata": {
        "id": "3tfNToWXfvTr"
      }
    },
    {
      "cell_type": "markdown",
      "source": [
        "# 1주차 Chapter 01 ~ 02  \n",
        "* 강의: [1강](https://www.youtube.com/watch?v=J6wehCO_c58&list=PLJN246lAkhQjoU0C4v8FgtbjOIXxSs_4Q&index=2), [2강 코랩과 주피터 노트북](https://www.youtube.com/watch?v=0l0g7wk9wv4&list=PLJN246lAkhQjoU0C4v8FgtbjOIXxSs_4Q&index=2)\n",
        "* 기본미션: 코랩 실습 화면 캡처하기\n",
        "* 선택미션: Ch.02(02-1) 확인 문제 풀고, 풀이 과정 정리하기\n",
        "* [1강 복습용 카훗 링크](https://create.kahoot.it/share/2022-01/966b38a0-1bb7-42f5-9a05-67465ed222ed)"
      ],
      "metadata": {
        "id": "s2bQe21Bgs8x"
      }
    },
    {
      "cell_type": "code",
      "execution_count": null,
      "metadata": {
        "id": "6VGKqljsfoaB"
      },
      "outputs": [],
      "source": [
        ""
      ]
    },
    {
      "cell_type": "markdown",
      "source": [
        "## 도미와 빙어 사진보기"
      ],
      "metadata": {
        "id": "rCI6lrzJsVI_"
      }
    },
    {
      "cell_type": "markdown",
      "source": [
        "\n",
        "### 도미(bream)\n",
        "![도미사진](https://cdn.pixabay.com/photo/2018/05/18/04/29/fish-3410329_1280.png)\n",
        "![도미일러스트](https://upload.wikimedia.org/wikipedia/commons/c/c4/Illustration_from_The_Natural_History_of_British_Fishes_%281802%29_by_Edward_Donovan%2C_digitally_enhanced_by_rawpixel-com_66.jpg)"
      ],
      "metadata": {
        "id": "8AIwViLvsbho"
      }
    },
    {
      "cell_type": "markdown",
      "source": [
        "### 빙어(smelt)\n",
        "![빙어사진](http://www.kogl.or.kr/upload_recommend/2018/DMZ/thumb_B008-C005-0126-05_L.jpg)\n",
        "![빙어일러스트](https://upload.wikimedia.org/wikipedia/commons/2/2b/Pond_smelt_illustration.jpg)"
      ],
      "metadata": {
        "id": "yUL_hnw9rEU-"
      }
    },
    {
      "cell_type": "markdown",
      "source": [
        "## 도미(bream) 데이터 살펴보기"
      ],
      "metadata": {
        "id": "84VDtRLash18"
      }
    },
    {
      "cell_type": "code",
      "source": [
        "# https://bit.ly/bream_list 에 접속해서 코드 긁어오기\n",
        "bream_length = [25.4, 26.3, 26.5, 29.0, 29.0, 29.7, 29.7, 30.0, 30.0, 30.7, 31.0, 31.0, \n",
        "                31.5, 32.0, 32.0, 32.0, 33.0, 33.0, 33.5, 33.5, 34.0, 34.0, 34.5, 35.0, \n",
        "                35.0, 35.0, 35.0, 36.0, 36.0, 37.0, 38.5, 38.5, 39.5, 41.0, 41.0]\n",
        "bream_weight = [242.0, 290.0, 340.0, 363.0, 430.0, 450.0, 500.0, 390.0, 450.0, 500.0, 475.0, 500.0, \n",
        "                500.0, 340.0, 600.0, 600.0, 700.0, 700.0, 610.0, 650.0, 575.0, 685.0, 620.0, 680.0, \n",
        "                700.0, 725.0, 720.0, 714.0, 850.0, 1000.0, 920.0, 955.0, 925.0, 975.0, 950.0]\n",
        "\n",
        "\n",
        "import matplotlib.pyplot as plt\n",
        "\n",
        "# scatter plot : 산점도 \n",
        "plt.scatter(bream_length, bream_weight)\n",
        "plt.xlabel('length')\n",
        "plt.ylabel('weight')\n",
        "plt.show()"
      ],
      "metadata": {
        "colab": {
          "base_uri": "https://localhost:8080/",
          "height": 279
        },
        "id": "_SRdB_8ApAU1",
        "outputId": "d10d7101-2835-4aae-912d-cc3ff89943ae"
      },
      "execution_count": 3,
      "outputs": [
        {
          "output_type": "display_data",
          "data": {
            "image/png": "[encoded data removed]",
            "text/plain": [
              "<Figure size 432x288 with 1 Axes>"
            ]
          },
          "metadata": {
            "needs_background": "light"
          }
        }
      ]
    },
    {
      "cell_type": "markdown",
      "source": [
        "## 빙어(smelt) 데이터 살펴보기"
      ],
      "metadata": {
        "id": "CEVTlnCmsq31"
      }
    },
    {
      "cell_type": "code",
      "source": [
        "smelt_length = [9.8, 10.5, 10.6, 11.0, 11.2, 11.3, 11.8, 11.8, 12.0, 12.2, 12.4, 13.0, 14.3, 15.0]\n",
        "smelt_weight = [6.7, 7.5, 7.0, 9.7, 9.8, 8.7, 10.0, 9.9, 9.8, 12.2, 13.4, 12.2, 19.7, 19.9]\n",
        "\n",
        "plt.scatter(smelt_length, smelt_weight)\n",
        "plt.xlabel('length')\n",
        "plt.ylabel('weight')\n",
        "plt.show()"
      ],
      "metadata": {
        "colab": {
          "base_uri": "https://localhost:8080/",
          "height": 279
        },
        "id": "caw2D3yhpOoH",
        "outputId": "9f7b463a-7e6a-4d6b-b73e-af1ccd9736bb"
      },
      "execution_count": 4,
      "outputs": [
        {
          "output_type": "display_data",
          "data": {
            "image/png": "[encoded data removed]",
            "text/plain": [
              "<Figure size 432x288 with 1 Axes>"
            ]
          },
          "metadata": {
            "needs_background": "light"
          }
        }
      ]
    },
    {
      "cell_type": "code",
      "source": [
        ""
      ],
      "metadata": {
        "id": "xhR96upOtKB8"
      },
      "execution_count": null,
      "outputs": []
    },
    {
      "cell_type": "markdown",
      "source": [
        "## 분류 프로그램 만들어보기 "
      ],
      "metadata": {
        "id": "jTsQEmgNs5L1"
      }
    },
    {
      "cell_type": "code",
      "source": [
        "# 데이터 준비 - 도미와 빙어 데이터 합치기 \n",
        "length = bream_length + smelt_length\n",
        "weight = bream_weight + smelt_weight\n",
        "\n",
        "# 두 데이터 한번에 표시하기\n",
        "plt.scatter(bream_length, bream_weight, color='tab:pink', marker='p')\n",
        "plt.scatter(smelt_length, smelt_weight, color='tab:cyan', marker='d')\n",
        "plt.xlabel('length')\n",
        "plt.ylabel('weight')\n",
        "plt.show()\n",
        "\n",
        "# 리스트 내포 사용! 매우 유용!!\n",
        "fish_data = [[l,w] for l, w in zip(length, weight)]"
      ],
      "metadata": {
        "colab": {
          "base_uri": "https://localhost:8080/",
          "height": 279
        },
        "id": "3v_TpW3luD-U",
        "outputId": "107fb33c-35ec-427c-cb8c-9e0546922fa2"
      },
      "execution_count": 27,
      "outputs": [
        {
          "output_type": "display_data",
          "data": {
            "image/png": "[encoded data removed]",
            "text/plain": [
              "<Figure size 432x288 with 1 Axes>"
            ]
          },
          "metadata": {
            "needs_background": "light"
          }
        }
      ]
    },
    {
      "cell_type": "code",
      "source": [
        "# 정답 준비 - 도미(1) 데이터 35개와 빙어(0) 데이터 14개 들어간 리스트 초기화\n",
        "# 1 : 도미  \n",
        "# 2 : 빙어\n",
        "fish_target = [1] * 35 + [0] * 14\n",
        "#print(fish_target)\n",
        "# 출력 : [1, 1, 1, 1, 1, 1, 1, 1, 1, 1, 1, 1, 1, 1, 1, 1, 1, 1, 1, 1, 1, 1, 1, 1, 1, 1, 1, 1, 1, 1, 1, 1, 1, 1, 1, 0, 0, 0, 0, 0, 0, 0, 0, 0, 0, 0, 0, 0, 0]\n",
        "\n",
        "#k-최근접 이웃 방식 사용\n",
        "from sklearn.neighbors import KNeighborsClassifier\n",
        "kn = KNeighborsClassifier()\n",
        "kn.fit(fish_data, fish_target)\n",
        "kn.score(fish_data, fish_target)"
      ],
      "metadata": {
        "colab": {
          "base_uri": "https://localhost:8080/"
        },
        "id": "vCKQQJTls__u",
        "outputId": "f757e389-0391-4404-cd86-504cda6727a6"
      },
      "execution_count": 9,
      "outputs": [
        {
          "output_type": "execute_result",
          "data": {
            "text/plain": [
              "1.0"
            ]
          },
          "metadata": {},
          "execution_count": 9
        }
      ]
    },
    {
      "cell_type": "code",
      "source": [
        "# 데이터 그래프로 표시해서 보기\n",
        "plt.scatter(bream_length, bream_weight, color='tab:pink', marker='p')\n",
        "plt.scatter(smelt_length, smelt_weight, color='tab:cyan', marker='d')\n",
        "plt.scatter([30], [600], color='tab:red', marker='x')\n",
        "plt.xlabel('length')\n",
        "plt.ylabel('weight')\n",
        "plt.show()\n",
        "\n",
        "# 방금 만든 모델로 새로운 생선 예측해보기\n",
        "kn.predict([ [30,600] ])\n",
        "# 결과가 넘파이 어레이로 1 출력. 1은 도미 0은 빙어"
      ],
      "metadata": {
        "colab": {
          "base_uri": "https://localhost:8080/",
          "height": 297
        },
        "id": "9r4qLG7LtFxW",
        "outputId": "fc0f9bbd-ed05-4033-b015-a097522f12c0"
      },
      "execution_count": 26,
      "outputs": [
        {
          "output_type": "display_data",
          "data": {
            "image/png": "[encoded data removed]",
            "text/plain": [
              "<Figure size 432x288 with 1 Axes>"
            ]
          },
          "metadata": {
            "needs_background": "light"
          }
        },
        {
          "output_type": "execute_result",
          "data": {
            "text/plain": [
              "array([1])"
            ]
          },
          "metadata": {},
          "execution_count": 26
        }
      ]
    },
    {
      "cell_type": "markdown",
      "source": [
        "## 잘못된 예측 방법(무조건 도미로 판다)"
      ],
      "metadata": {
        "id": "jC-v8bGdzPxA"
      }
    },
    {
      "cell_type": "code",
      "source": [
        "kn49 =  KNeighborsClassifier(n_neighbors=len(fish_target))\n",
        "kn49.fit(fish_data, fish_target)\n",
        "print(kn49.score(fish_data, fish_target))\n",
        "\n",
        "# n_neighbors 는 군집하는 데이터 수를 말하는 것으로 위와 같이 파라미터를 설정하면\n",
        "# 전체 데이터를 같은 군집으로 인식하게 된다(전체 데이터 수만큼 묶으라고 했으니)\n",
        "# 따라서 이렇게하면 입력된 데이터를 모두 도미로 판단해서 \n",
        "# 정확도가 71%가 나오게 되는데 이 숫자는 도미개수 비율이랑 똑같다.\n",
        "# 적절한 n_neightbors 수를 지정하는 것이 중요하다.\n",
        "print(35/49)"
      ],
      "metadata": {
        "colab": {
          "base_uri": "https://localhost:8080/"
        },
        "id": "imAk2-kbv8M7",
        "outputId": "f69b39f9-880b-4736-ea8a-b6c4fc1e2225"
      },
      "execution_count": 34,
      "outputs": [
        {
          "output_type": "stream",
          "name": "stdout",
          "text": [
            "0.7142857142857143\n",
            "0.7142857142857143\n"
          ]
        }
      ]
    },
    {
      "cell_type": "code",
      "source": [
        "kn =  KNeighborsClassifier()\n",
        "kn.fit(fish_data, fish_target)\n",
        "for n in range(5, 50):\n",
        "  # k-최근접 이웃 개수 설정\n",
        "  kn.n_neighbors = (            )  #<--- 여기!!!\n",
        "  # 점수 계산\n",
        "  score = kn.score(fish_data, fish_target)\n",
        "  # 100% 정확도에 미치지 못한는 이웃 개수 출력\n",
        "  if score < 1:\n",
        "    print(n, score)\n",
        "    break"
      ],
      "metadata": {
        "colab": {
          "base_uri": "https://localhost:8080/"
        },
        "id": "ESAEfgCTzYmd",
        "outputId": "216c44d3-ea27-495d-dcf0-ade90bed8ddb"
      },
      "execution_count": 41,
      "outputs": [
        {
          "output_type": "stream",
          "name": "stdout",
          "text": [
            "18 0.9795918367346939\n"
          ]
        }
      ]
    },
    {
      "cell_type": "markdown",
      "source": [
        "# 2주차 Chapter 03\n",
        "* 강의: [3강 마켓과 머신러닝](https://www.youtube.com/watch?v=GOCVVSMeIf8&list=PLJN246lAkhQjoU0C4v8FgtbjOIXxSs_4Q&index=3)\n",
        "* 기본미션: Ch. 03(03-1) 2번 문제 출력 그래프 인증샷\n",
        "* 선택미션: 모델 파라미터에 대해 설명하기"
      ],
      "metadata": {
        "id": "rvUQWguQnYBV"
      }
    }
  ]
}