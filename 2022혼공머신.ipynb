{
  "nbformat": 4,
  "nbformat_minor": 0,
  "metadata": {
    "colab": {
      "name": "2022혼공머신.ipynb",
      "provenance": [],
      "authorship_tag": "ABX9TyMe7DM8LIJqFvPgJHoxDlU2",
      "include_colab_link": true
    },
    "kernelspec": {
      "name": "python3",
      "display_name": "Python 3"
    },
    "language_info": {
      "name": "python"
    }
  },
  "cells": [
    {
      "cell_type": "markdown",
      "metadata": {
        "id": "view-in-github",
        "colab_type": "text"
      },
      "source": [
        "<a href=\"https://colab.research.google.com/github/progh2/singlestudymldl/blob/main/2022%ED%98%BC%EA%B3%B5%EB%A8%B8%EC%8B%A0.ipynb\" target=\"_parent\"><img src=\"https://colab.research.google.com/assets/colab-badge.svg\" alt=\"Open In Colab\"/></a>"
      ]
    },
    {
      "cell_type": "markdown",
      "source": [
        "# 혼공 미션\n",
        "* [혼공학습단 7기 도서 별 미션과 커리큘럼](https://hongong.hanbit.co.kr/%ed%98%bc%ea%b3%b5-%ea%b2%8c%ec%8b%9c%ed%8c%90/?uid=46&mod=document&pageid=1&fbclid=IwAR2sr9Al27oQgCJgQNaEhit_bDJLSg5BsIgLjsl6SvVeA80te5KpabSjUyI)\n",
        "* [개인 SNS 미션 올리기]()\n",
        "* [혼공 페이스북 스터디 그룹(인증 공유)](https://www.facebook.com/groups/301584907425640)\n",
        "* [강의 유튜브 목록](https://www.youtube.com/watch?v=J6wehCO_c58&list=PLJN246lAkhQjoU0C4v8FgtbjOIXxSs_4Q)\n",
        "\n",
        "![미션](https://user-images.githubusercontent.com/1307187/149649965-8c958615-2079-49d7-a055-64b4c1d9de48.png)"
      ],
      "metadata": {
        "id": "3tfNToWXfvTr"
      }
    },
    {
      "cell_type": "markdown",
      "source": [
        "# 1주차\n",
        "## Chapter 01 ~ 02  \n",
        "* 강의\n",
        "  * [1강](https://www.youtube.com/watch?v=J6wehCO_c58&list=PLJN246lAkhQjoU0C4v8FgtbjOIXxSs_4Q&index=2)\n",
        "  * [2강](https://www.youtube.com/watch?v=0l0g7wk9wv4&list=PLJN246lAkhQjoU0C4v8FgtbjOIXxSs_4Q&index=2)\n",
        "\n",
        "* 기본미션 : 코랩 실습 화면 캡처하기\n",
        "* 선택미션 : Ch.02(02-1) 확인 문제 풀고, 풀이 과정 정리하기"
      ],
      "metadata": {
        "id": "s2bQe21Bgs8x"
      }
    },
    {
      "cell_type": "code",
      "execution_count": null,
      "metadata": {
        "id": "6VGKqljsfoaB"
      },
      "outputs": [],
      "source": [
        ""
      ]
    }
  ]
}