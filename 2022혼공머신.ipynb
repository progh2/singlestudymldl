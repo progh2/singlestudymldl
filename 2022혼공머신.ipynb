{
  "nbformat": 4,
  "nbformat_minor": 0,
  "metadata": {
    "colab": {
      "name": "2022혼공머신.ipynb",
      "provenance": [],
      "collapsed_sections": [
        "rCI6lrzJsVI_",
        "jTsQEmgNs5L1"
      ],
      "authorship_tag": "ABX9TyNKScoWfZeVZukLbdDtUW/d",
      "include_colab_link": true
    },
    "kernelspec": {
      "name": "python3",
      "display_name": "Python 3"
    },
    "language_info": {
      "name": "python"
    }
  },
  "cells": [
    {
      "cell_type": "markdown",
      "metadata": {
        "id": "view-in-github",
        "colab_type": "text"
      },
      "source": [
        "<a href=\"https://colab.research.google.com/github/progh2/singlestudymldl/blob/main/2022%ED%98%BC%EA%B3%B5%EB%A8%B8%EC%8B%A0.ipynb\" target=\"_parent\"><img src=\"https://colab.research.google.com/assets/colab-badge.svg\" alt=\"Open In Colab\"/></a>"
      ]
    },
    {
      "cell_type": "markdown",
      "source": [
        "# 혼공 미션\n",
        "* [혼공학습단 7기 도서 별 미션과 커리큘럼](https://hongong.hanbit.co.kr/%ed%98%bc%ea%b3%b5-%ea%b2%8c%ec%8b%9c%ed%8c%90/?uid=46&mod=document&pageid=1&fbclid=IwAR2sr9Al27oQgCJgQNaEhit_bDJLSg5BsIgLjsl6SvVeA80te5KpabSjUyI)\n",
        "* [개인 SNS 미션 올리기]()\n",
        "* [혼공 페이스북 스터디 그룹(인증 공유)](https://www.facebook.com/groups/301584907425640)\n",
        "* [강의 유튜브 목록](https://www.youtube.com/watch?v=J6wehCO_c58&list=PLJN246lAkhQjoU0C4v8FgtbjOIXxSs_4Q)\n",
        "* 미션 ![미션](https://user-images.githubusercontent.com/1307187/149649965-8c958615-2079-49d7-a055-64b4c1d9de48.png)\n",
        "* 내 깃허브 저장소: https://github.com/progh2/singlestudymldl"
      ],
      "metadata": {
        "id": "3tfNToWXfvTr"
      }
    },
    {
      "cell_type": "markdown",
      "source": [
        "# 1주차 Chapter 01 ~ 02  \n",
        "* 강의: [1강](https://www.youtube.com/watch?v=J6wehCO_c58&list=PLJN246lAkhQjoU0C4v8FgtbjOIXxSs_4Q&index=2), [2강 코랩과 주피터 노트북](https://www.youtube.com/watch?v=0l0g7wk9wv4&list=PLJN246lAkhQjoU0C4v8FgtbjOIXxSs_4Q&index=2)\n",
        "* 기본미션: 코랩 실습 화면 캡처하기\n",
        "* 선택미션: Ch.02(02-1) 확인 문제 풀고, 풀이 과정 정리하기\n",
        "* [1강 복습용 카훗 링크](https://create.kahoot.it/share/2022-01/966b38a0-1bb7-42f5-9a05-67465ed222ed)"
      ],
      "metadata": {
        "id": "s2bQe21Bgs8x"
      }
    },
    {
      "cell_type": "markdown",
      "source": [
        "## 챕터01"
      ],
      "metadata": {
        "id": "40uBoo2sA3ZZ"
      }
    },
    {
      "cell_type": "markdown",
      "source": [
        "### 마크다운 사용법"
      ],
      "metadata": {
        "id": "X4SIvXiMA6tK"
      }
    },
    {
      "cell_type": "markdown",
      "source": [
        "~~~\n",
        "# 제목\n",
        "## 제목2\n",
        "### 제목3\n",
        "#### 제목5\n",
        "~~~\n",
        "\n",
        "~~~\n",
        "**혼공머신**\n",
        "*혼공머신*\n",
        "_혼공머신_\n",
        "~~ 혼공머신 ~~\n",
        "~~~\n",
        "**혼공머신**\n",
        "*혼공머신*\n",
        "_혼공머신_\n",
        "~~ 혼공머신 ~~\n",
        "\n",
        "~~~\n",
        "`print(\"HelloWorld\")`\n",
        "~~~\n",
        "`print(\"HelloWorld\")`\n",
        "\n",
        "~~~\n",
        "> 혼공머신\n",
        "* 혼공머신\n",
        "- 혼공머신\n",
        "[한빛미디어]()\n",
        "![한빛미디어]()\n",
        "$ y = x \\times z$\n",
        "~~~\n",
        "> 혼공머신\n",
        "\n",
        "\n",
        "* 혼공머신\n",
        "- 혼공머신\n",
        "\n",
        "$ y = x \\times z$\n"
      ],
      "metadata": {
        "id": "qY4z_FM-GYS4"
      }
    },
    {
      "cell_type": "markdown",
      "source": [
        "### 도미와 빙어 사진보기"
      ],
      "metadata": {
        "id": "rCI6lrzJsVI_"
      }
    },
    {
      "cell_type": "markdown",
      "source": [
        "\n",
        "#### 도미(bream)\n",
        "![도미사진](https://user-images.githubusercontent.com/1307187/149653507-ccba028d-703f-4153-9795-a00eab751bf7.png)\n",
        "![도미일러스트](https://user-images.githubusercontent.com/1307187/149653533-6df264e6-0112-4960-90a2-5251be77d1bc.png)"
      ],
      "metadata": {
        "id": "8AIwViLvsbho"
      }
    },
    {
      "cell_type": "markdown",
      "source": [
        "#### 빙어(smelt)\n",
        "![빙어사진](https://user-images.githubusercontent.com/1307187/149653442-bacbbf82-a1c1-4f3f-925d-ef66217d9d66.png)\n",
        "![빙어일러스트](https://user-images.githubusercontent.com/1307187/149653486-a5c41682-1360-437f-bae1-22ff2ed1a3fe.png)"
      ],
      "metadata": {
        "id": "yUL_hnw9rEU-"
      }
    },
    {
      "cell_type": "markdown",
      "source": [
        "### 도미(bream) 데이터 살펴보기"
      ],
      "metadata": {
        "id": "84VDtRLash18"
      }
    },
    {
      "cell_type": "code",
      "source": [
        "# https://bit.ly/bream_list 에 접속해서 코드 긁어오기\n",
        "bream_length = [25.4, 26.3, 26.5, 29.0, 29.0, 29.7, 29.7, 30.0, 30.0, 30.7, 31.0, 31.0, \n",
        "                31.5, 32.0, 32.0, 32.0, 33.0, 33.0, 33.5, 33.5, 34.0, 34.0, 34.5, 35.0, \n",
        "                35.0, 35.0, 35.0, 36.0, 36.0, 37.0, 38.5, 38.5, 39.5, 41.0, 41.0]\n",
        "bream_weight = [242.0, 290.0, 340.0, 363.0, 430.0, 450.0, 500.0, 390.0, 450.0, 500.0, 475.0, 500.0, \n",
        "                500.0, 340.0, 600.0, 600.0, 700.0, 700.0, 610.0, 650.0, 575.0, 685.0, 620.0, 680.0, \n",
        "                700.0, 725.0, 720.0, 714.0, 850.0, 1000.0, 920.0, 955.0, 925.0, 975.0, 950.0]\n",
        "\n",
        "\n",
        "import matplotlib.pyplot as plt\n",
        "\n",
        "# scatter plot : 산점도 \n",
        "plt.scatter(bream_length, bream_weight)\n",
        "plt.xlabel('length')\n",
        "plt.ylabel('weight')\n",
        "plt.show()"
      ],
      "metadata": {
        "colab": {
          "base_uri": "https://localhost:8080/",
          "height": 279
        },
        "id": "_SRdB_8ApAU1",
        "outputId": "3236c77b-d2c8-41c0-9c1f-7ff88abd138d"
      },
      "execution_count": 2,
      "outputs": [
        {
          "output_type": "display_data",
          "data": {
            "image/png": "[encoded data removed]",
            "text/plain": [
              "<Figure size 432x288 with 1 Axes>"
            ]
          },
          "metadata": {
            "needs_background": "light"
          }
        }
      ]
    },
    {
      "cell_type": "markdown",
      "source": [
        "### 빙어(smelt) 데이터 살펴보기"
      ],
      "metadata": {
        "id": "CEVTlnCmsq31"
      }
    },
    {
      "cell_type": "code",
      "source": [
        "smelt_length = [9.8, 10.5, 10.6, 11.0, 11.2, 11.3, 11.8, 11.8, 12.0, 12.2, 12.4, 13.0, 14.3, 15.0]\n",
        "smelt_weight = [6.7, 7.5, 7.0, 9.7, 9.8, 8.7, 10.0, 9.9, 9.8, 12.2, 13.4, 12.2, 19.7, 19.9]\n",
        "\n",
        "plt.scatter(smelt_length, smelt_weight)\n",
        "plt.xlabel('length')\n",
        "plt.ylabel('weight')\n",
        "plt.show()"
      ],
      "metadata": {
        "colab": {
          "base_uri": "https://localhost:8080/",
          "height": 279
        },
        "id": "caw2D3yhpOoH",
        "outputId": "db8698e3-f81f-45bb-baa9-8d807dcff9c3"
      },
      "execution_count": 4,
      "outputs": [
        {
          "output_type": "display_data",
          "data": {
            "image/png": "[encoded data removed]",
            "text/plain": [
              "<Figure size 432x288 with 1 Axes>"
            ]
          },
          "metadata": {
            "needs_background": "light"
          }
        }
      ]
    },
    {
      "cell_type": "markdown",
      "source": [
        "### 분류 프로그램 만들어보기 "
      ],
      "metadata": {
        "id": "jTsQEmgNs5L1"
      }
    },
    {
      "cell_type": "code",
      "source": [
        "# 데이터 준비 - 도미와 빙어 데이터 합치기 \n",
        "length = bream_length + smelt_length\n",
        "weight = bream_weight + smelt_weight\n",
        "\n",
        "# 두 데이터 한번에 표시하기\n",
        "plt.scatter(bream_length, bream_weight, color='tab:pink', marker='p')\n",
        "plt.scatter(smelt_length, smelt_weight, color='tab:cyan', marker='d')\n",
        "plt.xlabel('length')\n",
        "plt.ylabel('weight')\n",
        "plt.show()\n",
        "\n",
        "# 리스트 내포 사용! 매우 유용!!\n",
        "fish_data = [[l,w] for l, w in zip(length, weight)]"
      ],
      "metadata": {
        "colab": {
          "base_uri": "https://localhost:8080/",
          "height": 279
        },
        "id": "3v_TpW3luD-U",
        "outputId": "107fb33c-35ec-427c-cb8c-9e0546922fa2"
      },
      "execution_count": 27,
      "outputs": [
        {
          "output_type": "display_data",
          "data": {
            "image/png": "[encoded data removed]",
            "text/plain": [
              "<Figure size 432x288 with 1 Axes>"
            ]
          },
          "metadata": {
            "needs_background": "light"
          }
        }
      ]
    },
    {
      "cell_type": "code",
      "source": [
        "# 정답 준비 - 도미(1) 데이터 35개와 빙어(0) 데이터 14개 들어간 리스트 초기화\n",
        "# 1 : 도미  \n",
        "# 2 : 빙어\n",
        "fish_target = [1] * 35 + [0] * 14\n",
        "#print(fish_target)\n",
        "# 출력 : [1, 1, 1, 1, 1, 1, 1, 1, 1, 1, 1, 1, 1, 1, 1, 1, 1, 1, 1, 1, 1, 1, 1, 1, 1, 1, 1, 1, 1, 1, 1, 1, 1, 1, 1, 0, 0, 0, 0, 0, 0, 0, 0, 0, 0, 0, 0, 0, 0]\n",
        "\n",
        "#k-최근접 이웃 방식 사용\n",
        "from sklearn.neighbors import KNeighborsClassifier\n",
        "kn = KNeighborsClassifier()\n",
        "kn.fit(fish_data, fish_target)\n",
        "kn.score(fish_data, fish_target)"
      ],
      "metadata": {
        "colab": {
          "base_uri": "https://localhost:8080/"
        },
        "id": "vCKQQJTls__u",
        "outputId": "f757e389-0391-4404-cd86-504cda6727a6"
      },
      "execution_count": 9,
      "outputs": [
        {
          "output_type": "execute_result",
          "data": {
            "text/plain": [
              "1.0"
            ]
          },
          "metadata": {},
          "execution_count": 9
        }
      ]
    },
    {
      "cell_type": "code",
      "source": [
        "# 데이터 그래프로 표시해서 보기\n",
        "plt.scatter(bream_length, bream_weight, color='tab:pink', marker='p')\n",
        "plt.scatter(smelt_length, smelt_weight, color='tab:cyan', marker='d')\n",
        "plt.scatter([30], [600], color='tab:red', marker='x')\n",
        "plt.xlabel('length')\n",
        "plt.ylabel('weight')\n",
        "plt.show()\n",
        "\n",
        "# 방금 만든 모델로 새로운 생선 예측해보기\n",
        "kn.predict([ [30,600] ])\n",
        "# 결과가 넘파이 어레이로 1 출력. 1은 도미 0은 빙어"
      ],
      "metadata": {
        "colab": {
          "base_uri": "https://localhost:8080/",
          "height": 297
        },
        "id": "9r4qLG7LtFxW",
        "outputId": "fc0f9bbd-ed05-4033-b015-a097522f12c0"
      },
      "execution_count": 26,
      "outputs": [
        {
          "output_type": "display_data",
          "data": {
            "image/png": "[encoded data removed]",
            "text/plain": [
              "<Figure size 432x288 with 1 Axes>"
            ]
          },
          "metadata": {
            "needs_background": "light"
          }
        },
        {
          "output_type": "execute_result",
          "data": {
            "text/plain": [
              "array([1])"
            ]
          },
          "metadata": {},
          "execution_count": 26
        }
      ]
    },
    {
      "cell_type": "markdown",
      "source": [
        "### 잘못된 예측 방법(무조건 도미로 판단)"
      ],
      "metadata": {
        "id": "jC-v8bGdzPxA"
      }
    },
    {
      "cell_type": "code",
      "source": [
        "kn49 =  KNeighborsClassifier(n_neighbors=len(fish_target))\n",
        "kn49.fit(fish_data, fish_target)\n",
        "print(kn49.score(fish_data, fish_target))\n",
        "\n",
        "# n_neighbors 는 군집하는 데이터 수를 말하는 것으로 위와 같이 파라미터를 설정하면\n",
        "# 전체 데이터를 같은 군집으로 인식하게 된다(전체 데이터 수만큼 묶으라고 했으니)\n",
        "# 따라서 이렇게하면 입력된 데이터를 모두 도미로 판단해서 \n",
        "# 정확도가 71%가 나오게 되는데 이 숫자는 도미개수 비율이랑 똑같다.\n",
        "# 적절한 n_neightbors 수를 지정하는 것이 중요하다.\n",
        "print(35/49)"
      ],
      "metadata": {
        "colab": {
          "base_uri": "https://localhost:8080/"
        },
        "id": "imAk2-kbv8M7",
        "outputId": "f69b39f9-880b-4736-ea8a-b6c4fc1e2225"
      },
      "execution_count": 34,
      "outputs": [
        {
          "output_type": "stream",
          "name": "stdout",
          "text": [
            "0.7142857142857143\n",
            "0.7142857142857143\n"
          ]
        }
      ]
    },
    {
      "cell_type": "code",
      "source": [
        "kn =  KNeighborsClassifier()\n",
        "kn.fit(fish_data, fish_target)\n",
        "for n in range(5, 50):\n",
        "  # k-최근접 이웃 개수 설정\n",
        "  kn.n_neighbors = (            )  #<--- 여기!!!\n",
        "  # 점수 계산\n",
        "  score = kn.score(fish_data, fish_target)\n",
        "  # 100% 정확도에 미치지 못한는 이웃 개수 출력\n",
        "  if score < 1:\n",
        "    print(n, score)\n",
        "    break"
      ],
      "metadata": {
        "colab": {
          "base_uri": "https://localhost:8080/"
        },
        "id": "ESAEfgCTzYmd",
        "outputId": "216c44d3-ea27-495d-dcf0-ade90bed8ddb"
      },
      "execution_count": 41,
      "outputs": [
        {
          "output_type": "stream",
          "name": "stdout",
          "text": [
            "18 0.9795918367346939\n"
          ]
        }
      ]
    },
    {
      "cell_type": "markdown",
      "source": [
        "## 챕터02-1"
      ],
      "metadata": {
        "id": "eJg6NE-d2ndJ"
      }
    },
    {
      "cell_type": "markdown",
      "source": [
        "###훈련 세트, 테스트 세트, 샘플"
      ],
      "metadata": {
        "id": "0gCK8DtUAlyn"
      }
    },
    {
      "cell_type": "code",
      "source": [
        "# 데이터 준비\n",
        "fish_length = bream_length + smelt_length\n",
        "fish_weight = bream_weight + smelt_weight\n",
        "fish_data = [ [l, w] for l, w in zip(fish_length, fish_weight)]\n",
        "fish_target = [1] * len(bream_length) + [0] * len(smelt_length)\n",
        "\n",
        "# 필요 클래스 준비\n",
        "from sklearn.neighbors import KNeighborsClassifier\n",
        "kn = KNeighborsClassifier()\n",
        "\n",
        "# 슬라이싱 연습\n",
        "print(fish_data[:5])\n",
        "print(fish_data[44:])\n",
        "print(fish_data[44:49])\n",
        "\n",
        "# 샘플 데이터를 단순히 슬라이스해서 훈련 세트와 테스트 세트 준비\n",
        "train_input = fish_data[:35]  # 0부터 34 까지 35개 데이터 선택\n",
        "train_target = fish_target[:35]\n",
        "test_input = fish_data[35:] # 35부터 48까지 14개 데이터 선택\n",
        "test_target = fish_target[35:]\n",
        "\n",
        "kn = kn.fit(train_input, train_target)\n",
        "kn.score(test_input, test_target)\n",
        "# 정확도 0.0 신화. 빙어 데이터는 하나도 안알려주고 도미만 훈련시키고 정작 도미 없이 빙어를 물어봐서 일어난 참사.\n",
        "# --> 샘플링 편향 문제!!(sampling bias) "
      ],
      "metadata": {
        "colab": {
          "base_uri": "https://localhost:8080/"
        },
        "id": "4IiFoV1i2yoX",
        "outputId": "bfb2ed87-c72a-4671-d3da-c44bcf283a8f"
      },
      "execution_count": 17,
      "outputs": [
        {
          "output_type": "stream",
          "name": "stdout",
          "text": [
            "[[25.4, 242.0], [26.3, 290.0], [26.5, 340.0], [29.0, 363.0], [29.0, 430.0]]\n",
            "[[12.2, 12.2], [12.4, 13.4], [13.0, 12.2], [14.3, 19.7], [15.0, 19.9]]\n",
            "[[12.2, 12.2], [12.4, 13.4], [13.0, 12.2], [14.3, 19.7], [15.0, 19.9]]\n"
          ]
        },
        {
          "output_type": "execute_result",
          "data": {
            "text/plain": [
              "0.0"
            ]
          },
          "metadata": {},
          "execution_count": 17
        }
      ]
    },
    {
      "cell_type": "markdown",
      "source": [
        "### 넘파이 Numpy를 활용해서 샘플데이터를 섞어서 훈련 세트와 테스트 세트 만들기"
      ],
      "metadata": {
        "id": "LTyqPR3X5z5K"
      }
    },
    {
      "cell_type": "code",
      "source": [
        "import numpy as np\n",
        "input_arr = np.array(fish_data)\n",
        "target_arr = np.array(fish_target)\n",
        "print(input_arr) #예쁘게 출력된다.\n",
        "print(input_arr.shape) # 샘플 수와 특성 수(행렬)인지 알려준다.(샘플 수, 특성 수)\n",
        "\n",
        "# 실제 데이터의 순서를 섞기보다 순서를 나타내는 index를 만들어서 이것을 섞어서\n",
        "# 순서대로 해당 위치값으로 꺼내면 실제 데이터를 섞은 효과가 난다.\n",
        "\n",
        "# 항상 같은 결과를 위하여 랜덤 시드 고정\n",
        "np.random.seed(42)\n",
        "index = np.arange(49)   # 함수에 N을 전달하면 0부터 N-1까지 1씩 증가하는 배열 생성 \n",
        "np.random.shuffle(index) # 넘겨진 배열 값을 변경해버린다.\n",
        "print(index)\n",
        "\n",
        "# 배열 인덱싱. 여러개의 인덱스 값을 넘기면 해당 인덱스가 나타내는 값들을 배열로 뽑아서 와준다.\n",
        "# 예를 들어... 도서번호 13, 15, 21번책 가져다 주세요! 하면 3권의 책들이 있는 가방을 돌려주는 셈\n",
        "print(input_arr[ [1,3] ])"
      ],
      "metadata": {
        "colab": {
          "base_uri": "https://localhost:8080/"
        },
        "id": "KpopShmw52j8",
        "outputId": "9ddcc305-8bba-46a0-a218-153b1edd2ce1"
      },
      "execution_count": 25,
      "outputs": [
        {
          "output_type": "stream",
          "name": "stdout",
          "text": [
            "[[  25.4  242. ]\n",
            " [  26.3  290. ]\n",
            " [  26.5  340. ]\n",
            " [  29.   363. ]\n",
            " [  29.   430. ]\n",
            " [  29.7  450. ]\n",
            " [  29.7  500. ]\n",
            " [  30.   390. ]\n",
            " [  30.   450. ]\n",
            " [  30.7  500. ]\n",
            " [  31.   475. ]\n",
            " [  31.   500. ]\n",
            " [  31.5  500. ]\n",
            " [  32.   340. ]\n",
            " [  32.   600. ]\n",
            " [  32.   600. ]\n",
            " [  33.   700. ]\n",
            " [  33.   700. ]\n",
            " [  33.5  610. ]\n",
            " [  33.5  650. ]\n",
            " [  34.   575. ]\n",
            " [  34.   685. ]\n",
            " [  34.5  620. ]\n",
            " [  35.   680. ]\n",
            " [  35.   700. ]\n",
            " [  35.   725. ]\n",
            " [  35.   720. ]\n",
            " [  36.   714. ]\n",
            " [  36.   850. ]\n",
            " [  37.  1000. ]\n",
            " [  38.5  920. ]\n",
            " [  38.5  955. ]\n",
            " [  39.5  925. ]\n",
            " [  41.   975. ]\n",
            " [  41.   950. ]\n",
            " [   9.8    6.7]\n",
            " [  10.5    7.5]\n",
            " [  10.6    7. ]\n",
            " [  11.     9.7]\n",
            " [  11.2    9.8]\n",
            " [  11.3    8.7]\n",
            " [  11.8   10. ]\n",
            " [  11.8    9.9]\n",
            " [  12.     9.8]\n",
            " [  12.2   12.2]\n",
            " [  12.4   13.4]\n",
            " [  13.    12.2]\n",
            " [  14.3   19.7]\n",
            " [  15.    19.9]]\n",
            "(49, 2)\n",
            "[13 45 47 44 17 27 26 25 31 19 12  4 34  8  3  6 40 41 46 15  9 16 24 33\n",
            " 30  0 43 32  5 29 11 36  1 21  2 37 35 23 39 10 22 18 48 20  7 42 14 28\n",
            " 38]\n",
            "[[ 26.3 290. ]\n",
            " [ 29.  363. ]]\n"
          ]
        }
      ]
    },
    {
      "cell_type": "code",
      "source": [
        "#당연히 슬라이싱을 이용한 조합도 가능하다.\n",
        "train_input = input_arr[ index[:35] ]\n",
        "test_input = input_arr[ index[35:] ]\n",
        "print(input_arr[13], train_input[0])  # 첫 난수는 13. 따라서 같은 결과 출력. \n",
        "\n",
        "train_target = target_arr[ index[:35]]\n",
        "test_target = target_arr[ index[35:]]\n",
        "\n",
        "import matplotlib.pyplot as plt\n",
        "plt.scatter(train_input[:,0], train_input[:,1], marker='o', color='blue')\n",
        "plt.scatter(test_input[:,0], test_input[:,1], marker='s', color='red')\n",
        "plt.xlabel('length')\n",
        "plt.ylabel('height')\n",
        "plt.show()"
      ],
      "metadata": {
        "colab": {
          "base_uri": "https://localhost:8080/",
          "height": 297
        },
        "id": "y0wmRJnO8SN0",
        "outputId": "059a9267-fdfb-4e37-c441-016359b7446b"
      },
      "execution_count": 32,
      "outputs": [
        {
          "output_type": "stream",
          "name": "stdout",
          "text": [
            "[ 32. 340.] [ 32. 340.]\n"
          ]
        },
        {
          "output_type": "display_data",
          "data": {
            "image/png": "[encoded data removed]",
            "text/plain": [
              "<Figure size 432x288 with 1 Axes>"
            ]
          },
          "metadata": {
            "needs_background": "light"
          }
        }
      ]
    },
    {
      "cell_type": "markdown",
      "source": [
        "다시 해본 머신러닝 프로그램"
      ],
      "metadata": {
        "id": "E8GRKfrN9zxU"
      }
    },
    {
      "cell_type": "code",
      "source": [
        "kn = kn.fit(train_input, train_target)\n",
        "print(kn.score(test_input, test_target)) \n",
        "# 1.0 100% 확률!!\n",
        "\n",
        "#예측해보고 비교해보기\n",
        "print(kn.predict(test_input))\n",
        "print(test_target)"
      ],
      "metadata": {
        "colab": {
          "base_uri": "https://localhost:8080/"
        },
        "id": "kuXm4r109zV9",
        "outputId": "4fbc8fe0-b2df-43d4-b849-6500d9eff7ed"
      },
      "execution_count": 35,
      "outputs": [
        {
          "output_type": "stream",
          "name": "stdout",
          "text": [
            "1.0\n",
            "[0 0 1 0 1 1 1 0 1 1 0 1 1 0]\n",
            "[0 0 1 0 1 1 1 0 1 1 0 1 1 0]\n"
          ]
        }
      ]
    },
    {
      "cell_type": "markdown",
      "source": [
        "### 확인문제 풀이\n",
        "\n",
        "\n"
      ],
      "metadata": {
        "id": "XqISWG-7_SFj"
      }
    },
    {
      "cell_type": "markdown",
      "source": [
        "#### 1. 머신러닝 알고리즘의 한 종류로서 샘플의 입력과 타깃(정답)을 알고 있을 때 사용할 수 있는 학습 방법은 무엇인가요?\n",
        "샘플의 타깃을 알고 있다면 지도학습이 효과적입니다. \n",
        "\n",
        "#### 2. 훈련 세트와 테스트 세트가 잘못 만들어져 전체 데이터를 대표하지 못하는 현상을 무엇이라고 부르나요?\n",
        "샘플링 편향(sampling bias)라고 합니다. 우물안 개구리 같은 케이스입니다.\n",
        "\n",
        "#### 3. 사이킷런은 입력 데이터(배열)가 어떻게 구성되어 있을 것으로 기대하나요?\n",
        "사이킷런의 입력 데이터(배열)은 행은 데이터, 즉 샘플을 나타내며 열은 특성을 나타냅니다. 예를 들어 키와 몸무게를 가진 도미의 데이터가 10개가 있다면, 행은 샘플 데이터의 쌍 10개가 되는 것이고 열은 키워 몸무게, 즉 2개의 특성이 됩니다."
      ],
      "metadata": {
        "id": "_e272I3dAwV_"
      }
    },
    {
      "cell_type": "markdown",
      "source": [
        "## 챕터02-2 데이터 전처리"
      ],
      "metadata": {
        "id": "SaGx_VcsBqOA"
      }
    },
    {
      "cell_type": "markdown",
      "source": [
        "### 넘파이로 데이터 준비하기(좀 더 세련된 방법)"
      ],
      "metadata": {
        "id": "u-RhxXGjBtIS"
      }
    },
    {
      "cell_type": "code",
      "source": [
        "# http://bit.ly/bream_smelt\n",
        "fish_length = [25.4, 26.3, 26.5, 29.0, 29.0, 29.7, 29.7, 30.0, 30.0, 30.7, 31.0, 31.0, \n",
        "                31.5, 32.0, 32.0, 32.0, 33.0, 33.0, 33.5, 33.5, 34.0, 34.0, 34.5, 35.0, \n",
        "                35.0, 35.0, 35.0, 36.0, 36.0, 37.0, 38.5, 38.5, 39.5, 41.0, 41.0, 9.8, \n",
        "                10.5, 10.6, 11.0, 11.2, 11.3, 11.8, 11.8, 12.0, 12.2, 12.4, 13.0, 14.3, 15.0]\n",
        "fish_weight = [242.0, 290.0, 340.0, 363.0, 430.0, 450.0, 500.0, 390.0, 450.0, 500.0, 475.0, 500.0, \n",
        "                500.0, 340.0, 600.0, 600.0, 700.0, 700.0, 610.0, 650.0, 575.0, 685.0, 620.0, 680.0, \n",
        "                700.0, 725.0, 720.0, 714.0, 850.0, 1000.0, 920.0, 955.0, 925.0, 975.0, 950.0, 6.7, \n",
        "                7.5, 7.0, 9.7, 9.8, 8.7, 10.0, 9.9, 9.8, 12.2, 13.4, 12.2, 19.7, 19.9]\n",
        "import numpy as np\n",
        "# np.column_stack(([1,2,3],[4,5,6]))  # comumn_stack은 넘겨준 두 리스트를 나란히 합쳐준다.\n",
        "fish_data = np.column_stack((fish_length, fish_weight))\n",
        "print(fish_data[:5])\n",
        "\n",
        "fish_target = np.concatenate((np.ones(35), np.zeros(14)))\n",
        "print(fish_target)"
      ],
      "metadata": {
        "colab": {
          "base_uri": "https://localhost:8080/"
        },
        "id": "4zxO9NhrBx3Z",
        "outputId": "8353674a-c28b-4fd2-c73e-c252f0901b60"
      },
      "execution_count": 87,
      "outputs": [
        {
          "output_type": "stream",
          "name": "stdout",
          "text": [
            "[[ 25.4 242. ]\n",
            " [ 26.3 290. ]\n",
            " [ 26.5 340. ]\n",
            " [ 29.  363. ]\n",
            " [ 29.  430. ]]\n",
            "[1. 1. 1. 1. 1. 1. 1. 1. 1. 1. 1. 1. 1. 1. 1. 1. 1. 1. 1. 1. 1. 1. 1. 1.\n",
            " 1. 1. 1. 1. 1. 1. 1. 1. 1. 1. 1. 0. 0. 0. 0. 0. 0. 0. 0. 0. 0. 0. 0. 0.\n",
            " 0.]\n"
          ]
        }
      ]
    },
    {
      "cell_type": "markdown",
      "source": [
        "### 사이킷런으로 훈련 세트와 데이터 세트 나누기(세련된 방법)"
      ],
      "metadata": {
        "id": "VEcJq77gDUoc"
      }
    },
    {
      "cell_type": "code",
      "source": [
        "from sklearn.model_selection import train_test_split\n",
        "train_input, test_input, train_target, test_target = train_test_split(fish_data, fish_target, random_state=42)\n",
        "# 기본적으로 25%가 테스트 세트로 설정된다.\n",
        "print(train_input.shape, test_input.shape)\n",
        "print(train_target.shape, test_target.shape)\n",
        "print(train_target)\n",
        "print(test_target)"
      ],
      "metadata": {
        "colab": {
          "base_uri": "https://localhost:8080/"
        },
        "id": "lPogvr4qDhBq",
        "outputId": "6cac5143-7587-40d6-ac3d-b7fcad6dbe7d"
      },
      "execution_count": 88,
      "outputs": [
        {
          "output_type": "stream",
          "name": "stdout",
          "text": [
            "(36, 2) (13, 2)\n",
            "(36,) (13,)\n",
            "[1. 1. 1. 0. 0. 0. 1. 1. 1. 1. 1. 1. 1. 0. 1. 1. 1. 1. 0. 1. 1. 1. 0. 0.\n",
            " 1. 0. 1. 1. 1. 0. 1. 1. 0. 1. 1. 0.]\n",
            "[1. 0. 0. 0. 1. 1. 1. 1. 1. 1. 1. 1. 1.]\n"
          ]
        }
      ]
    },
    {
      "cell_type": "markdown",
      "source": [
        "### 사이킷런으로 훈련 세트와 데이터 세트 나누기(쫌 더 세련-데이터 비율을 같게)"
      ],
      "metadata": {
        "id": "cUr7usVDEely"
      }
    },
    {
      "cell_type": "code",
      "source": [
        "# 데이터 수가 적거나 특정 클래스의 샘플 개수가 적을 때는 stratify 매개변수를 지정해서 사용한다.\n",
        "\n",
        "from sklearn.model_selection import train_test_split\n",
        "train_input, test_input, train_target, test_target = train_test_split(fish_data, fish_target, stratify=fish_target, random_state=42)\n",
        "# 기본적으로 25%가 테스트 세트로 설정된다.\n",
        "print(train_input.shape, test_input.shape)\n",
        "print(train_target.shape, test_target.shape)\n",
        "print(train_target)\n",
        "print(test_target)"
      ],
      "metadata": {
        "colab": {
          "base_uri": "https://localhost:8080/"
        },
        "id": "EvUWkh5fEjZ2",
        "outputId": "36958aa3-b9d3-4938-e355-c6d1b5545286"
      },
      "execution_count": 89,
      "outputs": [
        {
          "output_type": "stream",
          "name": "stdout",
          "text": [
            "(36, 2) (13, 2)\n",
            "(36,) (13,)\n",
            "[1. 0. 1. 0. 1. 1. 1. 1. 1. 1. 1. 0. 1. 0. 1. 1. 1. 1. 1. 0. 1. 1. 0. 1.\n",
            " 0. 1. 0. 1. 1. 1. 0. 1. 1. 0. 1. 1.]\n",
            "[0. 0. 1. 0. 1. 0. 1. 1. 1. 1. 1. 1. 1.]\n"
          ]
        }
      ]
    },
    {
      "cell_type": "markdown",
      "source": [
        "### 수상한 도미 한 마리(특성 값을 이해하지 않고 그대로 쓰면 일어나는 일)"
      ],
      "metadata": {
        "id": "EJQ44nv6FENG"
      }
    },
    {
      "cell_type": "code",
      "source": [
        "from sklearn.neighbors import KNeighborsClassifier\n",
        "kn = KNeighborsClassifier()\n",
        "kn.fit(train_input, train_target)\n",
        "kn.score(test_input, test_target)\n",
        "\n",
        "# 빙어일꺼라 생각하고 데이터를 넣었으나.... 시궁창!\n",
        "print(kn.predict([[25,150]]))"
      ],
      "metadata": {
        "colab": {
          "base_uri": "https://localhost:8080/"
        },
        "id": "No0TNLzyFGs4",
        "outputId": "8bc5b3f3-2426-4c04-ce69-21b23adc92c2"
      },
      "execution_count": 90,
      "outputs": [
        {
          "output_type": "stream",
          "name": "stdout",
          "text": [
            "[0.]\n"
          ]
        }
      ]
    },
    {
      "cell_type": "code",
      "source": [
        "import matplotlib.pyplot as plt\n",
        "plt.scatter(train_input[:,0], train_input[:,1], marker=\"s\", color=\"green\")\n",
        "plt.scatter(25, 150, marker=\"x\", color=\"red\")\n",
        "plt.xlabel(\"length\")\n",
        "plt.ylabel(\"height\")\n",
        "plt.show()"
      ],
      "metadata": {
        "colab": {
          "base_uri": "https://localhost:8080/",
          "height": 279
        },
        "id": "ROUj7zxoFfA7",
        "outputId": "7c02d26c-d5d0-4215-dd17-86ec9fb0397d"
      },
      "execution_count": 91,
      "outputs": [
        {
          "output_type": "display_data",
          "data": {
            "image/png": "[encoded data removed]",
            "text/plain": [
              "<Figure size 432x288 with 1 Axes>"
            ]
          },
          "metadata": {
            "needs_background": "light"
          }
        }
      ]
    },
    {
      "cell_type": "code",
      "source": [
        "# 25,150 좌표의 이웃 찾아서 표시하기\n",
        "distances, indexes = kn.kneighbors([[25,150]])\n",
        "plt.scatter(train_input[:,0], train_input[:,1], marker=\"s\", color=\"green\")\n",
        "plt.scatter(25, 150, marker=\"x\", color=\"red\")\n",
        "plt.scatter(train_input[indexes, 0], train_input[indexes, 1], color=\"skyblue\", marker=\"D\")\n",
        "plt.xlabel(\"length\")\n",
        "plt.ylabel(\"height\")\n",
        "plt.show()\n",
        "\n",
        "# 눈으로 봐서는 도미로 분류되어야 할 것 같은데 빙어로 분류된다.\n",
        "# 그 이유는 특성의 값의 범위가 달라서 그런 것으로 그래프상으로 x값으 변화가 큰 것 같지만 y값에 비해\n",
        "# 압도적으로 수치가 작아서 그 영향이 적다. 영향 비율이 같도록 조정해줄 필요가 있다.\n",
        "print(distances)\n"
      ],
      "metadata": {
        "colab": {
          "base_uri": "https://localhost:8080/",
          "height": 297
        },
        "id": "cqHXh17zGD7p",
        "outputId": "cde7b127-90a8-422d-b868-b2bfc7d5c7d9"
      },
      "execution_count": 92,
      "outputs": [
        {
          "output_type": "display_data",
          "data": {
            "image/png": "[encoded data removed]",
            "text/plain": [
              "<Figure size 432x288 with 1 Axes>"
            ]
          },
          "metadata": {
            "needs_background": "light"
          }
        },
        {
          "output_type": "stream",
          "name": "stdout",
          "text": [
            "[[ 92.00086956 130.48375378 130.73859415 138.32150953 138.39320793]]\n"
          ]
        }
      ]
    },
    {
      "cell_type": "markdown",
      "source": [
        "### 기준 맞추기(스케일 차이 맞추기)"
      ],
      "metadata": {
        "id": "VyGOLrP9Huvk"
      }
    },
    {
      "cell_type": "code",
      "source": [
        "# 25,150 좌표의 이웃 찾아서 표시하기\n",
        "distances, indexes = kn.kneighbors([[25,150]])\n",
        "plt.scatter(train_input[:,0], train_input[:,1], marker=\"s\", color=\"green\")\n",
        "plt.scatter(25, 150, marker=\"x\", color=\"red\")\n",
        "plt.scatter(train_input[indexes, 0], train_input[indexes, 1], color=\"skyblue\", marker=\"D\")\n",
        "plt.xlim((0,1000))\n",
        "plt.xlabel(\"length\")\n",
        "plt.ylabel(\"height\")\n",
        "plt.show()\n",
        "\n",
        "# 눈으로 봐서는 도미로 분류되어야 할 것 같은데 빙어로 분류된다.\n",
        "# 그 이유는 특성의 값의 범위가 달라서 그런 것으로 그래프상으로 x값으 변화가 큰 것 같지만 y값에 비해\n",
        "# 압도적으로 수치가 작아서 그 영향이 적다. 영향 비율이 같도록 조정해줄 필요가 있다.\n",
        "print(distances)\n",
        "\n",
        "# x값 특성은 무시되다시피 되고 있다."
      ],
      "metadata": {
        "colab": {
          "base_uri": "https://localhost:8080/",
          "height": 297
        },
        "id": "o_kqvvfGHtyd",
        "outputId": "02a1fc9d-c6ce-4d81-d8cb-4856538fc6fe"
      },
      "execution_count": 93,
      "outputs": [
        {
          "output_type": "display_data",
          "data": {
            "image/png": "[encoded data removed]",
            "text/plain": [
              "<Figure size 432x288 with 1 Axes>"
            ]
          },
          "metadata": {
            "needs_background": "light"
          }
        },
        {
          "output_type": "stream",
          "name": "stdout",
          "text": [
            "[[ 92.00086956 130.48375378 130.73859415 138.32150953 138.39320793]]\n"
          ]
        }
      ]
    },
    {
      "cell_type": "code",
      "source": [
        "#평균\n",
        "mean = np.mean(train_input, axis=0)\n",
        "#표준편차\n",
        "std = np.std(train_input, axis=0)\n",
        "print(mean, std)\n",
        "\n",
        "# 브로드캐스팅 기능을 사용하여 일괄 값 계산 적용 \n",
        "train_scaled = (train_input - mean) / std"
      ],
      "metadata": {
        "colab": {
          "base_uri": "https://localhost:8080/"
        },
        "id": "lFkUct16HtsD",
        "outputId": "59aaa20e-3b6f-4995-807d-da5203907aad"
      },
      "execution_count": 94,
      "outputs": [
        {
          "output_type": "stream",
          "name": "stdout",
          "text": [
            "[ 27.29722222 454.09722222] [  9.98244253 323.29893931]\n"
          ]
        }
      ]
    },
    {
      "cell_type": "markdown",
      "source": [
        "### 전처리 데이터 모델 훈련"
      ],
      "metadata": {
        "id": "AfCbHkNdJbRT"
      }
    },
    {
      "cell_type": "code",
      "source": [
        "new_fish = [25, 150]\n",
        "\n",
        "plt.scatter(train_scaled[:,0], train_scaled[:,1], marker=\"s\", color=\"green\")\n",
        "plt.scatter(new_fish[0], new_fish[1], marker=\"x\", color=\"red\")\n",
        "plt.xlabel(\"length\")\n",
        "plt.ylabel(\"height\")\n",
        "plt.show()\n",
        "\n",
        "# 이런! 새 물고기 수치도 스케일 변환해줘야 한다."
      ],
      "metadata": {
        "colab": {
          "base_uri": "https://localhost:8080/",
          "height": 279
        },
        "id": "QGng3DU2Jc3Y",
        "outputId": "e0fe5d3e-ea34-4e46-a8e2-c69505246fcf"
      },
      "execution_count": 95,
      "outputs": [
        {
          "output_type": "display_data",
          "data": {
            "image/png": "[encoded data removed]",
            "text/plain": [
              "<Figure size 432x288 with 1 Axes>"
            ]
          },
          "metadata": {
            "needs_background": "light"
          }
        }
      ]
    },
    {
      "cell_type": "code",
      "source": [
        "new_fish = ([25, 150] - mean) / std\n",
        "\n",
        "plt.scatter(train_scaled[:,0], train_scaled[:,1], marker=\"s\", color=\"green\")\n",
        "plt.scatter(new_fish[0], new_fish[1], marker=\"x\", color=\"red\")\n",
        "plt.xlabel(\"length\")\n",
        "plt.ylabel(\"height\")\n",
        "plt.show()\n",
        "# x축과 y축의 값의 범위가 -1.5 ~ 1.5 사이 정도로 바뀌었다."
      ],
      "metadata": {
        "colab": {
          "base_uri": "https://localhost:8080/",
          "height": 279
        },
        "id": "EdX3bs_LKEds",
        "outputId": "6e515327-d60c-49a2-9e2f-c69c3b66f272"
      },
      "execution_count": 96,
      "outputs": [
        {
          "output_type": "display_data",
          "data": {
            "image/png": "[encoded data removed]",
            "text/plain": [
              "<Figure size 432x288 with 1 Axes>"
            ]
          },
          "metadata": {
            "needs_background": "light"
          }
        }
      ]
    },
    {
      "cell_type": "code",
      "source": [
        "print(test_input)\n",
        "test_scaled = (test_input - mean) / std\n",
        "kn.fit(train_scaled, train_target)\n",
        "\n",
        "# 이제는 맞추겠지?\n",
        "kn.score(test_scaled, test_target)"
      ],
      "metadata": {
        "colab": {
          "base_uri": "https://localhost:8080/"
        },
        "id": "IqXDiIv3KuFk",
        "outputId": "808b6391-8ca6-4cf7-a726-147a2cc110b1"
      },
      "execution_count": 100,
      "outputs": [
        {
          "output_type": "stream",
          "name": "stdout",
          "text": [
            "[[ 11.    9.7]\n",
            " [ 11.8   9.9]\n",
            " [ 29.7 450. ]\n",
            " [ 11.8  10. ]\n",
            " [ 26.5 340. ]\n",
            " [ 12.4  13.4]\n",
            " [ 34.  685. ]\n",
            " [ 34.  575. ]\n",
            " [ 38.5 920. ]\n",
            " [ 35.  680. ]\n",
            " [ 26.3 290. ]\n",
            " [ 31.  500. ]\n",
            " [ 41.  950. ]]\n"
          ]
        },
        {
          "output_type": "execute_result",
          "data": {
            "text/plain": [
              "1.0"
            ]
          },
          "metadata": {},
          "execution_count": 100
        }
      ]
    },
    {
      "cell_type": "code",
      "source": [
        "print(kn.predict([new_fish]))\n",
        "# 이제 제대로 도미로 나온다."
      ],
      "metadata": {
        "colab": {
          "base_uri": "https://localhost:8080/"
        },
        "id": "r6OO6YQkMX8n",
        "outputId": "3002bdf2-e3c3-424e-f0d4-48a0c62af9ce"
      },
      "execution_count": 101,
      "outputs": [
        {
          "output_type": "stream",
          "name": "stdout",
          "text": [
            "[1.]\n"
          ]
        }
      ]
    },
    {
      "cell_type": "code",
      "source": [
        "new_fish = ([25, 150] - mean) / std\n",
        "distances, indexes = kn.kneighbors([new_fish])\n",
        "\n",
        "plt.scatter(train_scaled[:,0], train_scaled[:,1], marker=\"s\", color=\"green\")\n",
        "plt.scatter(new_fish[0], new_fish[1], marker=\"x\", color=\"red\")\n",
        "plt.scatter(train_scaled[indexes,0], train_scaled[indexes,1], marker=\"D\", color=\"skyblue\")\n",
        "plt.xlabel(\"length\")\n",
        "plt.ylabel(\"height\")\n",
        "plt.show()\n",
        "# 이웃하는 점이 바뀌었다! 도미쪽으로 확실히 붙어있는 것을 확인할 수 있다."
      ],
      "metadata": {
        "colab": {
          "base_uri": "https://localhost:8080/",
          "height": 279
        },
        "id": "_fyZMx2CMoFt",
        "outputId": "2be6069d-c39a-43ef-8e62-b5dd1d38088a"
      },
      "execution_count": 104,
      "outputs": [
        {
          "output_type": "display_data",
          "data": {
            "image/png": "[encoded data removed]",
            "text/plain": [
              "<Figure size 432x288 with 1 Axes>"
            ]
          },
          "metadata": {
            "needs_background": "light"
          }
        }
      ]
    },
    {
      "cell_type": "markdown",
      "source": [
        "### 확인문제 풀이"
      ],
      "metadata": {
        "id": "CvwmZFDnBvQ5"
      }
    },
    {
      "cell_type": "markdown",
      "source": [
        "#### 1. 이 방식은 스케일 조정 방식 중의 하나로 특성값을 0에서 표준편차의 몇 배수만큼 떨어져 있는지로 변환한 값입니다. 이 값을 무엇이라 부르나요?\n",
        "표준점수\n",
        "#### 2. 테스트 세트의 스케일을 조정하려고 합니다. 다음 중 어떤 데이터의 통계 값을 사용해야 하나요?\n",
        "전체 데이터(훈련 데이터, 테스트 데이터)를 모두 스케일 조정을 해줘야 합니다!"
      ],
      "metadata": {
        "id": "K7EXbtaqN-G7"
      }
    },
    {
      "cell_type": "markdown",
      "source": [
        "# 2주차 Chapter 03\n",
        "* 강의: [3강 마켓과 머신러닝](https://www.youtube.com/watch?v=GOCVVSMeIf8&list=PLJN246lAkhQjoU0C4v8FgtbjOIXxSs_4Q&index=3)\n",
        "* 기본미션: Ch. 03(03-1) 2번 문제 출력 그래프 인증샷\n",
        "* 선택미션: 모델 파라미터에 대해 설명하기"
      ],
      "metadata": {
        "id": "rvUQWguQnYBV"
      }
    }
  ]
}