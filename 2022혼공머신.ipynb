{
  "nbformat": 4,
  "nbformat_minor": 0,
  "metadata": {
    "colab": {
      "name": "2022혼공머신.ipynb",
      "provenance": [],
      "collapsed_sections": [
        "7XVNi6FmWdci",
        "rCI6lrzJsVI_",
        "KeQXDwaIS1fO",
        "eZgpkdoCNx3f",
        "CIkR-Q2BN2VD",
        "pheEtpkJOg7J",
        "-jAKf25oQsfF",
        "LZF_TkZeQynW",
        "XRQLeWDDRBmp",
        "Y96-oOEqSbxp",
        "6E72M9mjS-IQ",
        "9Sj3oJd-WS36",
        "1aqV4GsyHxF0",
        "VCvCO1iRrIZN",
        "7BCoQOLsrLVq",
        "HFAZq3B3rRqs",
        "R2lHLY7gXnlD",
        "G0g_UIjTXq6M",
        "mKzzGSqKXqwh",
        "RNbV_IpiXqm5",
        "i4R7_612Xqhw",
        "5fntqyvrXqaj"
      ],
      "authorship_tag": "ABX9TyP8Ca441Ev43524ygyn8vNR",
      "include_colab_link": true
    },
    "kernelspec": {
      "name": "python3",
      "display_name": "Python 3"
    },
    "language_info": {
      "name": "python"
    },
    "accelerator": "TPU"
  },
  "cells": [
    {
      "cell_type": "markdown",
      "metadata": {
        "id": "view-in-github",
        "colab_type": "text"
      },
      "source": [
        "<a href=\"https://colab.research.google.com/github/progh2/singlestudymldl/blob/main/2022%ED%98%BC%EA%B3%B5%EB%A8%B8%EC%8B%A0.ipynb\" target=\"_parent\"><img src=\"https://colab.research.google.com/assets/colab-badge.svg\" alt=\"Open In Colab\"/></a>"
      ]
    },
    {
      "cell_type": "markdown",
      "source": [
        "# 혼공 미션\n",
        "* [혼공학습단 7기 도서 별 미션과 커리큘럼](https://hongong.hanbit.co.kr/%ed%98%bc%ea%b3%b5-%ea%b2%8c%ec%8b%9c%ed%8c%90/?uid=46&mod=document&pageid=1&fbclid=IwAR2sr9Al27oQgCJgQNaEhit_bDJLSg5BsIgLjsl6SvVeA80te5KpabSjUyI)\n",
        "* [개인 SNS 미션 올리기]()\n",
        "* [혼공 페이스북 스터디 그룹(인증 공유)](https://www.facebook.com/groups/301584907425640)\n",
        "* [강의 유튜브 목록](https://www.youtube.com/watch?v=J6wehCO_c58&list=PLJN246lAkhQjoU0C4v8FgtbjOIXxSs_4Q)\n",
        "* 미션 ![미션](https://user-images.githubusercontent.com/1307187/149649965-8c958615-2079-49d7-a055-64b4c1d9de48.png)\n",
        "\n",
        "* 내 블로그(네이버) : https://blog.naver.com/progh2 \n",
        "* 내 깃허브 저장소: https://github.com/progh2/singlestudymldl\n",
        "\n",
        "+ 넘파이 튜터리얼: http://ml-ko.kr/homl2/tools_numpy.html\n",
        "+ 판다스 튜토리얼: http://ml-ko.kr/homl2/tools_pandas.html"
      ],
      "metadata": {
        "id": "3tfNToWXfvTr"
      }
    },
    {
      "cell_type": "markdown",
      "source": [
        "## 코랩 기본 설정 \n",
        "출처 : [한글 폰트 설정 등](https://aubreyjeong.tistory.com/entry/%EA%B5%AC%EA%B8%80-%EC%BD%94%EB%9E%A9-%ED%8C%81%EA%B3%BC-%ED%99%98%EA%B2%BD-%EC%84%A4%EC%A0%95-%EB%B0%A9%EB%B2%95)"
      ],
      "metadata": {
        "id": "humUJAVaVPM2"
      }
    },
    {
      "cell_type": "code",
      "source": [
        "# Google Colab matplotlib 한글 폰트 오류 문제 해결\n",
        "\n",
        "# 1. 나눔 폰트 다운\n",
        "!sudo apt-get install -y fonts-nanum\n",
        "!sudo fc-cache -fv\n",
        "!rm ~/.cache/matplotlib -rf\n",
        "\n",
        "# 2. 런타임 다시 시작\n",
        "\n",
        "# 3. matplotlib의 폰트를 Nanum 폰트로 지정\n",
        "import matplotlib.pyplot as plt\n",
        "plt.rc('font', family='NanumBarunGothic')\n",
        "\n",
        "import numpy as np\n",
        "from sklearn.model_selection import train_test_split"
      ],
      "metadata": {
        "colab": {
          "base_uri": "https://localhost:8080/"
        },
        "id": "DCqOHvKVVPoB",
        "outputId": "6d8e4e52-9e0f-41dd-9baa-321fc70814a7"
      },
      "execution_count": null,
      "outputs": [
        {
          "output_type": "stream",
          "name": "stdout",
          "text": [
            "Reading package lists... Done\n",
            "Building dependency tree       \n",
            "Reading state information... Done\n",
            "fonts-nanum is already the newest version (20170925-1).\n",
            "0 upgraded, 0 newly installed, 0 to remove and 37 not upgraded.\n",
            "/usr/share/fonts: caching, new cache contents: 0 fonts, 1 dirs\n",
            "/usr/share/fonts/truetype: caching, new cache contents: 0 fonts, 3 dirs\n",
            "/usr/share/fonts/truetype/humor-sans: caching, new cache contents: 1 fonts, 0 dirs\n",
            "/usr/share/fonts/truetype/liberation: caching, new cache contents: 16 fonts, 0 dirs\n",
            "/usr/share/fonts/truetype/nanum: caching, new cache contents: 10 fonts, 0 dirs\n",
            "/usr/local/share/fonts: caching, new cache contents: 0 fonts, 0 dirs\n",
            "/root/.local/share/fonts: skipping, no such directory\n",
            "/root/.fonts: skipping, no such directory\n",
            "/var/cache/fontconfig: cleaning cache directory\n",
            "/root/.cache/fontconfig: not cleaning non-existent cache directory\n",
            "/root/.fontconfig: not cleaning non-existent cache directory\n",
            "fc-cache: succeeded\n"
          ]
        }
      ]
    },
    {
      "cell_type": "markdown",
      "source": [
        "# 1주차 Chapter 01 ~ 02"
      ],
      "metadata": {
        "id": "7XVNi6FmWdci"
      }
    },
    {
      "cell_type": "markdown",
      "source": [
        "* 강의\n",
        "  * [1강 인공지능, 머신러닝 그리고 딥러닝이란 무엇인가?](https://www.youtube.com/watch?v=J6wehCO_c58&list=PLJN246lAkhQjoU0C4v8FgtbjOIXxSs_4Q&index=2)\n",
        "  * [2강 코랩과 주피터 노트북](https://www.youtube.com/watch?v=0l0g7wk9wv4&list=PLJN246lAkhQjoU0C4v8FgtbjOIXxSs_4Q&index=2)\n",
        "  * [3강 마켓과 머신러닝](https://www.youtube.com/watch?v=GOCVVSMeIf8&list=PLJN246lAkhQjoU0C4v8FgtbjOIXxSs_4Q&index=3)\n",
        "  * [4강 훈련 세트와 테스트 세트로 나누어 사용하기](https://www.youtube.com/watch?v=o9kGDpZbmx0&list=PLJN246lAkhQjoU0C4v8FgtbjOIXxSs_4Q&index=4)\n",
        "  * [5강 정교한 결과 도출을 위한 데이터 전처리 알아보기](https://www.youtube.com/watch?v=kaCJ-knm8KU&list=PLJN246lAkhQjoU0C4v8FgtbjOIXxSs_4Q&index=5)\n",
        "* 기본미션: 코랩 실습 화면 캡처하기\n",
        "* 선택미션: Ch.02(02-1) 확인 문제 풀고, 풀이 과정 정리하기\n",
        "* [1주차 복습용 카훗 링크](https://create.kahoot.it/share/2022-01/966b38a0-1bb7-42f5-9a05-67465ed222ed)\n",
        "* [1주차 SNS 업로드(네이버 블로그)](https://blog.naver.com/progh2/222623480295)"
      ],
      "metadata": {
        "id": "s2bQe21Bgs8x"
      }
    },
    {
      "cell_type": "markdown",
      "source": [
        "## 챕터01"
      ],
      "metadata": {
        "id": "40uBoo2sA3ZZ"
      }
    },
    {
      "cell_type": "markdown",
      "source": [
        "### 마크다운 사용법"
      ],
      "metadata": {
        "id": "X4SIvXiMA6tK"
      }
    },
    {
      "cell_type": "markdown",
      "source": [
        "~~~\n",
        "# 제목\n",
        "## 제목2\n",
        "### 제목3\n",
        "#### 제목5\n",
        "~~~\n",
        "\n",
        "~~~\n",
        "**혼공머신**\n",
        "*혼공머신*\n",
        "_혼공머신_\n",
        "~~ 혼공머신 ~~\n",
        "~~~\n",
        "**혼공머신**\n",
        "*혼공머신*\n",
        "_혼공머신_\n",
        "~~ 혼공머신 ~~\n",
        "\n",
        "~~~\n",
        "`print(\"HelloWorld\")`\n",
        "~~~\n",
        "`print(\"HelloWorld\")`\n",
        "\n",
        "~~~\n",
        "> 혼공머신\n",
        "* 혼공머신\n",
        "- 혼공머신\n",
        "[한빛미디어]()\n",
        "![한빛미디어]()\n",
        "$ y = x \\times z$\n",
        "~~~\n",
        "> 혼공머신\n",
        "\n",
        "\n",
        "* 혼공머신\n",
        "- 혼공머신\n",
        "\n",
        "$ y = x \\times z$\n"
      ],
      "metadata": {
        "id": "qY4z_FM-GYS4"
      }
    },
    {
      "cell_type": "markdown",
      "source": [
        "### 도미와 빙어 사진보기"
      ],
      "metadata": {
        "id": "rCI6lrzJsVI_"
      }
    },
    {
      "cell_type": "markdown",
      "source": [
        "\n",
        "#### 도미(bream)\n",
        "![도미사진](https://user-images.githubusercontent.com/1307187/149653507-ccba028d-703f-4153-9795-a00eab751bf7.png)\n",
        "![도미일러스트](https://user-images.githubusercontent.com/1307187/149653533-6df264e6-0112-4960-90a2-5251be77d1bc.png)"
      ],
      "metadata": {
        "id": "8AIwViLvsbho"
      }
    },
    {
      "cell_type": "markdown",
      "source": [
        "#### 빙어(smelt)\n",
        "![빙어사진](https://user-images.githubusercontent.com/1307187/149653442-bacbbf82-a1c1-4f3f-925d-ef66217d9d66.png)\n",
        "![빙어일러스트](https://user-images.githubusercontent.com/1307187/149653486-a5c41682-1360-437f-bae1-22ff2ed1a3fe.png)"
      ],
      "metadata": {
        "id": "yUL_hnw9rEU-"
      }
    },
    {
      "cell_type": "markdown",
      "source": [
        "### 도미(bream) 데이터 살펴보기"
      ],
      "metadata": {
        "id": "84VDtRLash18"
      }
    },
    {
      "cell_type": "code",
      "source": [
        "# https://bit.ly/bream_list 에 접속해서 코드 긁어오기\n",
        "bream_length = [25.4, 26.3, 26.5, 29.0, 29.0, 29.7, 29.7, 30.0, 30.0, 30.7, 31.0, 31.0, \n",
        "                31.5, 32.0, 32.0, 32.0, 33.0, 33.0, 33.5, 33.5, 34.0, 34.0, 34.5, 35.0, \n",
        "                35.0, 35.0, 35.0, 36.0, 36.0, 37.0, 38.5, 38.5, 39.5, 41.0, 41.0]\n",
        "bream_weight = [242.0, 290.0, 340.0, 363.0, 430.0, 450.0, 500.0, 390.0, 450.0, 500.0, 475.0, 500.0, \n",
        "                500.0, 340.0, 600.0, 600.0, 700.0, 700.0, 610.0, 650.0, 575.0, 685.0, 620.0, 680.0, \n",
        "                700.0, 725.0, 720.0, 714.0, 850.0, 1000.0, 920.0, 955.0, 925.0, 975.0, 950.0]\n",
        "\n",
        "\n",
        "import matplotlib.pyplot as plt\n",
        "\n",
        "# scatter plot : 산점도 \n",
        "plt.scatter(bream_length, bream_weight)\n",
        "plt.xlabel('길이')\n",
        "plt.ylabel('무게')\n",
        "plt.show()"
      ],
      "metadata": {
        "colab": {
          "base_uri": "https://localhost:8080/"
        },
        "id": "_SRdB_8ApAU1",
        "outputId": "cb3eeedd-f5b1-40f1-dd56-365c9b40887c"
      },
      "execution_count": null,
      "outputs": [
        {
          "output_type": "display_data",
          "data": {
            "image/png": "[encoded data removed]",
            "text/plain": [
              "<Figure size 432x288 with 1 Axes>"
            ]
          },
          "metadata": {
            "needs_background": "light"
          }
        }
      ]
    },
    {
      "cell_type": "markdown",
      "source": [
        "### 빙어(smelt) 데이터 살펴보기"
      ],
      "metadata": {
        "id": "CEVTlnCmsq31"
      }
    },
    {
      "cell_type": "code",
      "source": [
        "smelt_length = [9.8, 10.5, 10.6, 11.0, 11.2, 11.3, 11.8, 11.8, 12.0, 12.2, 12.4, 13.0, 14.3, 15.0]\n",
        "smelt_weight = [6.7, 7.5, 7.0, 9.7, 9.8, 8.7, 10.0, 9.9, 9.8, 12.2, 13.4, 12.2, 19.7, 19.9]\n",
        "\n",
        "plt.scatter(smelt_length, smelt_weight)\n",
        "plt.xlabel('length')\n",
        "plt.ylabel('weight')\n",
        "plt.show()"
      ],
      "metadata": {
        "colab": {
          "base_uri": "https://localhost:8080/"
        },
        "id": "caw2D3yhpOoH",
        "outputId": "ec903d1d-8442-4463-a5ad-d2af00c477ca"
      },
      "execution_count": null,
      "outputs": [
        {
          "output_type": "display_data",
          "data": {
            "image/png": "[encoded data removed]",
            "text/plain": [
              "<Figure size 432x288 with 1 Axes>"
            ]
          },
          "metadata": {
            "needs_background": "light"
          }
        }
      ]
    },
    {
      "cell_type": "markdown",
      "source": [
        "### 분류 프로그램 만들어보기 "
      ],
      "metadata": {
        "id": "jTsQEmgNs5L1"
      }
    },
    {
      "cell_type": "code",
      "source": [
        "# 데이터 준비 - 도미와 빙어 데이터 합치기 \n",
        "length = bream_length + smelt_length\n",
        "weight = bream_weight + smelt_weight\n",
        "\n",
        "# 두 데이터 한번에 표시하기\n",
        "plt.scatter(bream_length, bream_weight, color='tab:pink', marker='p')\n",
        "plt.scatter(smelt_length, smelt_weight, color='tab:cyan', marker='d')\n",
        "plt.xlabel('length')\n",
        "plt.ylabel('weight')\n",
        "plt.show()\n",
        "\n",
        "# 리스트 내포 사용! 매우 유용!!\n",
        "fish_data = [[l,w] for l, w in zip(length, weight)]"
      ],
      "metadata": {
        "colab": {
          "base_uri": "https://localhost:8080/"
        },
        "id": "3v_TpW3luD-U",
        "outputId": "dd2ee5ba-4fe0-4ea6-c564-63ae35ea063b"
      },
      "execution_count": null,
      "outputs": [
        {
          "output_type": "display_data",
          "data": {
            "image/png": "[encoded data removed]",
            "text/plain": [
              "<Figure size 432x288 with 1 Axes>"
            ]
          },
          "metadata": {
            "needs_background": "light"
          }
        }
      ]
    },
    {
      "cell_type": "code",
      "source": [
        "# 정답 준비 - 도미(1) 데이터 35개와 빙어(0) 데이터 14개 들어간 리스트 초기화\n",
        "# 1 : 도미  \n",
        "# 2 : 빙어\n",
        "fish_target = [1] * 35 + [0] * 14\n",
        "#print(fish_target)\n",
        "# 출력 : [1, 1, 1, 1, 1, 1, 1, 1, 1, 1, 1, 1, 1, 1, 1, 1, 1, 1, 1, 1, 1, 1, 1, 1, 1, 1, 1, 1, 1, 1, 1, 1, 1, 1, 1, 0, 0, 0, 0, 0, 0, 0, 0, 0, 0, 0, 0, 0, 0]\n",
        "\n",
        "#k-최근접 이웃 방식 사용\n",
        "from sklearn.neighbors import KNeighborsClassifier\n",
        "kn = KNeighborsClassifier()\n",
        "kn.fit(fish_data, fish_target)\n",
        "kn.score(fish_data, fish_target)"
      ],
      "metadata": {
        "colab": {
          "base_uri": "https://localhost:8080/"
        },
        "id": "vCKQQJTls__u",
        "outputId": "77c03c05-e6cc-4607-de9f-47fb77afcbd5"
      },
      "execution_count": null,
      "outputs": [
        {
          "output_type": "execute_result",
          "data": {
            "text/plain": [
              "1.0"
            ]
          },
          "metadata": {},
          "execution_count": 5
        }
      ]
    },
    {
      "cell_type": "code",
      "source": [
        "kn = KNeighborsClassifier(n_neighbors=3, p=2)\n",
        "kn.fit(fish_data, fish_target)\n"
      ],
      "metadata": {
        "colab": {
          "base_uri": "https://localhost:8080/"
        },
        "id": "Oyhy1w04ked9",
        "outputId": "d0dd18ef-86b6-41f2-9027-4322554d4836"
      },
      "execution_count": null,
      "outputs": [
        {
          "output_type": "execute_result",
          "data": {
            "text/plain": [
              "KNeighborsClassifier(n_neighbors=3)"
            ]
          },
          "metadata": {},
          "execution_count": 6
        }
      ]
    },
    {
      "cell_type": "code",
      "source": [
        "# 데이터 그래프로 표시해서 보기\n",
        "plt.scatter(bream_length, bream_weight, color='tab:pink', marker='p')\n",
        "plt.scatter(smelt_length, smelt_weight, color='tab:cyan', marker='d')\n",
        "plt.scatter([30], [600], color='tab:red', marker='x')\n",
        "plt.xlabel('length')\n",
        "plt.ylabel('weight')\n",
        "plt.show()\n",
        "\n",
        "# 방금 만든 모델로 새로운 생선 예측해보기\n",
        "kn.predict([ [30,600] ])\n",
        "# 결과가 넘파이 어레이로 1 출력. 1은 도미 0은 빙어"
      ],
      "metadata": {
        "colab": {
          "base_uri": "https://localhost:8080/"
        },
        "id": "9r4qLG7LtFxW",
        "outputId": "efb46b11-d75f-4762-f671-d444656a588e"
      },
      "execution_count": null,
      "outputs": [
        {
          "output_type": "display_data",
          "data": {
            "image/png": "[encoded data removed]",
            "text/plain": [
              "<Figure size 432x288 with 1 Axes>"
            ]
          },
          "metadata": {
            "needs_background": "light"
          }
        },
        {
          "output_type": "execute_result",
          "data": {
            "text/plain": [
              "array([1])"
            ]
          },
          "metadata": {},
          "execution_count": 7
        }
      ]
    },
    {
      "cell_type": "markdown",
      "source": [
        "### 잘못된 예측 방법(무조건 도미로 판단)"
      ],
      "metadata": {
        "id": "jC-v8bGdzPxA"
      }
    },
    {
      "cell_type": "code",
      "source": [
        "kn49 =  KNeighborsClassifier(n_neighbors=len(fish_target))\n",
        "kn49.fit(fish_data, fish_target)\n",
        "print(kn49.score(fish_data, fish_target))\n",
        "\n",
        "# n_neighbors 는 군집하는 데이터 수를 말하는 것으로 위와 같이 파라미터를 설정하면\n",
        "# 전체 데이터를 같은 군집으로 인식하게 된다(전체 데이터 수만큼 묶으라고 했으니)\n",
        "# 따라서 이렇게하면 입력된 데이터를 모두 도미로 판단해서 \n",
        "# 정확도가 71%가 나오게 되는데 이 숫자는 도미개수 비율이랑 똑같다.\n",
        "# 적절한 n_neightbors 수를 지정하는 것이 중요하다.\n",
        "print(35/49)"
      ],
      "metadata": {
        "colab": {
          "base_uri": "https://localhost:8080/"
        },
        "id": "imAk2-kbv8M7",
        "outputId": "f3730dbe-3728-447b-e1bf-bf204443063c"
      },
      "execution_count": null,
      "outputs": [
        {
          "output_type": "stream",
          "name": "stdout",
          "text": [
            "0.7142857142857143\n",
            "0.7142857142857143\n"
          ]
        }
      ]
    },
    {
      "cell_type": "code",
      "source": [
        "kn =  KNeighborsClassifier()\n",
        "kn.fit(fish_data, fish_target)\n",
        "for n in range(5, 50):\n",
        "  # k-최근접 이웃 개수 설정\n",
        "  kn.n_neighbors = n\n",
        "  # 점수 계산\n",
        "  score = kn.score(fish_data, fish_target)\n",
        "  # 100% 정확도에 미치지 못한는 이웃 개수 출력\n",
        "  if score < 1:\n",
        "    print(n, score)\n",
        "    break"
      ],
      "metadata": {
        "colab": {
          "base_uri": "https://localhost:8080/"
        },
        "id": "ESAEfgCTzYmd",
        "outputId": "8539dc2b-c485-4baa-e020-47ba26abe73b"
      },
      "execution_count": null,
      "outputs": [
        {
          "output_type": "stream",
          "name": "stdout",
          "text": [
            "18 0.9795918367346939\n"
          ]
        }
      ]
    },
    {
      "cell_type": "markdown",
      "source": [
        "## 챕터02-1"
      ],
      "metadata": {
        "id": "eJg6NE-d2ndJ"
      }
    },
    {
      "cell_type": "markdown",
      "source": [
        "###훈련 세트, 테스트 세트, 샘플"
      ],
      "metadata": {
        "id": "0gCK8DtUAlyn"
      }
    },
    {
      "cell_type": "code",
      "source": [
        "# 데이터 준비\n",
        "fish_length = bream_length + smelt_length\n",
        "fish_weight = bream_weight + smelt_weight\n",
        "fish_data = [ [l, w] for l, w in zip(fish_length, fish_weight)]\n",
        "fish_target = [1] * len(bream_length) + [0] * len(smelt_length)\n",
        "\n",
        "# 필요 클래스 준비\n",
        "from sklearn.neighbors import KNeighborsClassifier\n",
        "kn = KNeighborsClassifier()\n",
        "\n",
        "# 슬라이싱 연습\n",
        "print(fish_data[:5])\n",
        "print(fish_data[44:])\n",
        "print(fish_data[44:49])\n",
        "\n",
        "# 샘플 데이터를 단순히 슬라이스해서 훈련 세트와 테스트 세트 준비\n",
        "train_input = fish_data[:35]  # 0부터 34 까지 35개 데이터 선택\n",
        "train_target = fish_target[:35]\n",
        "test_input = fish_data[35:] # 35부터 48까지 14개 데이터 선택\n",
        "test_target = fish_target[35:]\n",
        "\n",
        "kn = kn.fit(train_input, train_target)\n",
        "kn.score(test_input, test_target)\n",
        "# 정확도 0.0 신화. 빙어 데이터는 하나도 안알려주고 도미만 훈련시키고 정작 도미 없이 빙어를 물어봐서 일어난 참사.\n",
        "# --> 샘플링 편향 문제!!(sampling bias) "
      ],
      "metadata": {
        "colab": {
          "base_uri": "https://localhost:8080/"
        },
        "id": "4IiFoV1i2yoX",
        "outputId": "d519df21-bd23-450a-90e0-10aebf23b984"
      },
      "execution_count": null,
      "outputs": [
        {
          "output_type": "stream",
          "name": "stdout",
          "text": [
            "[[25.4, 242.0], [26.3, 290.0], [26.5, 340.0], [29.0, 363.0], [29.0, 430.0]]\n",
            "[[12.2, 12.2], [12.4, 13.4], [13.0, 12.2], [14.3, 19.7], [15.0, 19.9]]\n",
            "[[12.2, 12.2], [12.4, 13.4], [13.0, 12.2], [14.3, 19.7], [15.0, 19.9]]\n"
          ]
        },
        {
          "output_type": "execute_result",
          "data": {
            "text/plain": [
              "0.0"
            ]
          },
          "metadata": {},
          "execution_count": 10
        }
      ]
    },
    {
      "cell_type": "markdown",
      "source": [
        "### 넘파이 Numpy를 활용해서 샘플데이터를 섞어서 훈련 세트와 테스트 세트 만들기"
      ],
      "metadata": {
        "id": "LTyqPR3X5z5K"
      }
    },
    {
      "cell_type": "code",
      "source": [
        "import numpy as np\n",
        "input_arr = np.array(fish_data)\n",
        "target_arr = np.array(fish_target)\n",
        "print(input_arr) #예쁘게 출력된다.\n",
        "print(input_arr.shape) # 샘플 수와 특성 수(행렬)인지 알려준다.(샘플 수, 특성 수)\n",
        "\n",
        "# 실제 데이터의 순서를 섞기보다 순서를 나타내는 index를 만들어서 이것을 섞어서\n",
        "# 순서대로 해당 위치값으로 꺼내면 실제 데이터를 섞은 효과가 난다.\n",
        "\n",
        "# 항상 같은 결과를 위하여 랜덤 시드 고정\n",
        "np.random.seed(42)\n",
        "index = np.arange(49)   # 함수에 N을 전달하면 0부터 N-1까지 1씩 증가하는 배열 생성 \n",
        "np.random.shuffle(index) # 넘겨진 배열 값을 변경해버린다.\n",
        "print(index)\n",
        "\n",
        "# 배열 인덱싱. 여러개의 인덱스 값을 넘기면 해당 인덱스가 나타내는 값들을 배열로 뽑아서 와준다.\n",
        "# 예를 들어... 도서번호 13, 15, 21번책 가져다 주세요! 하면 3권의 책들이 있는 가방을 돌려주는 셈\n",
        "print(input_arr[ [1,3] ])"
      ],
      "metadata": {
        "colab": {
          "base_uri": "https://localhost:8080/"
        },
        "id": "KpopShmw52j8",
        "outputId": "eaf529e7-ec3f-4176-92d3-52592f7c9302"
      },
      "execution_count": null,
      "outputs": [
        {
          "output_type": "stream",
          "name": "stdout",
          "text": [
            "[[  25.4  242. ]\n",
            " [  26.3  290. ]\n",
            " [  26.5  340. ]\n",
            " [  29.   363. ]\n",
            " [  29.   430. ]\n",
            " [  29.7  450. ]\n",
            " [  29.7  500. ]\n",
            " [  30.   390. ]\n",
            " [  30.   450. ]\n",
            " [  30.7  500. ]\n",
            " [  31.   475. ]\n",
            " [  31.   500. ]\n",
            " [  31.5  500. ]\n",
            " [  32.   340. ]\n",
            " [  32.   600. ]\n",
            " [  32.   600. ]\n",
            " [  33.   700. ]\n",
            " [  33.   700. ]\n",
            " [  33.5  610. ]\n",
            " [  33.5  650. ]\n",
            " [  34.   575. ]\n",
            " [  34.   685. ]\n",
            " [  34.5  620. ]\n",
            " [  35.   680. ]\n",
            " [  35.   700. ]\n",
            " [  35.   725. ]\n",
            " [  35.   720. ]\n",
            " [  36.   714. ]\n",
            " [  36.   850. ]\n",
            " [  37.  1000. ]\n",
            " [  38.5  920. ]\n",
            " [  38.5  955. ]\n",
            " [  39.5  925. ]\n",
            " [  41.   975. ]\n",
            " [  41.   950. ]\n",
            " [   9.8    6.7]\n",
            " [  10.5    7.5]\n",
            " [  10.6    7. ]\n",
            " [  11.     9.7]\n",
            " [  11.2    9.8]\n",
            " [  11.3    8.7]\n",
            " [  11.8   10. ]\n",
            " [  11.8    9.9]\n",
            " [  12.     9.8]\n",
            " [  12.2   12.2]\n",
            " [  12.4   13.4]\n",
            " [  13.    12.2]\n",
            " [  14.3   19.7]\n",
            " [  15.    19.9]]\n",
            "(49, 2)\n",
            "[13 45 47 44 17 27 26 25 31 19 12  4 34  8  3  6 40 41 46 15  9 16 24 33\n",
            " 30  0 43 32  5 29 11 36  1 21  2 37 35 23 39 10 22 18 48 20  7 42 14 28\n",
            " 38]\n",
            "[[ 26.3 290. ]\n",
            " [ 29.  363. ]]\n"
          ]
        }
      ]
    },
    {
      "cell_type": "code",
      "source": [
        "#당연히 슬라이싱을 이용한 조합도 가능하다.\n",
        "train_input = input_arr[ index[:35] ]\n",
        "test_input = input_arr[ index[35:] ]\n",
        "print(input_arr[13], train_input[0])  # 첫 난수는 13. 따라서 같은 결과 출력. \n",
        "\n",
        "train_target = target_arr[ index[:35]]\n",
        "test_target = target_arr[ index[35:]]\n",
        "\n",
        "import matplotlib.pyplot as plt\n",
        "plt.scatter(train_input[:,0], train_input[:,1], marker='o', color='blue')\n",
        "plt.scatter(test_input[:,0], test_input[:,1], marker='s', color='red')\n",
        "plt.xlabel('length')\n",
        "plt.ylabel('height')\n",
        "plt.show()"
      ],
      "metadata": {
        "colab": {
          "base_uri": "https://localhost:8080/"
        },
        "id": "y0wmRJnO8SN0",
        "outputId": "97202c56-134f-48b7-d019-6b01ff2974a7"
      },
      "execution_count": null,
      "outputs": [
        {
          "output_type": "stream",
          "name": "stdout",
          "text": [
            "[ 32. 340.] [ 32. 340.]\n"
          ]
        },
        {
          "output_type": "display_data",
          "data": {
            "image/png": "[encoded data removed]",
            "text/plain": [
              "<Figure size 432x288 with 1 Axes>"
            ]
          },
          "metadata": {
            "needs_background": "light"
          }
        }
      ]
    },
    {
      "cell_type": "markdown",
      "source": [
        "다시 해본 머신러닝 프로그램"
      ],
      "metadata": {
        "id": "E8GRKfrN9zxU"
      }
    },
    {
      "cell_type": "code",
      "source": [
        "kn = kn.fit(train_input, train_target)\n",
        "print(kn.score(test_input, test_target)) \n",
        "# 1.0 100% 확률!!\n",
        "\n",
        "#예측해보고 비교해보기\n",
        "print(kn.predict(test_input))\n",
        "print(test_target)"
      ],
      "metadata": {
        "colab": {
          "base_uri": "https://localhost:8080/"
        },
        "id": "kuXm4r109zV9",
        "outputId": "5ed73e4e-9cf2-4c5c-8e29-3cc78ec31a22"
      },
      "execution_count": null,
      "outputs": [
        {
          "output_type": "stream",
          "name": "stdout",
          "text": [
            "1.0\n",
            "[0 0 1 0 1 1 1 0 1 1 0 1 1 0]\n",
            "[0 0 1 0 1 1 1 0 1 1 0 1 1 0]\n"
          ]
        }
      ]
    },
    {
      "cell_type": "markdown",
      "source": [
        "### 확인문제 풀이\n",
        "\n",
        "\n"
      ],
      "metadata": {
        "id": "XqISWG-7_SFj"
      }
    },
    {
      "cell_type": "markdown",
      "source": [
        "#### 1. 머신러닝 알고리즘의 한 종류로서 샘플의 입력과 타깃(정답)을 알고 있을 때 사용할 수 있는 학습 방법은 무엇인가요?\n",
        "샘플의 타깃을 알고 있다면 지도학습이 효과적입니다. \n",
        "\n",
        "#### 2. 훈련 세트와 테스트 세트가 잘못 만들어져 전체 데이터를 대표하지 못하는 현상을 무엇이라고 부르나요?\n",
        "샘플링 편향(sampling bias)라고 합니다. 우물안 개구리 같은 케이스입니다.\n",
        "\n",
        "#### 3. 사이킷런은 입력 데이터(배열)가 어떻게 구성되어 있을 것으로 기대하나요?\n",
        "사이킷런의 입력 데이터(배열)은 행은 데이터, 즉 샘플을 나타내며 열은 특성을 나타냅니다. 예를 들어 키와 몸무게를 가진 도미의 데이터가 10개가 있다면, 행은 샘플 데이터의 쌍 10개가 되는 것이고 열은 키워 몸무게, 즉 2개의 특성이 됩니다."
      ],
      "metadata": {
        "id": "_e272I3dAwV_"
      }
    },
    {
      "cell_type": "markdown",
      "source": [
        "## 챕터02-2 데이터 전처리"
      ],
      "metadata": {
        "id": "SaGx_VcsBqOA"
      }
    },
    {
      "cell_type": "markdown",
      "source": [
        "### 넘파이로 데이터 준비하기(좀 더 세련된 방법)"
      ],
      "metadata": {
        "id": "u-RhxXGjBtIS"
      }
    },
    {
      "cell_type": "code",
      "source": [
        "# http://bit.ly/bream_smelt\n",
        "fish_length = [25.4, 26.3, 26.5, 29.0, 29.0, 29.7, 29.7, 30.0, 30.0, 30.7, 31.0, 31.0, \n",
        "                31.5, 32.0, 32.0, 32.0, 33.0, 33.0, 33.5, 33.5, 34.0, 34.0, 34.5, 35.0, \n",
        "                35.0, 35.0, 35.0, 36.0, 36.0, 37.0, 38.5, 38.5, 39.5, 41.0, 41.0, 9.8, \n",
        "                10.5, 10.6, 11.0, 11.2, 11.3, 11.8, 11.8, 12.0, 12.2, 12.4, 13.0, 14.3, 15.0]\n",
        "fish_weight = [242.0, 290.0, 340.0, 363.0, 430.0, 450.0, 500.0, 390.0, 450.0, 500.0, 475.0, 500.0, \n",
        "                500.0, 340.0, 600.0, 600.0, 700.0, 700.0, 610.0, 650.0, 575.0, 685.0, 620.0, 680.0, \n",
        "                700.0, 725.0, 720.0, 714.0, 850.0, 1000.0, 920.0, 955.0, 925.0, 975.0, 950.0, 6.7, \n",
        "                7.5, 7.0, 9.7, 9.8, 8.7, 10.0, 9.9, 9.8, 12.2, 13.4, 12.2, 19.7, 19.9]\n",
        "import numpy as np\n",
        "# np.column_stack(([1,2,3],[4,5,6]))  # comumn_stack은 넘겨준 두 리스트를 나란히 합쳐준다.\n",
        "fish_data = np.column_stack((fish_length, fish_weight))\n",
        "print(fish_data[:5])\n",
        "\n",
        "fish_target = np.concatenate((np.ones(35), np.zeros(14)))\n",
        "print(fish_target)"
      ],
      "metadata": {
        "colab": {
          "base_uri": "https://localhost:8080/"
        },
        "id": "4zxO9NhrBx3Z",
        "outputId": "27f42b7b-803f-4f69-a7bb-c81eba4fb9dd"
      },
      "execution_count": null,
      "outputs": [
        {
          "output_type": "stream",
          "name": "stdout",
          "text": [
            "[[ 25.4 242. ]\n",
            " [ 26.3 290. ]\n",
            " [ 26.5 340. ]\n",
            " [ 29.  363. ]\n",
            " [ 29.  430. ]]\n",
            "[1. 1. 1. 1. 1. 1. 1. 1. 1. 1. 1. 1. 1. 1. 1. 1. 1. 1. 1. 1. 1. 1. 1. 1.\n",
            " 1. 1. 1. 1. 1. 1. 1. 1. 1. 1. 1. 0. 0. 0. 0. 0. 0. 0. 0. 0. 0. 0. 0. 0.\n",
            " 0.]\n"
          ]
        }
      ]
    },
    {
      "cell_type": "markdown",
      "source": [
        "### 사이킷런으로 훈련 세트와 데이터 세트 나누기(세련된 방법)"
      ],
      "metadata": {
        "id": "VEcJq77gDUoc"
      }
    },
    {
      "cell_type": "code",
      "source": [
        "from sklearn.model_selection import train_test_split\n",
        "train_input, test_input, train_target, test_target = train_test_split(fish_data, fish_target, random_state=42)\n",
        "# 기본적으로 25%가 테스트 세트로 설정된다.\n",
        "print(train_input.shape, test_input.shape)\n",
        "print(train_target.shape, test_target.shape)\n",
        "print(train_target)\n",
        "print(test_target)"
      ],
      "metadata": {
        "colab": {
          "base_uri": "https://localhost:8080/"
        },
        "id": "lPogvr4qDhBq",
        "outputId": "da9c5834-3496-4203-84a4-f5e20c4a4364"
      },
      "execution_count": null,
      "outputs": [
        {
          "output_type": "stream",
          "name": "stdout",
          "text": [
            "(36, 2) (13, 2)\n",
            "(36,) (13,)\n",
            "[1. 1. 1. 0. 0. 0. 1. 1. 1. 1. 1. 1. 1. 0. 1. 1. 1. 1. 0. 1. 1. 1. 0. 0.\n",
            " 1. 0. 1. 1. 1. 0. 1. 1. 0. 1. 1. 0.]\n",
            "[1. 0. 0. 0. 1. 1. 1. 1. 1. 1. 1. 1. 1.]\n"
          ]
        }
      ]
    },
    {
      "cell_type": "markdown",
      "source": [
        "### 사이킷런으로 훈련 세트와 데이터 세트 나누기(쫌 더 세련-데이터 비율을 같게)"
      ],
      "metadata": {
        "id": "cUr7usVDEely"
      }
    },
    {
      "cell_type": "code",
      "source": [
        "# 데이터 수가 적거나 특정 클래스의 샘플 개수가 적을 때는 stratify 매개변수를 지정해서 사용한다.\n",
        "\n",
        "from sklearn.model_selection import train_test_split\n",
        "train_input, test_input, train_target, test_target = train_test_split(fish_data, fish_target, stratify=fish_target, random_state=42)\n",
        "# 기본적으로 25%가 테스트 세트로 설정된다.\n",
        "print(train_input.shape, test_input.shape)\n",
        "print(train_target.shape, test_target.shape)\n",
        "print(train_target)\n",
        "print(test_target)"
      ],
      "metadata": {
        "colab": {
          "base_uri": "https://localhost:8080/"
        },
        "id": "EvUWkh5fEjZ2",
        "outputId": "b1ac370f-51f7-4638-91b2-27b350adbb49"
      },
      "execution_count": null,
      "outputs": [
        {
          "output_type": "stream",
          "name": "stdout",
          "text": [
            "(36, 2) (13, 2)\n",
            "(36,) (13,)\n",
            "[1. 0. 1. 0. 1. 1. 1. 1. 1. 1. 1. 0. 1. 0. 1. 1. 1. 1. 1. 0. 1. 1. 0. 1.\n",
            " 0. 1. 0. 1. 1. 1. 0. 1. 1. 0. 1. 1.]\n",
            "[0. 0. 1. 0. 1. 0. 1. 1. 1. 1. 1. 1. 1.]\n"
          ]
        }
      ]
    },
    {
      "cell_type": "markdown",
      "source": [
        "### 수상한 도미 한 마리(특성 값을 이해하지 않고 그대로 쓰면 일어나는 일)"
      ],
      "metadata": {
        "id": "EJQ44nv6FENG"
      }
    },
    {
      "cell_type": "code",
      "source": [
        "from sklearn.neighbors import KNeighborsClassifier\n",
        "kn = KNeighborsClassifier()\n",
        "kn.fit(train_input, train_target)\n",
        "kn.score(test_input, test_target)\n",
        "\n",
        "# 빙어일꺼라 생각하고 데이터를 넣었으나.... 시궁창!\n",
        "print(kn.predict([[25,150]]))"
      ],
      "metadata": {
        "colab": {
          "base_uri": "https://localhost:8080/"
        },
        "id": "No0TNLzyFGs4",
        "outputId": "6a510cff-8878-4ddd-c370-b718028a3384"
      },
      "execution_count": null,
      "outputs": [
        {
          "output_type": "stream",
          "name": "stdout",
          "text": [
            "[0.]\n"
          ]
        }
      ]
    },
    {
      "cell_type": "code",
      "source": [
        "import matplotlib.pyplot as plt\n",
        "plt.scatter(train_input[:,0], train_input[:,1], marker=\"s\", color=\"green\")\n",
        "plt.scatter(25, 150, marker=\"x\", color=\"red\")\n",
        "plt.xlabel(\"length\")\n",
        "plt.ylabel(\"height\")\n",
        "plt.show()"
      ],
      "metadata": {
        "colab": {
          "base_uri": "https://localhost:8080/"
        },
        "id": "ROUj7zxoFfA7",
        "outputId": "8a411e5f-8463-406f-f40f-46d872aada12"
      },
      "execution_count": null,
      "outputs": [
        {
          "output_type": "display_data",
          "data": {
            "image/png": "[encoded data removed]",
            "text/plain": [
              "<Figure size 432x288 with 1 Axes>"
            ]
          },
          "metadata": {
            "needs_background": "light"
          }
        }
      ]
    },
    {
      "cell_type": "code",
      "source": [
        "# 25,150 좌표의 이웃 찾아서 표시하기\n",
        "distances, indexes = kn.kneighbors([[25,150]])\n",
        "plt.scatter(train_input[:,0], train_input[:,1], marker=\"s\", color=\"green\")\n",
        "plt.scatter(25, 150, marker=\"x\", color=\"red\")\n",
        "plt.scatter(train_input[indexes, 0], train_input[indexes, 1], color=\"skyblue\", marker=\"D\")\n",
        "plt.xlabel(\"length\")\n",
        "plt.ylabel(\"height\")\n",
        "plt.show()\n",
        "\n",
        "# 눈으로 봐서는 도미로 분류되어야 할 것 같은데 빙어로 분류된다.\n",
        "# 그 이유는 특성의 값의 범위가 달라서 그런 것으로 그래프상으로 x값으 변화가 큰 것 같지만 y값에 비해\n",
        "# 압도적으로 수치가 작아서 그 영향이 적다. 영향 비율이 같도록 조정해줄 필요가 있다.\n",
        "print(distances)\n"
      ],
      "metadata": {
        "colab": {
          "base_uri": "https://localhost:8080/"
        },
        "id": "cqHXh17zGD7p",
        "outputId": "a3c93942-48b6-4cc6-d9c8-37c14df322c9"
      },
      "execution_count": null,
      "outputs": [
        {
          "output_type": "display_data",
          "data": {
            "image/png": "[encoded data removed]",
            "text/plain": [
              "<Figure size 432x288 with 1 Axes>"
            ]
          },
          "metadata": {
            "needs_background": "light"
          }
        },
        {
          "output_type": "stream",
          "name": "stdout",
          "text": [
            "[[ 92.00086956 130.48375378 130.73859415 138.32150953 138.39320793]]\n"
          ]
        }
      ]
    },
    {
      "cell_type": "markdown",
      "source": [
        "### 기준 맞추기(스케일 차이 맞추기)"
      ],
      "metadata": {
        "id": "VyGOLrP9Huvk"
      }
    },
    {
      "cell_type": "code",
      "source": [
        "# 25,150 좌표의 이웃 찾아서 표시하기\n",
        "distances, indexes = kn.kneighbors([[25,150]])\n",
        "plt.scatter(train_input[:,0], train_input[:,1], marker=\"s\", color=\"green\")\n",
        "plt.scatter(25, 150, marker=\"x\", color=\"red\")\n",
        "plt.scatter(train_input[indexes, 0], train_input[indexes, 1], color=\"skyblue\", marker=\"D\")\n",
        "plt.xlim((0,1000))\n",
        "plt.xlabel(\"length\")\n",
        "plt.ylabel(\"height\")\n",
        "plt.show()\n",
        "\n",
        "# 눈으로 봐서는 도미로 분류되어야 할 것 같은데 빙어로 분류된다.\n",
        "# 그 이유는 특성의 값의 범위가 달라서 그런 것으로 그래프상으로 x값으 변화가 큰 것 같지만 y값에 비해\n",
        "# 압도적으로 수치가 작아서 그 영향이 적다. 영향 비율이 같도록 조정해줄 필요가 있다.\n",
        "print(distances)\n",
        "\n",
        "# x값 특성은 무시되다시피 되고 있다."
      ],
      "metadata": {
        "colab": {
          "base_uri": "https://localhost:8080/"
        },
        "id": "o_kqvvfGHtyd",
        "outputId": "d73c2a79-73b8-484b-aa45-158289afebe4"
      },
      "execution_count": null,
      "outputs": [
        {
          "output_type": "display_data",
          "data": {
            "image/png": "[encoded data removed]",
            "text/plain": [
              "<Figure size 432x288 with 1 Axes>"
            ]
          },
          "metadata": {
            "needs_background": "light"
          }
        },
        {
          "output_type": "stream",
          "name": "stdout",
          "text": [
            "[[ 92.00086956 130.48375378 130.73859415 138.32150953 138.39320793]]\n"
          ]
        }
      ]
    },
    {
      "cell_type": "code",
      "source": [
        "#평균\n",
        "mean = np.mean(train_input, axis=0)\n",
        "#표준편차\n",
        "std = np.std(train_input, axis=0)\n",
        "print(mean, std)\n",
        "\n",
        "# 브로드캐스팅 기능을 사용하여 일괄 값 계산 적용 \n",
        "train_scaled = (train_input - mean) / std"
      ],
      "metadata": {
        "colab": {
          "base_uri": "https://localhost:8080/"
        },
        "id": "lFkUct16HtsD",
        "outputId": "460b496e-b9f0-45d8-975d-5281ba0895b5"
      },
      "execution_count": null,
      "outputs": [
        {
          "output_type": "stream",
          "name": "stdout",
          "text": [
            "[ 27.29722222 454.09722222] [  9.98244253 323.29893931]\n"
          ]
        }
      ]
    },
    {
      "cell_type": "markdown",
      "source": [
        "### 전처리 데이터 모델 훈련"
      ],
      "metadata": {
        "id": "AfCbHkNdJbRT"
      }
    },
    {
      "cell_type": "code",
      "source": [
        "new_fish = [25, 150]\n",
        "\n",
        "plt.scatter(train_scaled[:,0], train_scaled[:,1], marker=\"s\", color=\"green\")\n",
        "plt.scatter(new_fish[0], new_fish[1], marker=\"x\", color=\"red\")\n",
        "plt.xlabel(\"length\")\n",
        "plt.ylabel(\"height\")\n",
        "plt.show()\n",
        "\n",
        "# 이런! 새 물고기 수치도 스케일 변환해줘야 한다."
      ],
      "metadata": {
        "colab": {
          "base_uri": "https://localhost:8080/"
        },
        "id": "QGng3DU2Jc3Y",
        "outputId": "6a838622-7d70-41fa-e302-a021e2274039"
      },
      "execution_count": null,
      "outputs": [
        {
          "output_type": "display_data",
          "data": {
            "image/png": "[encoded data removed]",
            "text/plain": [
              "<Figure size 432x288 with 1 Axes>"
            ]
          },
          "metadata": {
            "needs_background": "light"
          }
        }
      ]
    },
    {
      "cell_type": "code",
      "source": [
        "new_fish = ([25, 150] - mean) / std\n",
        "\n",
        "plt.scatter(train_scaled[:,0], train_scaled[:,1], marker=\"s\", color=\"green\")\n",
        "plt.scatter(new_fish[0], new_fish[1], marker=\"x\", color=\"red\")\n",
        "plt.xlabel(\"length\")\n",
        "plt.ylabel(\"height\")\n",
        "plt.show()\n",
        "# x축과 y축의 값의 범위가 -1.5 ~ 1.5 사이 정도로 바뀌었다."
      ],
      "metadata": {
        "colab": {
          "base_uri": "https://localhost:8080/"
        },
        "id": "EdX3bs_LKEds",
        "outputId": "287e8b61-73dc-4d0e-e624-192dffe5ef59"
      },
      "execution_count": null,
      "outputs": [
        {
          "output_type": "stream",
          "name": "stderr",
          "text": [
            "/usr/local/lib/python3.7/dist-packages/matplotlib/backends/backend_agg.py:214: RuntimeWarning: Glyph 8722 missing from current font.\n",
            "  font.set_text(s, 0.0, flags=flags)\n",
            "/usr/local/lib/python3.7/dist-packages/matplotlib/backends/backend_agg.py:183: RuntimeWarning: Glyph 8722 missing from current font.\n",
            "  font.set_text(s, 0, flags=flags)\n"
          ]
        },
        {
          "output_type": "display_data",
          "data": {
            "image/png": "[encoded data removed]",
            "text/plain": [
              "<Figure size 432x288 with 1 Axes>"
            ]
          },
          "metadata": {
            "needs_background": "light"
          }
        }
      ]
    },
    {
      "cell_type": "code",
      "source": [
        "print(test_input)\n",
        "test_scaled = (test_input - mean) / std\n",
        "kn.fit(train_scaled, train_target)\n",
        "\n",
        "# 이제는 맞추겠지?\n",
        "kn.score(test_scaled, test_target)"
      ],
      "metadata": {
        "colab": {
          "base_uri": "https://localhost:8080/"
        },
        "id": "IqXDiIv3KuFk",
        "outputId": "5bbe01b1-958a-4630-ec5e-e9a8f32cddfe"
      },
      "execution_count": null,
      "outputs": [
        {
          "output_type": "stream",
          "name": "stdout",
          "text": [
            "[[ 11.    9.7]\n",
            " [ 11.8   9.9]\n",
            " [ 29.7 450. ]\n",
            " [ 11.8  10. ]\n",
            " [ 26.5 340. ]\n",
            " [ 12.4  13.4]\n",
            " [ 34.  685. ]\n",
            " [ 34.  575. ]\n",
            " [ 38.5 920. ]\n",
            " [ 35.  680. ]\n",
            " [ 26.3 290. ]\n",
            " [ 31.  500. ]\n",
            " [ 41.  950. ]]\n"
          ]
        },
        {
          "output_type": "execute_result",
          "data": {
            "text/plain": [
              "1.0"
            ]
          },
          "metadata": {},
          "execution_count": 24
        }
      ]
    },
    {
      "cell_type": "code",
      "source": [
        "print(kn.predict([new_fish]))\n",
        "# 이제 제대로 도미로 나온다."
      ],
      "metadata": {
        "colab": {
          "base_uri": "https://localhost:8080/"
        },
        "id": "r6OO6YQkMX8n",
        "outputId": "7ca84d37-2b24-4d76-ad4f-29ac25447ea2"
      },
      "execution_count": null,
      "outputs": [
        {
          "output_type": "stream",
          "name": "stdout",
          "text": [
            "[1.]\n"
          ]
        }
      ]
    },
    {
      "cell_type": "code",
      "source": [
        "new_fish = ([25, 150] - mean) / std\n",
        "distances, indexes = kn.kneighbors([new_fish])\n",
        "\n",
        "plt.scatter(train_scaled[:,0], train_scaled[:,1], marker=\"s\", color=\"green\")\n",
        "plt.scatter(new_fish[0], new_fish[1], marker=\"x\", color=\"red\")\n",
        "plt.scatter(train_scaled[indexes,0], train_scaled[indexes,1], marker=\"D\", color=\"skyblue\")\n",
        "plt.xlabel(\"length\")\n",
        "plt.ylabel(\"height\")\n",
        "plt.show()\n",
        "# 이웃하는 점이 바뀌었다! 도미쪽으로 확실히 붙어있는 것을 확인할 수 있다."
      ],
      "metadata": {
        "colab": {
          "base_uri": "https://localhost:8080/"
        },
        "id": "_fyZMx2CMoFt",
        "outputId": "9f530fdc-9fda-4240-c2e6-e0d170fcd55e"
      },
      "execution_count": null,
      "outputs": [
        {
          "output_type": "stream",
          "name": "stderr",
          "text": [
            "/usr/local/lib/python3.7/dist-packages/matplotlib/backends/backend_agg.py:214: RuntimeWarning: Glyph 8722 missing from current font.\n",
            "  font.set_text(s, 0.0, flags=flags)\n",
            "/usr/local/lib/python3.7/dist-packages/matplotlib/backends/backend_agg.py:183: RuntimeWarning: Glyph 8722 missing from current font.\n",
            "  font.set_text(s, 0, flags=flags)\n"
          ]
        },
        {
          "output_type": "display_data",
          "data": {
            "image/png": "[encoded data removed]",
            "text/plain": [
              "<Figure size 432x288 with 1 Axes>"
            ]
          },
          "metadata": {
            "needs_background": "light"
          }
        }
      ]
    },
    {
      "cell_type": "markdown",
      "source": [
        "### 확인문제 풀이"
      ],
      "metadata": {
        "id": "CvwmZFDnBvQ5"
      }
    },
    {
      "cell_type": "markdown",
      "source": [
        "#### 1. 이 방식은 스케일 조정 방식 중의 하나로 특성값을 0에서 표준편차의 몇 배수만큼 떨어져 있는지로 변환한 값입니다. 이 값을 무엇이라 부르나요?\n",
        "표준점수\n",
        "#### 2. 테스트 세트의 스케일을 조정하려고 합니다. 다음 중 어떤 데이터의 통계 값을 사용해야 하나요?\n",
        "전체 데이터(훈련 데이터, 테스트 데이터)를 모두 스케일 조정을 해줘야 합니다!"
      ],
      "metadata": {
        "id": "K7EXbtaqN-G7"
      }
    },
    {
      "cell_type": "markdown",
      "source": [
        "# 2주차 Chapter 03"
      ],
      "metadata": {
        "id": "Ji4-tqZaXjzP"
      }
    },
    {
      "cell_type": "markdown",
      "source": [
        "\n",
        "* 강의\n",
        "  * [6강 회귀 문제를 이해하고 k-최근접 이웃 알고리즘으로 풀어 보기](https://www.youtube.com/watch?v=0mrLRkgbjA0&list=PLJN246lAkhQjoU0C4v8FgtbjOIXxSs_4Q&index=6)\n",
        "  * [7강 사이킷런으로 선형 회귀 모델 만들어 보기](https://www.youtube.com/watch?v=xkknXJeEaVA&list=PLJN246lAkhQjoU0C4v8FgtbjOIXxSs_4Q&index=7)\n",
        "  * [8강 특성 공학과 규제 알아보기](https://www.youtube.com/watch?v=PLECEclz0p4&list=PLJN246lAkhQjoU0C4v8FgtbjOIXxSs_4Q&index=8)\n",
        "* 기본미션: Ch. 03(03-1) 2번 문제 출력 그래프 인증샷\n",
        "* 선택미션: 모델 파라미터에 대해 설명하기\n"
      ],
      "metadata": {
        "id": "rvUQWguQnYBV"
      }
    },
    {
      "cell_type": "markdown",
      "source": [
        "## 3-1 k-최근접 이웃 회귀"
      ],
      "metadata": {
        "id": "zDFxsg29zgYa"
      }
    },
    {
      "cell_type": "markdown",
      "source": [
        "### k-최근접 이웃 회귀"
      ],
      "metadata": {
        "id": "KeQXDwaIS1fO"
      }
    },
    {
      "cell_type": "code",
      "source": [
        "import matplotlib.pyplot as plt\n",
        "import numpy as np\n",
        "\n",
        "# 농어 데이터\n",
        "# https://bit.ly/perch_data\n",
        "\n",
        "perch_length = np.array([8.4, 13.7, 15.0, 16.2, 17.4, 18.0, 18.7, 19.0, 19.6, 20.0, 21.0,\n",
        "       21.0, 21.0, 21.3, 22.0, 22.0, 22.0, 22.0, 22.0, 22.5, 22.5, 22.7,\n",
        "       23.0, 23.5, 24.0, 24.0, 24.6, 25.0, 25.6, 26.5, 27.3, 27.5, 27.5,\n",
        "       27.5, 28.0, 28.7, 30.0, 32.8, 34.5, 35.0, 36.5, 36.0, 37.0, 37.0,\n",
        "       39.0, 39.0, 39.0, 40.0, 40.0, 40.0, 40.0, 42.0, 43.0, 43.0, 43.5,\n",
        "       44.0])\n",
        "perch_weight = np.array([5.9, 32.0, 40.0, 51.5, 70.0, 100.0, 78.0, 80.0, 85.0, 85.0, 110.0,\n",
        "       115.0, 125.0, 130.0, 120.0, 120.0, 130.0, 135.0, 110.0, 130.0,\n",
        "       150.0, 145.0, 150.0, 170.0, 225.0, 145.0, 188.0, 180.0, 197.0,\n",
        "       218.0, 300.0, 260.0, 265.0, 250.0, 250.0, 300.0, 320.0, 514.0,\n",
        "       556.0, 840.0, 685.0, 700.0, 700.0, 690.0, 900.0, 650.0, 820.0,\n",
        "       850.0, 900.0, 1015.0, 820.0, 1100.0, 1000.0, 1100.0, 1000.0,\n",
        "       1000.0])\n",
        "\n",
        "plt.scatter(perch_length, perch_weight)\n",
        "plt.xlabel('길이')\n",
        "plt.ylabel('무게')\n",
        "plt.show()"
      ],
      "metadata": {
        "colab": {
          "base_uri": "https://localhost:8080/"
        },
        "id": "F8zSZnWEzg53",
        "outputId": "131ac394-1ca8-41fc-d25d-e13f1a360a2e"
      },
      "execution_count": null,
      "outputs": [
        {
          "output_type": "display_data",
          "data": {
            "image/png": "[encoded data removed]",
            "text/plain": [
              "<Figure size 432x288 with 1 Axes>"
            ]
          },
          "metadata": {
            "needs_background": "light"
          }
        }
      ]
    },
    {
      "cell_type": "code",
      "source": [
        "from sklearn.model_selection import train_test_split\n",
        "\n",
        "train_input, test_input, train_target, test_target = train_test_split( perch_length, perch_weight, random_state=42)\n",
        "# stratify=random 옵션은 회귀에서는 사용하지 않음! \n",
        "\n",
        "# 사이킷런에서 사용할 훈련 세트는 2차원 배열이어야 한다. \n",
        "# 이 예제에서는 길이를 바탕으로 무게를 측정하는 것으로 입력이 1차원 배열 데이터이다.\n",
        "# 따라서 수동으로 2차원 배열로 만들어줘야 한다. \n",
        "# 아래 코드는 똑같은 값으로 행의 크기는 나머지 원소의 갯수로 채우고(-1), 열은 하나 추가(1)한다는 뜻이다.\n",
        "print(train_input.shape, test_input.shape)\n",
        "# print(train_input)\n",
        "train_input = train_input.reshape(-1, 1)\n",
        "test_input = test_input.reshape(-1, 1)\n",
        "print(train_input.shape, test_input.shape)\n",
        "# print(train_input)"
      ],
      "metadata": {
        "colab": {
          "base_uri": "https://localhost:8080/"
        },
        "id": "3GWSEQtIIUjV",
        "outputId": "0b70ac41-c1f5-448d-842d-bb533e24b04c"
      },
      "execution_count": null,
      "outputs": [
        {
          "output_type": "stream",
          "name": "stdout",
          "text": [
            "(42,) (14,)\n",
            "(42, 1) (14, 1)\n"
          ]
        }
      ]
    },
    {
      "cell_type": "markdown",
      "source": [
        "### 결정계수"
      ],
      "metadata": {
        "id": "eZgpkdoCNx3f"
      }
    },
    {
      "cell_type": "code",
      "source": [
        "from sklearn.neighbors import KNeighborsRegressor\n",
        "\n",
        "knr = KNeighborsRegressor()\n",
        "knr.fit(train_input, train_target)\n",
        "\n",
        "# 결정계수가 구해진다\n",
        "# R^2 = 1 - ( (타깃 - 예측)^2의 합  / (타깃 - 평균)^2의 합 )\n",
        "# 예측이 정확도가 높다면 타겟 - 예측의 차이가 작아져서 1에 가까워진 값이 나오고\n",
        "# 예측이 정확도가 낮다면 타겟 - 예측의 차이가 커져서 0에 가까워지는 값이 나온다.\n",
        "knr.score(test_input, test_target)"
      ],
      "metadata": {
        "colab": {
          "base_uri": "https://localhost:8080/"
        },
        "id": "0D9hsG42LIev",
        "outputId": "f2d07835-a5e0-4ec9-b134-7bca19574419"
      },
      "execution_count": null,
      "outputs": [
        {
          "output_type": "execute_result",
          "data": {
            "text/plain": [
              "0.992809406101064"
            ]
          },
          "metadata": {},
          "execution_count": 29
        }
      ]
    },
    {
      "cell_type": "code",
      "source": [
        "from sklearn.metrics import mean_absolute_error\n",
        "\n",
        "test_prediction = knr.predict(test_input)\n",
        "mae = mean_absolute_error(test_target, test_prediction)\n",
        "print(mae)"
      ],
      "metadata": {
        "colab": {
          "base_uri": "https://localhost:8080/"
        },
        "id": "g5P3wjN8MBGh",
        "outputId": "94cbd6e8-cb29-4721-8d5c-012071d49269"
      },
      "execution_count": null,
      "outputs": [
        {
          "output_type": "stream",
          "name": "stdout",
          "text": [
            "19.157142857142862\n"
          ]
        }
      ]
    },
    {
      "cell_type": "markdown",
      "source": [
        "### 과대적합과 과소적합 "
      ],
      "metadata": {
        "id": "CIkR-Q2BN2VD"
      }
    },
    {
      "cell_type": "code",
      "source": [
        "print(knr.score(train_input, train_target))\n",
        "# 일반적으로 훈련 세트가 더 점수가 높아야 하는데 테스트 세트보다 낮게 나온다.\n",
        "# 훈련 세트를 적절히 훈련하지 못한 상태 -> 과소적합 상태라고 한다. underfitting\n",
        "# 반대로 과도하게 훈련된 상태가 생겨서 훈련세트는 0.99인데 테스트가 매우 낮게(0.6) 나온다면 과대적합이라 한다. overfitting"
      ],
      "metadata": {
        "colab": {
          "base_uri": "https://localhost:8080/"
        },
        "id": "3_xGERN3N57X",
        "outputId": "316bc79d-7e5e-4d9b-9120-51f12502cb62"
      },
      "execution_count": null,
      "outputs": [
        {
          "output_type": "stream",
          "name": "stdout",
          "text": [
            "0.9698823289099254\n"
          ]
        }
      ]
    },
    {
      "cell_type": "markdown",
      "source": [
        "### 이웃 개수(k) 줄이기"
      ],
      "metadata": {
        "id": "pheEtpkJOg7J"
      }
    },
    {
      "cell_type": "code",
      "source": [
        "# k 수를 너무 줄이면 과대적합, 너무 높이면 과소적합이 된다.\n",
        "knr.n_neighbors = 5\n",
        "print('과소적합', 'k =', knr.n_neighbors)\n",
        "knr.fit(train_input, train_target)\n",
        "print(knr.score(test_input, test_target))\n",
        "print(knr.score(train_input, train_target))\n",
        "test_prediction = knr.predict(test_input)\n",
        "mae = mean_absolute_error(test_target, test_prediction)\n",
        "print('회귀 모델의 평균 절댓값 오차:', mae)\n",
        "\n",
        "knr.n_neighbors = 3\n",
        "print('적절', 'k =', knr.n_neighbors)\n",
        "knr.fit(train_input, train_target)\n",
        "print(knr.score(test_input, test_target))\n",
        "print(knr.score(train_input, train_target))\n",
        "test_prediction = knr.predict(test_input)\n",
        "mae = mean_absolute_error(test_target, test_prediction)\n",
        "print('회귀 모델의 평균 절댓값 오차:', mae)\n",
        "\n",
        "knr.n_neighbors = 1\n",
        "print('과대적합', 'k =', knr.n_neighbors)\n",
        "knr.fit(train_input, train_target)\n",
        "print(knr.score(test_input, test_target))\n",
        "print(knr.score(train_input, train_target))\n",
        "test_prediction = knr.predict(test_input)\n",
        "mae = mean_absolute_error(test_target, test_prediction)\n",
        "print('회귀 모델의 평균 절댓값 오차:', mae)\n",
        "\n",
        "print(\"여기서 k가 하이퍼파라미터가 된다. 이 수치는 데이터마다 모두 달르다.\")"
      ],
      "metadata": {
        "colab": {
          "base_uri": "https://localhost:8080/"
        },
        "id": "7LcWK4CWOlbF",
        "outputId": "85608e4f-96a6-4430-c0d6-71138d15e0d8"
      },
      "execution_count": null,
      "outputs": [
        {
          "output_type": "stream",
          "name": "stdout",
          "text": [
            "과소적합 k = 5\n",
            "0.992809406101064\n",
            "0.9698823289099254\n",
            "회귀 모델의 평균 절댓값 오차: 19.157142857142862\n",
            "적절 k = 3\n",
            "0.9746459963987609\n",
            "0.9804899950518966\n",
            "회귀 모델의 평균 절댓값 오차: 35.42380952380951\n",
            "과대적합 k = 1\n",
            "0.991309195814175\n",
            "0.9852830341215901\n",
            "회귀 모델의 평균 절댓값 오차: 22.685714285714287\n",
            "여기서 k가 하이퍼파라미터가 된다. 이 수치는 데이터마다 모두 달르다.\n"
          ]
        }
      ]
    },
    {
      "cell_type": "markdown",
      "source": [
        "### 확인문제"
      ],
      "metadata": {
        "id": "-jAKf25oQsfF"
      }
    },
    {
      "cell_type": "markdown",
      "source": [
        "#### 1. k-최근접 이웃 회귀에서는 새로운 샘플에 대한 예측을 어떻게 만드나요?"
      ],
      "metadata": {
        "id": "LZF_TkZeQynW"
      }
    },
    {
      "cell_type": "code",
      "source": [
        "#이웃 샘플의 타깃값의 평균"
      ],
      "metadata": {
        "id": "R59P6sP5QtNA"
      },
      "execution_count": null,
      "outputs": []
    },
    {
      "cell_type": "markdown",
      "source": [
        "#### 2. 과대적합화 과소적합에 대한 이해를 돕기 위해 복잡한 모델과 단순한 모델을 만들겠습니다. 앞서 만든 k-최근접 이웃 회귀모델의 k 값을 1, 5, 10으로 바꿔가며 훈련해 보세요. 그다음 농어의 길이를 5에서 45까지 바꿔가며 예측을 만들어 그래프로 나타내 보세요. n이 커짐에 따라 모델이 단순해지는 것을 볼 수 있나요?"
      ],
      "metadata": {
        "id": "XRQLeWDDRBmp"
      }
    },
    {
      "cell_type": "code",
      "source": [
        "# k-최근접 이웃 회귀 객체 생성\n",
        "knr = KNeighborsRegressor()\n",
        "# 5에서 45까지 x 좌표를 만든다.\n",
        "x = np.arange(5, 45).reshape(-1, 1)\n",
        "\n",
        "# n = 1, 5, 10 일 때 예측 결과 그래프를 그린다.\n",
        "for n in [1, 5, 10]:\n",
        "  # 모델 훈련\n",
        "  knr.n_neighbors =  n\n",
        "  knr.fit(train_input, train_target)\n",
        "  prediction = knr.predict(x)\n",
        "  # 그래프 생성\n",
        "  plt.scatter(train_input, train_target)\n",
        "  plt.xlabel('길이')\n",
        "  plt.ylabel('무게')\n",
        "  plt.plot(x, prediction, color='red')\n",
        "  plt.title('n = ' + str(n) + '일 경우 K-최근접 회귀 예측')\n",
        "  plt.show()\n"
      ],
      "metadata": {
        "colab": {
          "base_uri": "https://localhost:8080/"
        },
        "id": "Hq7o4n-FRQCD",
        "outputId": "e1d9effa-e57d-42c7-e239-ad21133b994e"
      },
      "execution_count": null,
      "outputs": [
        {
          "output_type": "display_data",
          "data": {
            "image/png": "[encoded data removed]",
            "text/plain": [
              "<Figure size 432x288 with 1 Axes>"
            ]
          },
          "metadata": {
            "needs_background": "light"
          }
        },
        {
          "output_type": "display_data",
          "data": {
            "image/png": "[encoded data removed]",
            "text/plain": [
              "<Figure size 432x288 with 1 Axes>"
            ]
          },
          "metadata": {
            "needs_background": "light"
          }
        },
        {
          "output_type": "display_data",
          "data": {
            "image/png": "[encoded data removed]",
            "text/plain": [
              "<Figure size 432x288 with 1 Axes>"
            ]
          },
          "metadata": {
            "needs_background": "light"
          }
        }
      ]
    },
    {
      "cell_type": "markdown",
      "source": [
        "## 03-2 선형회귀"
      ],
      "metadata": {
        "id": "Y96-oOEqSbxp"
      }
    },
    {
      "cell_type": "markdown",
      "source": [
        "### k-최근접 이웃의 한계"
      ],
      "metadata": {
        "id": "6E72M9mjS-IQ"
      }
    },
    {
      "cell_type": "code",
      "source": [
        "import numpy as np\n",
        "\n",
        "# 농어 데이터\n",
        "# https://bit.ly/perch_data\n",
        "\n",
        "perch_length = np.array([8.4, 13.7, 15.0, 16.2, 17.4, 18.0, 18.7, 19.0, 19.6, 20.0, 21.0,\n",
        "       21.0, 21.0, 21.3, 22.0, 22.0, 22.0, 22.0, 22.0, 22.5, 22.5, 22.7,\n",
        "       23.0, 23.5, 24.0, 24.0, 24.6, 25.0, 25.6, 26.5, 27.3, 27.5, 27.5,\n",
        "       27.5, 28.0, 28.7, 30.0, 32.8, 34.5, 35.0, 36.5, 36.0, 37.0, 37.0,\n",
        "       39.0, 39.0, 39.0, 40.0, 40.0, 40.0, 40.0, 42.0, 43.0, 43.0, 43.5,\n",
        "       44.0])\n",
        "perch_weight = np.array([5.9, 32.0, 40.0, 51.5, 70.0, 100.0, 78.0, 80.0, 85.0, 85.0, 110.0,\n",
        "       115.0, 125.0, 130.0, 120.0, 120.0, 130.0, 135.0, 110.0, 130.0,\n",
        "       150.0, 145.0, 150.0, 170.0, 225.0, 145.0, 188.0, 180.0, 197.0,\n",
        "       218.0, 300.0, 260.0, 265.0, 250.0, 250.0, 300.0, 320.0, 514.0,\n",
        "       556.0, 840.0, 685.0, 700.0, 700.0, 690.0, 900.0, 650.0, 820.0,\n",
        "       850.0, 900.0, 1015.0, 820.0, 1100.0, 1000.0, 1100.0, 1000.0,\n",
        "       1000.0])\n"
      ],
      "metadata": {
        "id": "hnLcGOPpTL8L"
      },
      "execution_count": null,
      "outputs": []
    },
    {
      "cell_type": "code",
      "source": [
        "from sklearn.model_selection import train_test_split\n",
        "\n",
        "train_input, test_input, train_target, test_target = train_test_split( perch_length, perch_weight, random_state=42)\n",
        "train_input = train_input.reshape(-1, 1)\n",
        "test_input = test_input.reshape(-1, 1)\n"
      ],
      "metadata": {
        "id": "TOM_m3TOTaZC"
      },
      "execution_count": null,
      "outputs": []
    },
    {
      "cell_type": "code",
      "source": [
        "from sklearn.neighbors import KNeighborsRegressor\n",
        "\n",
        "knr = KNeighborsRegressor(n_neighbors=3)\n",
        "knr.fit(train_input, train_target)\n"
      ],
      "metadata": {
        "colab": {
          "base_uri": "https://localhost:8080/"
        },
        "id": "TvdvMFbFTjhg",
        "outputId": "24a8311b-65c9-4296-c833-739e4655d4a7"
      },
      "execution_count": null,
      "outputs": [
        {
          "output_type": "execute_result",
          "data": {
            "text/plain": [
              "KNeighborsRegressor(n_neighbors=3)"
            ]
          },
          "metadata": {},
          "execution_count": 37
        }
      ]
    },
    {
      "cell_type": "code",
      "source": [
        "# 길이가 50cm인 농어의 무게는?\n",
        "print(knr.predict([[50]]))\n",
        "# 실제 값과 차이가 크다?!"
      ],
      "metadata": {
        "colab": {
          "base_uri": "https://localhost:8080/"
        },
        "id": "LYHRNTC7TnMq",
        "outputId": "acaefb49-2c50-470e-d29f-a5d99c555779"
      },
      "execution_count": null,
      "outputs": [
        {
          "output_type": "stream",
          "name": "stdout",
          "text": [
            "[1033.33333333]\n"
          ]
        }
      ]
    },
    {
      "cell_type": "code",
      "source": [
        "# 이웃 샘플 인덱스 값을 구해본다.\n",
        "import matplotlib.pyplot as plt\n",
        "\n",
        "x = np.arange(5, 50).reshape(-1, 1)\n",
        "\n",
        "# 50cm 농어의 이웃을 구하기\n",
        "distances, indexes = knr.kneighbors([[50]])\n",
        "\n",
        "# 훈련 세트의 산점도를 그린다.\n",
        "plt.scatter(train_input, train_target)\n",
        "plt.xlabel('길이')\n",
        "plt.ylabel('무게')\n",
        "\n",
        "# 훈련 세트 중에서 이웃 샘플만 다시 그린다.\n",
        "plt.scatter(train_input[indexes], train_target[indexes], marker='D')\n",
        "\n",
        "prediction = knr.predict(x)\n",
        "plt.plot(x, prediction, color='red')\n",
        "\n",
        "# 50cm 농어 데이터\n",
        "plt.scatter(50, knr.predict([[50]]), marker='^')\n",
        "plt.show()"
      ],
      "metadata": {
        "colab": {
          "base_uri": "https://localhost:8080/"
        },
        "id": "RLyxZrHjT7Xy",
        "outputId": "a6654f7b-5efb-4100-ea17-d32931565bbe"
      },
      "execution_count": null,
      "outputs": [
        {
          "output_type": "display_data",
          "data": {
            "image/png": "[encoded data removed]",
            "text/plain": [
              "<Figure size 432x288 with 1 Axes>"
            ]
          },
          "metadata": {
            "needs_background": "light"
          }
        }
      ]
    },
    {
      "cell_type": "code",
      "source": [
        "distances, indexes = knr.kneighbors([[100]])\n",
        "\n",
        "# 훈련 세트의 산점도를 그린다.\n",
        "plt.scatter(train_input, train_target)\n",
        "plt.xlabel('길이')\n",
        "plt.ylabel('무게')\n",
        "\n",
        "# 훈련 세트 중에서 이웃 샘플만 다시 그린다.\n",
        "plt.scatter(train_input[indexes], train_target[indexes], marker='D')\n",
        "\n",
        "# 50cm 농어 데이터\n",
        "plt.scatter(50, knr.predict([[50]]), marker='^')\n",
        "# 50cm 농어 데이터\n",
        "plt.scatter(100, knr.predict([[100]]), marker='^')\n",
        "plt.show()\n",
        "# 무게가 증가해도 무게 차이가 별로 없다?! --> 데이터 부족, 적절하지 못한 알고리즘"
      ],
      "metadata": {
        "colab": {
          "base_uri": "https://localhost:8080/"
        },
        "id": "Znl-nriqVej1",
        "outputId": "523e26af-2035-4f06-b238-9c7d7f62192e"
      },
      "execution_count": null,
      "outputs": [
        {
          "output_type": "display_data",
          "data": {
            "image/png": "[encoded data removed]",
            "text/plain": [
              "<Figure size 432x288 with 1 Axes>"
            ]
          },
          "metadata": {
            "needs_background": "light"
          }
        }
      ]
    },
    {
      "cell_type": "markdown",
      "source": [
        "### 선형 회귀"
      ],
      "metadata": {
        "id": "9Sj3oJd-WS36"
      }
    },
    {
      "cell_type": "markdown",
      "source": [
        ""
      ],
      "metadata": {
        "id": "SdSzCUDm_Wfv"
      }
    },
    {
      "cell_type": "code",
      "source": [
        "from sklearn.linear_model import LinearRegression\n",
        "lr = LinearRegression()\n",
        "# 선형 회귀 모델 훈련\n",
        "lr.fit(train_input, train_target)\n",
        "\n",
        "# 50cm 농어에 대한 예측\n",
        "print(\"예측 농어 무게:\", lr.predict([[50]]))\n",
        "\n",
        "print(\"기울기(a):\",lr.coef_, \"절편(b):\",lr.intercept_)\n"
      ],
      "metadata": {
        "colab": {
          "base_uri": "https://localhost:8080/"
        },
        "id": "-YTHmnwM_XWM",
        "outputId": "302d30d4-ee18-4a73-d304-476a3161d634"
      },
      "execution_count": null,
      "outputs": [
        {
          "output_type": "stream",
          "name": "stdout",
          "text": [
            "예측 농어 무게: [1241.83860323]\n",
            "기울기(a): [39.01714496] 절편(b): -709.0186449535477\n"
          ]
        }
      ]
    },
    {
      "cell_type": "code",
      "source": [
        "# 훈련세트 산점도 그리기\n",
        "plt.scatter(train_input, train_target)\n",
        "plt.xlabel('길이')\n",
        "plt.ylabel('무게')\n",
        "\n",
        "# 15에서 50까지 1차 방정식 그래프 그리기\n",
        "plt.plot([15,50], [15*lr.coef_ + lr.intercept_, 50*lr.coef_+lr.intercept_], color=\"green\")\n",
        "\n",
        "# 50cm 농어 데이터\n",
        "plt.scatter(50, lr.predict([[50]]), marker='^')\n",
        "plt.show()"
      ],
      "metadata": {
        "colab": {
          "base_uri": "https://localhost:8080/"
        },
        "id": "i0Z4cDMj_WxJ",
        "outputId": "f8088c5b-55d2-4448-ad76-03bf7204b021"
      },
      "execution_count": null,
      "outputs": [
        {
          "output_type": "display_data",
          "data": {
            "image/png": "[encoded data removed]",
            "text/plain": [
              "<Figure size 432x288 with 1 Axes>"
            ]
          },
          "metadata": {
            "needs_background": "light"
          }
        }
      ]
    },
    {
      "cell_type": "code",
      "source": [
        "# 테스트 하기\n",
        "print(lr.score(train_input, train_target))  # 훈련 데이터 결정계수\n",
        "print(lr.score(test_input, test_target))    # 테스트 데이터 결정계수 - 성능 개선의 여지가 있다."
      ],
      "metadata": {
        "id": "5T1ZpF2T_Xgf",
        "colab": {
          "base_uri": "https://localhost:8080/"
        },
        "outputId": "7460929c-6bda-455c-894a-d6346b672474"
      },
      "execution_count": null,
      "outputs": [
        {
          "output_type": "stream",
          "name": "stdout",
          "text": [
            "0.939846333997604\n",
            "0.8247503123313558\n"
          ]
        }
      ]
    },
    {
      "cell_type": "markdown",
      "source": [
        "### 다항회귀"
      ],
      "metadata": {
        "id": "1aqV4GsyHxF0"
      }
    },
    {
      "cell_type": "code",
      "source": [
        "# 직선보다는 곡선함수로 되면 좀 더 정확한 예측이 가능할 것이다\n",
        "train_poly = np.column_stack((train_input ** 2, train_input))\n",
        "test_poly = np.column_stack((test_input ** 2, test_input))\n",
        "\n",
        "lr = LinearRegression()\n",
        "lr.fit(train_poly, train_target)\n",
        "print(lr.predict([[50**2, 50]])) # ax^2 + bx\n",
        "print(lr.coef_, lr.intercept_)   #  y = 1.01 x^2 - 21.6 x + 116.05"
      ],
      "metadata": {
        "colab": {
          "base_uri": "https://localhost:8080/"
        },
        "id": "TpMnAKV9H0Fu",
        "outputId": "22b74cd7-e1b3-469f-bd04-5430d5965800"
      },
      "execution_count": null,
      "outputs": [
        {
          "output_type": "stream",
          "name": "stdout",
          "text": [
            "[1573.98423528]\n",
            "[  1.01433211 -21.55792498] 116.05021078278276\n"
          ]
        }
      ]
    },
    {
      "cell_type": "code",
      "source": [
        "# 학습한 직선 그리기\n",
        "# 구간별 직선을 그리기 위해 15에서 49까지 정수 배열 만듦\n",
        "point = np.arange(15, 50)\n",
        "\n",
        "# 훈련 세트의 산점도 그리기\n",
        "plt.scatter(train_input, train_target)\n",
        "\n",
        "# 15부터 49까지 2차 방정식 그래프를 그리기\n",
        "plt.plot(point, lr.coef_[0] * point ** 2 + lr.coef_[1] * point +  lr.intercept_)\n",
        "\n",
        "# 50cm 농어 데이터\n",
        "h = 50\n",
        "plt.scatter([h], lr.predict([[h**2, h]]), marker='^')\n",
        "plt.show()\n",
        "print(\"길이:\",h, \"무게:\",lr.predict([[h**2, h]]))\n",
        "print(lr.score(train_poly, train_target))\n",
        "print(lr.score(test_poly, test_target))"
      ],
      "metadata": {
        "colab": {
          "base_uri": "https://localhost:8080/"
        },
        "id": "q6V-ynO4Y0Kb",
        "outputId": "8ecf57ee-1704-46df-919f-51a7070aaa37"
      },
      "execution_count": null,
      "outputs": [
        {
          "output_type": "display_data",
          "data": {
            "image/png": "[encoded data removed]",
            "text/plain": [
              "<Figure size 432x288 with 1 Axes>"
            ]
          },
          "metadata": {
            "needs_background": "light"
          }
        },
        {
          "output_type": "stream",
          "name": "stdout",
          "text": [
            "길이: 50 무게: [1573.98423528]\n",
            "0.9706807451768623\n",
            "0.9775935108325121\n"
          ]
        }
      ]
    },
    {
      "cell_type": "markdown",
      "source": [
        "### 확인문제"
      ],
      "metadata": {
        "id": "VCvCO1iRrIZN"
      }
    },
    {
      "cell_type": "markdown",
      "source": [
        "#### 1. 선형 회귀 모델이 찾은 방정식의 제수를 무엇이라고 부르나요?"
      ],
      "metadata": {
        "id": "7BCoQOLsrLVq"
      }
    },
    {
      "cell_type": "markdown",
      "source": [
        "모델 파라미터.\n",
        "ax + w  에서 a, \n",
        "ax^2 + bx + w 에서 a, b 같은 것들을 말한다."
      ],
      "metadata": {
        "id": "QFEoWXXxs2OI"
      }
    },
    {
      "cell_type": "markdown",
      "source": [
        "#### 2. 사이킷런에서 다항 회귀 모델을 훈련할 수 있는 클래스는 무엇인가요?"
      ],
      "metadata": {
        "id": "HFAZq3B3rRqs"
      }
    },
    {
      "cell_type": "markdown",
      "source": [
        "LinearRegression"
      ],
      "metadata": {
        "id": "ACKfhmJts7kM"
      }
    },
    {
      "cell_type": "markdown",
      "source": [
        "## 03-3 특성 공학과 규제"
      ],
      "metadata": {
        "id": "ctbnSuxVqu7Z"
      }
    },
    {
      "cell_type": "markdown",
      "source": [
        "### 다중 회귀"
      ],
      "metadata": {
        "id": "H3sPsPAOfH08"
      }
    },
    {
      "cell_type": "markdown",
      "source": [
        "다중 회귀 : multiple regression or multinomial regression - 다항회귀가 아니니 주의!\n",
        "특성(feature) 공학"
      ],
      "metadata": {
        "id": "MXXf7TJVpZZk"
      }
    },
    {
      "cell_type": "markdown",
      "source": [
        "### 데이터 준비"
      ],
      "metadata": {
        "id": "XTOtgi5mtMlj"
      }
    },
    {
      "cell_type": "markdown",
      "source": [
        "판다스로 데이터 준비\n",
        "+ 넘파이 튜터리얼: http://ml-ko.kr/homl2/tools_numpy.html\n",
        "+ 판다스 튜토리얼: http://ml-ko.kr/homl2/tools_pandas.html"
      ],
      "metadata": {
        "id": "TW_oXq8NtT3j"
      }
    },
    {
      "cell_type": "code",
      "source": [
        "import pandas as pd\n",
        "\n",
        "# 데이터프레임! 엑셀시트처럼 생각하면 편함. 여러종류의 데이터를 섞어 쓸 수 있다. (numpy는 한종류)\n",
        "df = pd.read_csv('https://bit.ly/perch_csv')\n",
        "perch_full = df.to_numpy() # csv 데이터를 numpy로 바꿔줌\n",
        "\n",
        "print(perch_full)"
      ],
      "metadata": {
        "colab": {
          "base_uri": "https://localhost:8080/"
        },
        "id": "JhMN-uXpfTFc",
        "outputId": "b14a6aba-1e77-4ac6-bc73-542a7ba87e91"
      },
      "execution_count": null,
      "outputs": [
        {
          "output_type": "stream",
          "name": "stdout",
          "text": [
            "[[ 8.4   2.11  1.41]\n",
            " [13.7   3.53  2.  ]\n",
            " [15.    3.82  2.43]\n",
            " [16.2   4.59  2.63]\n",
            " [17.4   4.59  2.94]\n",
            " [18.    5.22  3.32]\n",
            " [18.7   5.2   3.12]\n",
            " [19.    5.64  3.05]\n",
            " [19.6   5.14  3.04]\n",
            " [20.    5.08  2.77]\n",
            " [21.    5.69  3.56]\n",
            " [21.    5.92  3.31]\n",
            " [21.    5.69  3.67]\n",
            " [21.3   6.38  3.53]\n",
            " [22.    6.11  3.41]\n",
            " [22.    5.64  3.52]\n",
            " [22.    6.11  3.52]\n",
            " [22.    5.88  3.52]\n",
            " [22.    5.52  4.  ]\n",
            " [22.5   5.86  3.62]\n",
            " [22.5   6.79  3.62]\n",
            " [22.7   5.95  3.63]\n",
            " [23.    5.22  3.63]\n",
            " [23.5   6.28  3.72]\n",
            " [24.    7.29  3.72]\n",
            " [24.    6.38  3.82]\n",
            " [24.6   6.73  4.17]\n",
            " [25.    6.44  3.68]\n",
            " [25.6   6.56  4.24]\n",
            " [26.5   7.17  4.14]\n",
            " [27.3   8.32  5.14]\n",
            " [27.5   7.17  4.34]\n",
            " [27.5   7.05  4.34]\n",
            " [27.5   7.28  4.57]\n",
            " [28.    7.82  4.2 ]\n",
            " [28.7   7.59  4.64]\n",
            " [30.    7.62  4.77]\n",
            " [32.8  10.03  6.02]\n",
            " [34.5  10.26  6.39]\n",
            " [35.   11.49  7.8 ]\n",
            " [36.5  10.88  6.86]\n",
            " [36.   10.61  6.74]\n",
            " [37.   10.84  6.26]\n",
            " [37.   10.57  6.37]\n",
            " [39.   11.14  7.49]\n",
            " [39.   11.14  6.  ]\n",
            " [39.   12.43  7.35]\n",
            " [40.   11.93  7.11]\n",
            " [40.   11.73  7.22]\n",
            " [40.   12.38  7.46]\n",
            " [40.   11.14  6.63]\n",
            " [42.   12.8   6.87]\n",
            " [43.   11.93  7.28]\n",
            " [43.   12.51  7.42]\n",
            " [43.5  12.6   8.14]\n",
            " [44.   12.49  7.6 ]]\n"
          ]
        }
      ]
    },
    {
      "cell_type": "code",
      "source": [
        "import numpy as np\n",
        "\n",
        "# http://bit.ly/perch_data\n",
        "\n",
        "perch_weight = np.array([5.9, 32.0, 40.0, 51.5, 70.0, 100.0, 78.0, 80.0, 85.0, 85.0, 110.0,\n",
        "       115.0, 125.0, 130.0, 120.0, 120.0, 130.0, 135.0, 110.0, 130.0,\n",
        "       150.0, 145.0, 150.0, 170.0, 225.0, 145.0, 188.0, 180.0, 197.0,\n",
        "       218.0, 300.0, 260.0, 265.0, 250.0, 250.0, 300.0, 320.0, 514.0,\n",
        "       556.0, 840.0, 685.0, 700.0, 700.0, 690.0, 900.0, 650.0, 820.0,\n",
        "       850.0, 900.0, 1015.0, 820.0, 1100.0, 1000.0, 1100.0, 1000.0,\n",
        "       1000.0])"
      ],
      "metadata": {
        "id": "AUsMMqHzthHE"
      },
      "execution_count": null,
      "outputs": []
    },
    {
      "cell_type": "code",
      "source": [
        "from sklearn.preprocessing import PolynomialFeatures\n",
        "\n",
        "# degree = 2 \n",
        "poly = PolynomialFeatures()\n",
        "poly.fit([[2, 3]])\n",
        "\n",
        "# 1(bias), 2, 3, 2**2, 2*3, 3**2\n",
        "print(poly.transform([[2,3]]))\n",
        "\n",
        "poly = PolynomialFeatures(include_bias=False)\n",
        "print(poly.fit_transform([[2,3]]))  # fit과 transform 같이 실행\n",
        "\n",
        "# 특성을 바꿔주는 녀석 - Transformer 변환기 (학습X)\n",
        "# fit -> transform 메소드 가짐\n",
        "# fit_transform  위 두개를 한번에 호출하는 함수도 제공\n",
        "\n",
        "# 예측. 추정기 - Estimator (학습O). KNeighborsRegressor, LinearRegression\n",
        "# fit -> predict -> score 메소드 가짐"
      ],
      "metadata": {
        "colab": {
          "base_uri": "https://localhost:8080/"
        },
        "id": "qCmlNBIStrN1",
        "outputId": "dec389b4-760d-4cd8-9647-11d93fbf1858"
      },
      "execution_count": null,
      "outputs": [
        {
          "output_type": "stream",
          "name": "stdout",
          "text": [
            "[[1. 2. 3. 4. 6. 9.]]\n",
            "[[2. 3. 4. 6. 9.]]\n"
          ]
        }
      ]
    },
    {
      "cell_type": "code",
      "source": [
        "from sklearn.model_selection import train_test_split\n",
        "train_input, test_input, train_target, test_target = train_test_split(perch_full, perch_weight, random_state = 42)\n",
        "\n",
        "poly = PolynomialFeatures(include_bias=False)\n",
        "poly.fit(train_input)\n",
        "train_poly = poly.transform(train_input)\n",
        "print(train_poly.shape)\n",
        "# (42, 9)\n",
        "\n",
        "print(poly.get_feature_names_out())\n",
        "\n",
        "test_poly = poly.transform(test_input)"
      ],
      "metadata": {
        "colab": {
          "base_uri": "https://localhost:8080/"
        },
        "id": "oAzyTeQww5Z9",
        "outputId": "37a2e62f-679b-45c7-98c8-dce179f78dbb"
      },
      "execution_count": null,
      "outputs": [
        {
          "output_type": "stream",
          "name": "stdout",
          "text": [
            "(42, 9)\n",
            "['x0' 'x1' 'x2' 'x0^2' 'x0 x1' 'x0 x2' 'x1^2' 'x1 x2' 'x2^2']\n"
          ]
        }
      ]
    },
    {
      "cell_type": "markdown",
      "source": [
        "### 다중 회귀 모델 훈련하기"
      ],
      "metadata": {
        "id": "Y0X6Z_N40cjE"
      }
    },
    {
      "cell_type": "code",
      "source": [
        "from sklearn.linear_model import LinearRegression\n",
        "lr = LinearRegression()\n",
        "lr.fit(train_poly, train_target)"
      ],
      "metadata": {
        "colab": {
          "base_uri": "https://localhost:8080/"
        },
        "id": "M5IjnP8OyxsU",
        "outputId": "bd696779-4e93-4fd6-b3bb-745e39382516"
      },
      "execution_count": null,
      "outputs": [
        {
          "output_type": "execute_result",
          "data": {
            "text/plain": [
              "LinearRegression()"
            ]
          },
          "metadata": {},
          "execution_count": 50
        }
      ]
    },
    {
      "cell_type": "code",
      "source": [
        "print(lr.score(train_poly, train_target))\n",
        "print(lr.score(test_poly, test_target))"
      ],
      "metadata": {
        "colab": {
          "base_uri": "https://localhost:8080/"
        },
        "id": "fTsjdWfNyxfI",
        "outputId": "cd3b4a60-de85-47bd-a9e0-8ea83b6ca0ae"
      },
      "execution_count": null,
      "outputs": [
        {
          "output_type": "stream",
          "name": "stdout",
          "text": [
            "0.9903183436982124\n",
            "0.9714559911594132\n"
          ]
        }
      ]
    },
    {
      "cell_type": "markdown",
      "source": [
        "### 규제(regularization)"
      ],
      "metadata": {
        "id": "IPOevTz27_ew"
      }
    },
    {
      "cell_type": "code",
      "source": [
        "poly = PolynomialFeatures(degree=5, include_bias=False)\n",
        "poly.fit(train_input)\n",
        "train_poly = poly.transform(train_input)\n",
        "test_poly = poly.transform(test_input)\n",
        "\n",
        "print(train_poly.shape)\n",
        "\n",
        "lr.fit(train_poly, train_target)\n",
        "print(lr.score(train_poly, train_target))\n",
        "print(lr.score(test_poly, test_target))\n",
        "\n",
        "# 규제 -> 과대적합을 완화하는 기법. 가중치(기울기) 값을 작게 만드는 역할. 릿지회귀, 라쏘회귀"
      ],
      "metadata": {
        "colab": {
          "base_uri": "https://localhost:8080/"
        },
        "id": "YCyrZMN_7lEw",
        "outputId": "11f96a0f-0949-473a-955b-a27db741aa35"
      },
      "execution_count": null,
      "outputs": [
        {
          "output_type": "stream",
          "name": "stdout",
          "text": [
            "(42, 55)\n",
            "0.9999999999991096\n",
            "-144.40579242335605\n"
          ]
        }
      ]
    },
    {
      "cell_type": "markdown",
      "source": [
        "### 규제 전에 표준화"
      ],
      "metadata": {
        "id": "QF0NsFMm9V3T"
      }
    },
    {
      "cell_type": "code",
      "source": [
        "# 규제 전에 표준화\n",
        "from sklearn.preprocessing import StandardScaler\n",
        "ss = StandardScaler()\n",
        "ss.fit(train_poly)\n",
        "train_scaled = ss.transform(train_poly)\n",
        "test_scaled = ss.transform(test_poly)\n"
      ],
      "metadata": {
        "id": "hkB-SYxU8-ST"
      },
      "execution_count": null,
      "outputs": []
    },
    {
      "cell_type": "markdown",
      "source": [
        "### 릿지 회귀"
      ],
      "metadata": {
        "id": "jDlOOT2wtqk5"
      }
    },
    {
      "cell_type": "code",
      "source": [
        "from sklearn.linear_model import Ridge\n",
        "ridge = Ridge()  # 강도 alpha=1   기본값. 강도 조정해서 최적값을 찾아야 한다. <-- 이런걸 하이퍼파라미터라고 한다. \n",
        "# 하이퍼파라미터 최적값을 찾는 것을 하이퍼파라미터 탐색이라고 한다.\n",
        "ridge.fit(train_scaled, train_target)\n",
        "print(ridge.score(train_scaled, train_target))\n",
        "print(ridge.score(test_scaled, test_target))\n",
        "\n",
        "## 가중치의 제곱을 벌칙으로 사용. L2규제라고도 함. \n",
        "# 여기서 가중치의 제곱은 모델 파라미터가 된다."
      ],
      "metadata": {
        "colab": {
          "base_uri": "https://localhost:8080/"
        },
        "id": "nHwwCVD69iOm",
        "outputId": "17be70a5-030e-4fc0-b865-b6ea095cda8f"
      },
      "execution_count": null,
      "outputs": [
        {
          "output_type": "stream",
          "name": "stdout",
          "text": [
            "0.9896101671037343\n",
            "0.9790693977615397\n"
          ]
        }
      ]
    },
    {
      "cell_type": "code",
      "source": [
        "import matplotlib.pyplot as plt\n",
        "train_score = []\n",
        "test_score = []\n",
        "\n",
        "alpha_list = [0.001, 0.01, 0.1 , 1, 10, 100]\n",
        "for alpha in alpha_list:\n",
        "  ridge = Ridge(alpha=alpha)\n",
        "  ridge.fit(train_scaled, train_target)\n",
        "  train_score.append(ridge.score(train_scaled, train_target))\n",
        "  test_score.append(ridge.score(test_scaled, test_target))\n",
        "\n",
        "#plt.plot(alpha_list, train_score)\n",
        "#plt.plot(alpha_list, test_score)\n",
        "\n",
        "plt.plot(np.log10(alpha_list), train_score)\n",
        "plt.plot(np.log10(alpha_list), test_score)\n",
        "plt.xlabel('alpha')\n",
        "plt.ylabel('R^2')\n",
        "plt.show()\n",
        "\n",
        "# alpha가 0.01일일 때 (log10(0.1) = -1) 값이 가장 좋다."
      ],
      "metadata": {
        "colab": {
          "base_uri": "https://localhost:8080/",
          "height": 352
        },
        "id": "0z5VDgVx-yrT",
        "outputId": "454cbf96-a66c-4fb5-86bc-c0ba9eec0fe7"
      },
      "execution_count": null,
      "outputs": [
        {
          "output_type": "stream",
          "name": "stderr",
          "text": [
            "/usr/local/lib/python3.7/dist-packages/matplotlib/backends/backend_agg.py:214: RuntimeWarning: Glyph 8722 missing from current font.\n",
            "  font.set_text(s, 0.0, flags=flags)\n",
            "/usr/local/lib/python3.7/dist-packages/matplotlib/backends/backend_agg.py:183: RuntimeWarning: Glyph 8722 missing from current font.\n",
            "  font.set_text(s, 0, flags=flags)\n"
          ]
        },
        {
          "output_type": "display_data",
          "data": {
            "image/png": "[encoded data removed]",
            "text/plain": [
              "<Figure size 432x288 with 1 Axes>"
            ]
          },
          "metadata": {
            "needs_background": "light"
          }
        }
      ]
    },
    {
      "cell_type": "code",
      "source": [
        "ridge = Ridge(alpha=0.1)\n",
        "ridge.fit(train_scaled, train_target)\n",
        "print(ridge.score(train_scaled, train_target))\n",
        "print(ridge.score(test_scaled, test_target))              "
      ],
      "metadata": {
        "colab": {
          "base_uri": "https://localhost:8080/"
        },
        "id": "SHuqJGGGCq-q",
        "outputId": "8ade1ea7-ae00-4a79-d937-ae047dc9fc03"
      },
      "execution_count": null,
      "outputs": [
        {
          "output_type": "stream",
          "name": "stdout",
          "text": [
            "0.9903815817570366\n",
            "0.9827976465386927\n"
          ]
        }
      ]
    },
    {
      "cell_type": "markdown",
      "source": [
        "### 라쏘 회귀"
      ],
      "metadata": {
        "id": "GXkhuyqr9i6K"
      }
    },
    {
      "cell_type": "markdown",
      "source": [
        "가중치의 절대값을 벌칙으로 준다. (L1규제를 준다고 표현하기도 한다.)"
      ],
      "metadata": {
        "id": "CWDloPoKDB1U"
      }
    },
    {
      "cell_type": "code",
      "source": [
        "from sklearn.linear_model import Lasso\n",
        "\n",
        "lasso = Lasso()\n",
        "lasso.fit(train_scaled, train_target)\n",
        "print(lasso.score(train_scaled, train_target))\n",
        "print(lasso.score(test_scaled, test_target))"
      ],
      "metadata": {
        "colab": {
          "base_uri": "https://localhost:8080/"
        },
        "id": "170TC3wRDGtX",
        "outputId": "2922501d-0b28-41c8-85b9-10191a2d1d1c"
      },
      "execution_count": null,
      "outputs": [
        {
          "output_type": "stream",
          "name": "stdout",
          "text": [
            "0.989789897208096\n",
            "0.9800593698421883\n"
          ]
        }
      ]
    },
    {
      "cell_type": "code",
      "source": [
        "import matplotlib.pyplot as plt\n",
        "train_score = []\n",
        "test_score = []\n",
        "\n",
        "alpha_list = [0.001, 0.01, 0.1 , 1, 10, 100]\n",
        "for alpha in alpha_list:\n",
        "  lasso = Lasso(alpha=alpha, max_iter=10000)\n",
        "  lasso.fit(train_scaled, train_target)\n",
        "  train_score.append(lasso.score(train_scaled, train_target))\n",
        "  test_score.append(lasso.score(test_scaled, test_target))\n",
        "\n",
        "plt.plot(np.log10(alpha_list), train_score)\n",
        "plt.plot(np.log10(alpha_list), test_score)\n",
        "plt.xlabel('alpha')\n",
        "plt.ylabel('|R|')\n",
        "plt.show()\n",
        "\n",
        "# alpha가 10일일 때 (log10(10) = 2) 값이 가장 좋다."
      ],
      "metadata": {
        "colab": {
          "base_uri": "https://localhost:8080/",
          "height": 446
        },
        "id": "R65WMI3oDnv_",
        "outputId": "05a6ce23-01a4-4127-f04a-60d0041e09a5"
      },
      "execution_count": null,
      "outputs": [
        {
          "output_type": "stream",
          "name": "stderr",
          "text": [
            "/usr/local/lib/python3.7/dist-packages/sklearn/linear_model/_coordinate_descent.py:648: ConvergenceWarning: Objective did not converge. You might want to increase the number of iterations, check the scale of the features or consider increasing regularisation. Duality gap: 1.878e+04, tolerance: 5.183e+02\n",
            "  coef_, l1_reg, l2_reg, X, y, max_iter, tol, rng, random, positive\n",
            "/usr/local/lib/python3.7/dist-packages/sklearn/linear_model/_coordinate_descent.py:648: ConvergenceWarning: Objective did not converge. You might want to increase the number of iterations, check the scale of the features or consider increasing regularisation. Duality gap: 1.297e+04, tolerance: 5.183e+02\n",
            "  coef_, l1_reg, l2_reg, X, y, max_iter, tol, rng, random, positive\n",
            "/usr/local/lib/python3.7/dist-packages/matplotlib/backends/backend_agg.py:214: RuntimeWarning: Glyph 8722 missing from current font.\n",
            "  font.set_text(s, 0.0, flags=flags)\n",
            "/usr/local/lib/python3.7/dist-packages/matplotlib/backends/backend_agg.py:183: RuntimeWarning: Glyph 8722 missing from current font.\n",
            "  font.set_text(s, 0, flags=flags)\n"
          ]
        },
        {
          "output_type": "display_data",
          "data": {
            "image/png": "[encoded data removed]",
            "text/plain": [
              "<Figure size 432x288 with 1 Axes>"
            ]
          },
          "metadata": {
            "needs_background": "light"
          }
        }
      ]
    },
    {
      "cell_type": "code",
      "source": [
        "lasso = Lasso(alpha=10)\n",
        "lasso.fit(train_scaled, train_target)\n",
        "print(lasso.score(train_scaled, train_target))\n",
        "print(lasso.score(test_scaled, test_target))\n",
        "\n",
        "# 라쏘가 55개의 특성 중 40개는 사용하지 않고 15개만 선택해서 사용했다.\n",
        "print(lasso.coef_)\n",
        "print(np.sum(lasso.coef_ == 0))\n",
        "\n",
        "# L1(라쏘규제)보다는 L2 규제(릿지규제)가 좀 더 효과적이다라고 보고 있다."
      ],
      "metadata": {
        "colab": {
          "base_uri": "https://localhost:8080/"
        },
        "id": "55Yln22F9jQL",
        "outputId": "61f3c9e5-ad21-43f8-914d-2a7e860db97b"
      },
      "execution_count": null,
      "outputs": [
        {
          "output_type": "stream",
          "name": "stdout",
          "text": [
            "0.9888067471131867\n",
            "0.9824470598706695\n",
            "[ 0.          0.          0.         12.14852453 55.44856399 42.23100799\n",
            "  0.          0.         13.70596191  0.         43.2185952   5.7033775\n",
            " 47.46254536  7.42309425 11.85823365  0.          0.         13.53038193\n",
            " 21.22111356  0.          0.          0.          0.          0.\n",
            "  0.         18.66993032  0.          0.          0.         15.81041778\n",
            "  0.          0.          0.          0.          0.          0.\n",
            "  0.          0.          0.          0.          0.          0.\n",
            "  0.          0.         18.14672268  0.          0.          0.\n",
            "  0.         15.51272953  0.          0.          0.          0.\n",
            "  0.        ]\n",
            "40\n"
          ]
        }
      ]
    },
    {
      "cell_type": "markdown",
      "source": [
        "### 확인문제"
      ],
      "metadata": {
        "id": "HAXkhyk8GG55"
      }
    },
    {
      "cell_type": "markdown",
      "source": [
        "#### 1. a,b,c 특성으로 이루어진 훈련 세트를 PolynomialFeatures(degree=3)으로 변환했습니다. 다음 중 이 변환된 데이터에 포함되지 않는 특성은 무엇인가요?"
      ],
      "metadata": {
        "id": "ybQ92J4HGGo9"
      }
    },
    {
      "cell_type": "markdown",
      "source": [
        "a * b^3"
      ],
      "metadata": {
        "id": "Bww0RNf9GGY_"
      }
    },
    {
      "cell_type": "markdown",
      "source": [
        "#### 2. 다음 중 특성을 표준화하는 사이킷런 변환기 클래스는 무엇인가요?"
      ],
      "metadata": {
        "id": "YkjBKs8NGcU6"
      }
    },
    {
      "cell_type": "markdown",
      "source": [
        "StandardScaler"
      ],
      "metadata": {
        "id": "HjD3U-OvGgY-"
      }
    },
    {
      "cell_type": "markdown",
      "source": [
        "#### 3.다음 중 과대적합과 과소적합을 올바르게 표현하지 못한 것은 무엇인가요?"
      ],
      "metadata": {
        "id": "jzIWyb8OGjsa"
      }
    },
    {
      "cell_type": "markdown",
      "source": [
        "과대적합인 모델은 테스트 세트의 점수도 높습니다.  --> 과대적합인 경우 훈련 세트의 점수는 높으나 다른 케이스인 테스트 세트의 점수가 낮게 나타난다."
      ],
      "metadata": {
        "id": "RTOTTw4iGnl3"
      }
    },
    {
      "cell_type": "markdown",
      "source": [
        "# 3주차 Chapter 04"
      ],
      "metadata": {
        "id": "R2lHLY7gXnlD"
      }
    },
    {
      "cell_type": "markdown",
      "source": [
        "\n",
        "* 강의\n",
        "  * [9강 로지스틱 회귀 알아보기](https://www.youtube.com/watch?v=pO27UnTsYQU&list=PLJN246lAkhQjoU0C4v8FgtbjOIXxSs_4Q&index=9)\n",
        "  * [10강 확률적 경사 하강법 알아보기](https://www.youtube.com/watch?v=A1UUnfijQfQ&list=PLJN246lAkhQjoU0C4v8FgtbjOIXxSs_4Q&index=10)\n",
        "\n",
        "* 기본미션: Ch. 04(04-1) 2번 문제 풀고, 풀이 과정 설명하기\n",
        "* 선택미션: Ch.04(04-2) 과대적합/과소적합 손코딩 코랩 화면 캡쳐하기\n"
      ],
      "metadata": {
        "id": "Ku9ExCRmXdan"
      }
    },
    {
      "cell_type": "markdown",
      "source": [
        "## 04-1 로지스틱 회귀"
      ],
      "metadata": {
        "id": "nfZ0mw9hhuyo"
      }
    },
    {
      "cell_type": "markdown",
      "source": [
        "### 데이터 준비하기"
      ],
      "metadata": {
        "id": "yT_crBQFXq2S"
      }
    },
    {
      "cell_type": "code",
      "source": [
        "import pandas as pd\n",
        "fish = pd.read_csv('https://bit.ly/fish_csv')\n",
        "fish.head()"
      ],
      "metadata": {
        "colab": {
          "base_uri": "https://localhost:8080/"
        },
        "id": "DaFgKoz4KTZ9",
        "outputId": "ce17995e-06a2-449c-fa81-1406a6ddc959"
      },
      "execution_count": null,
      "outputs": [
        {
          "output_type": "execute_result",
          "data": {
            "text/html": [
              "\n",
              "  <div id=\"df-783be811-0331-4410-9068-df44319c5665\">\n",
              "    <div class=\"colab-df-container\">\n",
              "      <div>\n",
              "<style scoped>\n",
              "    .dataframe tbody tr th:only-of-type {\n",
              "        vertical-align: middle;\n",
              "    }\n",
              "\n",
              "    .dataframe tbody tr th {\n",
              "        vertical-align: top;\n",
              "    }\n",
              "\n",
              "    .dataframe thead th {\n",
              "        text-align: right;\n",
              "    }\n",
              "</style>\n",
              "<table border=\"1\" class=\"dataframe\">\n",
              "  <thead>\n",
              "    <tr style=\"text-align: right;\">\n",
              "      <th></th>\n",
              "      <th>Species</th>\n",
              "      <th>Weight</th>\n",
              "      <th>Length</th>\n",
              "      <th>Diagonal</th>\n",
              "      <th>Height</th>\n",
              "      <th>Width</th>\n",
              "    </tr>\n",
              "  </thead>\n",
              "  <tbody>\n",
              "    <tr>\n",
              "      <th>0</th>\n",
              "      <td>Bream</td>\n",
              "      <td>242.0</td>\n",
              "      <td>25.4</td>\n",
              "      <td>30.0</td>\n",
              "      <td>11.5200</td>\n",
              "      <td>4.0200</td>\n",
              "    </tr>\n",
              "    <tr>\n",
              "      <th>1</th>\n",
              "      <td>Bream</td>\n",
              "      <td>290.0</td>\n",
              "      <td>26.3</td>\n",
              "      <td>31.2</td>\n",
              "      <td>12.4800</td>\n",
              "      <td>4.3056</td>\n",
              "    </tr>\n",
              "    <tr>\n",
              "      <th>2</th>\n",
              "      <td>Bream</td>\n",
              "      <td>340.0</td>\n",
              "      <td>26.5</td>\n",
              "      <td>31.1</td>\n",
              "      <td>12.3778</td>\n",
              "      <td>4.6961</td>\n",
              "    </tr>\n",
              "    <tr>\n",
              "      <th>3</th>\n",
              "      <td>Bream</td>\n",
              "      <td>363.0</td>\n",
              "      <td>29.0</td>\n",
              "      <td>33.5</td>\n",
              "      <td>12.7300</td>\n",
              "      <td>4.4555</td>\n",
              "    </tr>\n",
              "    <tr>\n",
              "      <th>4</th>\n",
              "      <td>Bream</td>\n",
              "      <td>430.0</td>\n",
              "      <td>29.0</td>\n",
              "      <td>34.0</td>\n",
              "      <td>12.4440</td>\n",
              "      <td>5.1340</td>\n",
              "    </tr>\n",
              "  </tbody>\n",
              "</table>\n",
              "</div>\n",
              "      <button class=\"colab-df-convert\" onclick=\"convertToInteractive('df-783be811-0331-4410-9068-df44319c5665')\"\n",
              "              title=\"Convert this dataframe to an interactive table.\"\n",
              "              style=\"display:none;\">\n",
              "        \n",
              "  <svg xmlns=\"http://www.w3.org/2000/svg\" height=\"24px\"viewBox=\"0 0 24 24\"\n",
              "       width=\"24px\">\n",
              "    <path d=\"M0 0h24v24H0V0z\" fill=\"none\"/>\n",
              "    <path d=\"M18.56 5.44l.94 2.06.94-2.06 2.06-.94-2.06-.94-.94-2.06-.94 2.06-2.06.94zm-11 1L8.5 8.5l.94-2.06 2.06-.94-2.06-.94L8.5 2.5l-.94 2.06-2.06.94zm10 10l.94 2.06.94-2.06 2.06-.94-2.06-.94-.94-2.06-.94 2.06-2.06.94z\"/><path d=\"M17.41 7.96l-1.37-1.37c-.4-.4-.92-.59-1.43-.59-.52 0-1.04.2-1.43.59L10.3 9.45l-7.72 7.72c-.78.78-.78 2.05 0 2.83L4 21.41c.39.39.9.59 1.41.59.51 0 1.02-.2 1.41-.59l7.78-7.78 2.81-2.81c.8-.78.8-2.07 0-2.86zM5.41 20L4 18.59l7.72-7.72 1.47 1.35L5.41 20z\"/>\n",
              "  </svg>\n",
              "      </button>\n",
              "      \n",
              "  <style>\n",
              "    .colab-df-container {\n",
              "      display:flex;\n",
              "      flex-wrap:wrap;\n",
              "      gap: 12px;\n",
              "    }\n",
              "\n",
              "    .colab-df-convert {\n",
              "      background-color: #E8F0FE;\n",
              "      border: none;\n",
              "      border-radius: 50%;\n",
              "      cursor: pointer;\n",
              "      display: none;\n",
              "      fill: #1967D2;\n",
              "      height: 32px;\n",
              "      padding: 0 0 0 0;\n",
              "      width: 32px;\n",
              "    }\n",
              "\n",
              "    .colab-df-convert:hover {\n",
              "      background-color: #E2EBFA;\n",
              "      box-shadow: 0px 1px 2px rgba(60, 64, 67, 0.3), 0px 1px 3px 1px rgba(60, 64, 67, 0.15);\n",
              "      fill: #174EA6;\n",
              "    }\n",
              "\n",
              "    [theme=dark] .colab-df-convert {\n",
              "      background-color: #3B4455;\n",
              "      fill: #D2E3FC;\n",
              "    }\n",
              "\n",
              "    [theme=dark] .colab-df-convert:hover {\n",
              "      background-color: #434B5C;\n",
              "      box-shadow: 0px 1px 3px 1px rgba(0, 0, 0, 0.15);\n",
              "      filter: drop-shadow(0px 1px 2px rgba(0, 0, 0, 0.3));\n",
              "      fill: #FFFFFF;\n",
              "    }\n",
              "  </style>\n",
              "\n",
              "      <script>\n",
              "        const buttonEl =\n",
              "          document.querySelector('#df-783be811-0331-4410-9068-df44319c5665 button.colab-df-convert');\n",
              "        buttonEl.style.display =\n",
              "          google.colab.kernel.accessAllowed ? 'block' : 'none';\n",
              "\n",
              "        async function convertToInteractive(key) {\n",
              "          const element = document.querySelector('#df-783be811-0331-4410-9068-df44319c5665');\n",
              "          const dataTable =\n",
              "            await google.colab.kernel.invokeFunction('convertToInteractive',\n",
              "                                                     [key], {});\n",
              "          if (!dataTable) return;\n",
              "\n",
              "          const docLinkHtml = 'Like what you see? Visit the ' +\n",
              "            '<a target=\"_blank\" href=https://colab.research.google.com/notebooks/data_table.ipynb>data table notebook</a>'\n",
              "            + ' to learn more about interactive tables.';\n",
              "          element.innerHTML = '';\n",
              "          dataTable['output_type'] = 'display_data';\n",
              "          await google.colab.output.renderOutput(dataTable, element);\n",
              "          const docLink = document.createElement('div');\n",
              "          docLink.innerHTML = docLinkHtml;\n",
              "          element.appendChild(docLink);\n",
              "        }\n",
              "      </script>\n",
              "    </div>\n",
              "  </div>\n",
              "  "
            ],
            "text/plain": [
              "  Species  Weight  Length  Diagonal   Height   Width\n",
              "0   Bream   242.0    25.4      30.0  11.5200  4.0200\n",
              "1   Bream   290.0    26.3      31.2  12.4800  4.3056\n",
              "2   Bream   340.0    26.5      31.1  12.3778  4.6961\n",
              "3   Bream   363.0    29.0      33.5  12.7300  4.4555\n",
              "4   Bream   430.0    29.0      34.0  12.4440  5.1340"
            ]
          },
          "metadata": {},
          "execution_count": 60
        }
      ]
    },
    {
      "cell_type": "code",
      "source": [
        "print(pd.unique(fish['Species']))"
      ],
      "metadata": {
        "colab": {
          "base_uri": "https://localhost:8080/"
        },
        "id": "vtYp8q8PKpVx",
        "outputId": "bcc5a035-1d82-4bf3-b218-3dee66a698d4"
      },
      "execution_count": null,
      "outputs": [
        {
          "output_type": "stream",
          "name": "stdout",
          "text": [
            "['Bream' 'Roach' 'Whitefish' 'Parkki' 'Perch' 'Pike' 'Smelt']\n"
          ]
        }
      ]
    },
    {
      "cell_type": "code",
      "source": [
        "fish_input = fish[['Weight', 'Length', 'Diagonal', 'Height', 'Width']].to_numpy()\n",
        "print(fish_input[:5])"
      ],
      "metadata": {
        "colab": {
          "base_uri": "https://localhost:8080/"
        },
        "id": "zWLPn1HDKzsH",
        "outputId": "29c89d27-d771-46c0-f0e5-0bf7fedb4a63"
      },
      "execution_count": null,
      "outputs": [
        {
          "output_type": "stream",
          "name": "stdout",
          "text": [
            "[[242.      25.4     30.      11.52     4.02  ]\n",
            " [290.      26.3     31.2     12.48     4.3056]\n",
            " [340.      26.5     31.1     12.3778   4.6961]\n",
            " [363.      29.      33.5     12.73     4.4555]\n",
            " [430.      29.      34.      12.444    5.134 ]]\n"
          ]
        }
      ]
    },
    {
      "cell_type": "code",
      "source": [
        "fish_target = fish['Species'].to_numpy()\n",
        "from sklearn.model_selection import train_test_split\n",
        "train_input, test_input, train_target, test_target = train_test_split(fish_input, fish_target, random_state=42)\n"
      ],
      "metadata": {
        "id": "TjnZXnDzLWKq"
      },
      "execution_count": null,
      "outputs": []
    },
    {
      "cell_type": "code",
      "source": [
        "from sklearn.preprocessing import StandardScaler\n",
        "ss = StandardScaler()\n",
        "ss.fit(train_input)\n",
        "train_scaled = ss.transform(train_input)\n",
        "test_scaled = ss.transform(test_input)"
      ],
      "metadata": {
        "id": "w7OD9aW7RBEU"
      },
      "execution_count": null,
      "outputs": []
    },
    {
      "cell_type": "markdown",
      "source": [
        "#### k-최근접 이웃 분류기의 확률 예측(다중 분류)"
      ],
      "metadata": {
        "id": "q87DSp9IRso0"
      }
    },
    {
      "cell_type": "code",
      "source": [
        "from sklearn.neighbors import KNeighborsClassifier\n",
        "kn = KNeighborsClassifier(n_neighbors=3)\n",
        "kn.fit(train_scaled, train_target)\n",
        "\n",
        "print(kn.classes_) # 알파벳 순서대로 출력된다!\n",
        "\n",
        "print(kn.predict(test_scaled[:5]))\n",
        "\n",
        "print(kn.score(train_scaled, train_target))\n",
        "print(kn.score(test_scaled, test_target))"
      ],
      "metadata": {
        "colab": {
          "base_uri": "https://localhost:8080/"
        },
        "id": "et6Js5nCRxFx",
        "outputId": "7ac1878b-e53e-4a11-badc-d04a09ff05c7"
      },
      "execution_count": null,
      "outputs": [
        {
          "output_type": "stream",
          "name": "stdout",
          "text": [
            "['Bream' 'Parkki' 'Perch' 'Pike' 'Roach' 'Smelt' 'Whitefish']\n",
            "['Perch' 'Smelt' 'Pike' 'Perch' 'Perch']\n",
            "0.8907563025210085\n",
            "0.85\n"
          ]
        }
      ]
    },
    {
      "cell_type": "code",
      "source": [
        "import numpy as np\n",
        "proba = kn.predict_proba(test_scaled[:5])\n",
        "print(np.round(proba, decimals=4))"
      ],
      "metadata": {
        "colab": {
          "base_uri": "https://localhost:8080/"
        },
        "id": "ZicHjGDbS1w8",
        "outputId": "82a5f9f5-15c1-477b-e91e-1338ba68e39a"
      },
      "execution_count": null,
      "outputs": [
        {
          "output_type": "stream",
          "name": "stdout",
          "text": [
            "[[0.     0.     1.     0.     0.     0.     0.    ]\n",
            " [0.     0.     0.     0.     0.     1.     0.    ]\n",
            " [0.     0.     0.     1.     0.     0.     0.    ]\n",
            " [0.     0.     0.6667 0.     0.3333 0.     0.    ]\n",
            " [0.     0.     0.6667 0.     0.3333 0.     0.    ]]\n"
          ]
        }
      ]
    },
    {
      "cell_type": "markdown",
      "source": [
        "최근접이웃 다중 분류의 한계 : 여기서는 이웃을 3으로 지정했기 때문에 1이거나 2/3 또는 1/3, 0 중 하나의 확률만 가지게 되어 제한적이다."
      ],
      "metadata": {
        "id": "79MdGWb4ku8N"
      }
    },
    {
      "cell_type": "markdown",
      "source": [
        "### 로지스틱 회귀(이진 '분류')"
      ],
      "metadata": {
        "id": "6tlqCJiQlLL4"
      }
    },
    {
      "cell_type": "markdown",
      "source": [
        "인공신경만의 기본. 가장 기본적인 인공 신경망. \n",
        "z = a x 무게 + b x 길이 + c x 대각선 + d x 높이 + e x 두께 + f\n",
        "선형 함수를 학습하는 알고리즘이다. 가중치와 속성의 곱의 형식으로 이루어지는 선형식이 된다.\n",
        "z가 0 ~ 1 사이의 값을 가지도록 만들기 위해 시그모이드 함수(=로지스틱함수)를 사용한다. (수학적 트릭) 값이 0.5보다 크면 양성 클래스, 이하면 음성 클래스로 취급할 수 있다. (이진분류) \n",
        "이름이 로지스틱 회귀이며 선형함수이지만!! 분류 알고리즘이다!! 오해금지!"
      ],
      "metadata": {
        "id": "kNII4C9IlNFb"
      }
    },
    {
      "cell_type": "code",
      "source": [
        "import numpy as np\n",
        "import matplotlib.pyplot as plt\n",
        "z = np.arange(-5, 5, 0.1)\n",
        "phi = 1 / (1 + np.exp(-z))\n",
        "plt.plot(z, phi)\n",
        "plt.title('Sigmoid Function')\n",
        "plt.show()"
      ],
      "metadata": {
        "colab": {
          "base_uri": "https://localhost:8080/"
        },
        "id": "kizvFaOmk-Q6",
        "outputId": "a82aa5e2-28a4-4121-bb13-0ab87d2ca320"
      },
      "execution_count": null,
      "outputs": [
        {
          "output_type": "stream",
          "name": "stderr",
          "text": [
            "/usr/local/lib/python3.7/dist-packages/matplotlib/backends/backend_agg.py:214: RuntimeWarning: Glyph 8722 missing from current font.\n",
            "  font.set_text(s, 0.0, flags=flags)\n",
            "/usr/local/lib/python3.7/dist-packages/matplotlib/backends/backend_agg.py:183: RuntimeWarning: Glyph 8722 missing from current font.\n",
            "  font.set_text(s, 0, flags=flags)\n"
          ]
        },
        {
          "output_type": "display_data",
          "data": {
            "image/png": "[encoded data removed]",
            "text/plain": [
              "<Figure size 432x288 with 1 Axes>"
            ]
          },
          "metadata": {
            "needs_background": "light"
          }
        }
      ]
    },
    {
      "cell_type": "code",
      "source": [
        "bream_smelt_indexes = (train_target == 'Bream') | (train_target == 'Smelt')\n",
        "train_bream_smelt = train_scaled[bream_smelt_indexes]\n",
        "target_bream_smelt = train_target[bream_smelt_indexes]\n",
        "\n",
        "from sklearn.linear_model import LogisticRegression\n",
        "\n",
        "lr = LogisticRegression()\n",
        "lr.fit(train_bream_smelt, target_bream_smelt)\n",
        "\n",
        "print(lr.predict(train_bream_smelt[:5]))\n",
        "print(\"음성-도미 / 양성-빙어\")\n",
        "print(lr.predict_proba(train_bream_smelt[:5]))"
      ],
      "metadata": {
        "colab": {
          "base_uri": "https://localhost:8080/"
        },
        "id": "C2Rb5IVRm2-Z",
        "outputId": "76cb47f6-38bd-4b51-9edb-f45172d56d77"
      },
      "execution_count": null,
      "outputs": [
        {
          "output_type": "stream",
          "name": "stdout",
          "text": [
            "['Bream' 'Smelt' 'Bream' 'Bream' 'Bream']\n",
            "음성-도미 / 양성-빙어\n",
            "[[0.99759855 0.00240145]\n",
            " [0.02735183 0.97264817]\n",
            " [0.99486072 0.00513928]\n",
            " [0.98584202 0.01415798]\n",
            " [0.99767269 0.00232731]]\n"
          ]
        }
      ]
    },
    {
      "cell_type": "code",
      "source": [
        "# 로지스틱 회귀 계수 확인\n",
        "print(lr.coef_, lr.intercept_)\n",
        "\n",
        "decisions = lr.decision_function(train_bream_smelt[:5])\n",
        "print(decisions)\n",
        "\n",
        "from scipy.special import expit\n",
        "print(expit(decisions))"
      ],
      "metadata": {
        "colab": {
          "base_uri": "https://localhost:8080/"
        },
        "id": "RVlN6Tb2nxjV",
        "outputId": "b25403c7-b675-4adb-bf79-a7542f5e9b61"
      },
      "execution_count": null,
      "outputs": [
        {
          "output_type": "stream",
          "name": "stdout",
          "text": [
            "[[-0.4037798  -0.57620209 -0.66280298 -1.01290277 -0.73168947]] [-2.16155132]\n",
            "[-6.02927744  3.57123907 -5.26568906 -4.24321775 -6.0607117 ]\n",
            "[0.00240145 0.97264817 0.00513928 0.01415798 0.00232731]\n"
          ]
        }
      ]
    },
    {
      "cell_type": "markdown",
      "source": [
        "### 로지스틱 회귀(다중 분류)"
      ],
      "metadata": {
        "id": "LVKcx2UDor5H"
      }
    },
    {
      "cell_type": "code",
      "source": [
        "lr = LogisticRegression(C=20, max_iter=1000)\n",
        "# C 값이 올라가면 규제가 난아지고 C 값이 올라가면 어려워 진다\n",
        "print(lr.fit(train_scaled, train_target))\n",
        "print(lr.fit(test_scaled,  test_target))\n",
        "\n",
        "proba = lr.predict_proba(test_scaled[:5])\n",
        "print(np.round(proba, decimals=3))\n",
        "print(lr.coef_.shape, lr.intercept_.shape)"
      ],
      "metadata": {
        "colab": {
          "base_uri": "https://localhost:8080/"
        },
        "id": "_gIFKPWxo1WB",
        "outputId": "0331e876-700a-4129-b02e-93da3fcfc888"
      },
      "execution_count": null,
      "outputs": [
        {
          "output_type": "stream",
          "name": "stdout",
          "text": [
            "LogisticRegression(C=20, max_iter=1000)\n",
            "LogisticRegression(C=20, max_iter=1000)\n",
            "[[0.    0.021 0.842 0.001 0.108 0.012 0.016]\n",
            " [0.    0.007 0.026 0.    0.007 0.96  0.001]\n",
            " [0.    0.    0.014 0.847 0.077 0.    0.061]\n",
            " [0.031 0.029 0.402 0.021 0.205 0.    0.313]\n",
            " [0.    0.002 0.891 0.004 0.08  0.001 0.022]]\n",
            "(7, 5) (7,)\n"
          ]
        }
      ]
    },
    {
      "cell_type": "code",
      "source": [
        "decision = lr.decision_function(test_scaled[:5])\n",
        "print(np.round(decision, decimals=2))"
      ],
      "metadata": {
        "colab": {
          "base_uri": "https://localhost:8080/"
        },
        "id": "U8Lo25eLrFFJ",
        "outputId": "e16f1bfa-b20c-46c3-d8e4-e954d6ec7a60"
      },
      "execution_count": null,
      "outputs": [
        {
          "output_type": "stream",
          "name": "stdout",
          "text": [
            "[[-4.69  0.6   4.27 -2.7   2.21  0.02  0.29]\n",
            " [-8.61  1.73  2.98 -3.37  1.62  6.6  -0.95]\n",
            " [-3.18 -3.17  0.99  5.08  2.68 -4.84  2.45]\n",
            " [-0.02 -0.08  2.55 -0.42  1.88 -6.2   2.3 ]\n",
            " [-4.41 -1.32  4.87 -0.47  2.46 -2.31  1.18]]\n"
          ]
        }
      ]
    },
    {
      "cell_type": "code",
      "source": [
        "from scipy.special import softmax\n",
        "proba = softmax(decision, axis=1)\n",
        "print(np.round(proba, decimals=3))"
      ],
      "metadata": {
        "colab": {
          "base_uri": "https://localhost:8080/"
        },
        "id": "pJiMYDa-rYVx",
        "outputId": "8005fdc4-16f4-4c10-e47f-b1f0f7b1da0f"
      },
      "execution_count": null,
      "outputs": [
        {
          "output_type": "stream",
          "name": "stdout",
          "text": [
            "[[0.    0.021 0.842 0.001 0.108 0.012 0.016]\n",
            " [0.    0.007 0.026 0.    0.007 0.96  0.001]\n",
            " [0.    0.    0.014 0.847 0.077 0.    0.061]\n",
            " [0.031 0.029 0.402 0.021 0.205 0.    0.313]\n",
            " [0.    0.002 0.891 0.004 0.08  0.001 0.022]]\n"
          ]
        }
      ]
    },
    {
      "cell_type": "markdown",
      "source": [
        "### 확인문제"
      ],
      "metadata": {
        "id": "QM35vx3uh4oA"
      }
    },
    {
      "cell_type": "markdown",
      "source": [
        "#### 1. 2개보다 많은 클래스가 있는 분류 문제를 무엇이라 부르나요?"
      ],
      "metadata": {
        "id": "B6kkdmXjhogF"
      }
    },
    {
      "cell_type": "code",
      "source": [
        "# 다중 분류"
      ],
      "metadata": {
        "id": "ka3lX_7tiBhg"
      },
      "execution_count": null,
      "outputs": []
    },
    {
      "cell_type": "markdown",
      "source": [
        "#### 2. 로지스틱 회귀가 이진 분류에서 확률을 출력하기 위해 사용하는 함수는 무엇인가요?"
      ],
      "metadata": {
        "id": "2SumxTVYiE4f"
      }
    },
    {
      "cell_type": "markdown",
      "source": [
        "시그모이드 함수.\n",
        "sigmoid 함수는 다음과 같다. 아래 함수의 특성을 이용하여 이진 분류에 사용한 것이다. \n",
        "$$ϕ=\\frac{1}{1+e^{-z}}$$\n",
        "선형방정식의 출력 z 값이 양의 무한대에 가까울 수록 1에 가까워지고 \n",
        "z 값이 0일 때 0.5, z 값이 음의 무한대에 가까울 수록 0에 가까워지는 시그모이드 함수의 특성을 이용하여\n",
        "0.5 초과일 때는 양성, 이하일 때는 음성으로 하여 이진 분류에 활용할 수 있다."
      ],
      "metadata": {
        "id": "kvv3BPpJjhK9"
      }
    },
    {
      "cell_type": "markdown",
      "source": [
        "#### 3. decision_function() 메서드의 출력이 0일 때 시그모이드 함수의 값은 얼마인가요?"
      ],
      "metadata": {
        "id": "d8N7W6OziL_z"
      }
    },
    {
      "cell_type": "code",
      "source": [
        "#  1 / (1 + e^(-z)) 이므로 z가 0이면  1/(1+1) 이 되어 0.5가 된다."
      ],
      "metadata": {
        "id": "C3I8QsV7iTHy"
      },
      "execution_count": null,
      "outputs": []
    },
    {
      "cell_type": "markdown",
      "source": [
        "## 04-2 확률적 경사 하강법"
      ],
      "metadata": {
        "id": "UiXFkLhwh0wi"
      }
    },
    {
      "cell_type": "markdown",
      "source": [
        "### 점진적인 학습 - 과대적합, 과소적합에 따라 조기종료를 한다."
      ],
      "metadata": {
        "id": "HUU_CHfkvzna"
      }
    },
    {
      "cell_type": "code",
      "source": [
        "import pandas as pd\n",
        "fish = pd.read_csv('https://bit.ly/fish_csv_data')\n",
        "fish_input = fish[['Weight', 'Length', 'Diagonal', 'Height', 'Width']].to_numpy()\n",
        "fish_target=fish['Species'].to_numpy()\n",
        "\n",
        "from sklearn.model_selection import train_test_split\n",
        "train_input, test_input, tarin_target, tets_target = train_test_split(\n",
        "    fish_input, fish_target, random_state=42)\n",
        "\n",
        "from sklearn.preprocessing import StandardScaler\n",
        "ss = StandardScaler()\n",
        "ss.fit(train_input)\n",
        "train_scaled = ss.transform(train_input)\n",
        "test_scaled = ss.transform(test_input)\n"
      ],
      "metadata": {
        "id": "sES-826xv9cA"
      },
      "execution_count": null,
      "outputs": []
    },
    {
      "cell_type": "code",
      "source": [
        "from sklearn.linear_model import SGDClassifier\n",
        "# SGDClssifier는 확률적경사하강법만 지원한다. 미니배치, 배치는 X\n",
        "sc = SGDClassifier(loss='log', max_iter=10, random_state=42)\n",
        "sc.fit(train_scaled, train_target)\n",
        "\n",
        "# 과소적합\n",
        "print(sc.score(train_scaled, train_target))\n",
        "print(sc.score(test_scaled, test_target))\n",
        "\n",
        "# partial_fit은 이전 학습에 이어서 계속 한다. fit은 처음부터 하는거라 2번하는 의미가 없다.\n",
        "# 1번 더 하면 좋아진다. (2번)\n",
        "sc.partial_fit(train_scaled, train_target)\n",
        "print(sc.score(train_scaled, train_target))\n",
        "print(sc.score(test_scaled, test_target))\n",
        "\n",
        "# 2번째에서는 오히려 떨어진다. - 과대적합(3번)\n",
        "sc.partial_fit(train_scaled, train_target)\n",
        "print(sc.score(train_scaled, train_target))\n",
        "print(sc.score(test_scaled, test_target))\n",
        "\n",
        "# 추가 3번째에서는 트레인은 좋아지고 테스트는 떨어진다.\n",
        "sc.partial_fit(train_scaled, train_target)\n",
        "print(sc.score(train_scaled, train_target))\n",
        "print(sc.score(test_scaled, test_target))"
      ],
      "metadata": {
        "colab": {
          "base_uri": "https://localhost:8080/"
        },
        "id": "APsm5h0qIx_t",
        "outputId": "40f03aeb-b842-416e-8f96-bf2855827288"
      },
      "execution_count": null,
      "outputs": [
        {
          "output_type": "stream",
          "name": "stdout",
          "text": [
            "0.773109243697479\n",
            "0.775\n",
            "0.8151260504201681\n",
            "0.825\n",
            "0.7815126050420168\n",
            "0.775\n",
            "0.8319327731092437\n",
            "0.8\n"
          ]
        },
        {
          "output_type": "stream",
          "name": "stderr",
          "text": [
            "/usr/local/lib/python3.7/dist-packages/sklearn/linear_model/_stochastic_gradient.py:700: ConvergenceWarning: Maximum number of iteration reached before convergence. Consider increasing max_iter to improve the fit.\n",
            "  ConvergenceWarning,\n"
          ]
        }
      ]
    },
    {
      "cell_type": "code",
      "source": [
        "from sklearn.linear_model import SGDClassifier\n",
        "# SGDClssifier는 확률적경사하강법만 지원한다. 미니배치, 배치는 X\n",
        "sc = SGDClassifier(loss='log', max_iter=10, random_state=42)\n",
        "train_score = []\n",
        "test_score = []\n",
        "\n",
        "# fit 없이 partial_fit만 쓰려면 미리 클래스들을 알려줘야 한다.(타깃과 같게 만들어줘야 한다.)\n",
        "classes = np.unique(train_target)\n",
        "for x in range(0, 300):\n",
        "  sc.partial_fit(train_scaled, train_target, classes=classes)\n",
        "  train_score.append(sc.score(train_scaled, train_target))\n",
        "  test_score.append(sc.score(test_scaled, test_target))\n",
        "  if x in range(100,120):  \n",
        "    print(x, \":\", train_score[len(train_score)-1], test_score[len(test_score)-1])\n",
        "\n",
        "import matplotlib.pyplot as plt\n",
        "plt.plot(range(0, 300), train_score)\n",
        "plt.plot(range(0, 300), test_score)\n",
        "plt.xlabel('epoch')\n",
        "plt.ylabel('정확도')\n",
        "plt.title('partial_fit을 쓴 경우')\n",
        "plt.show()\n",
        "\n",
        "train_score = []\n",
        "test_score = []\n",
        "# 그래프로 확인해봤을 때 에포크  100 정도가 적절한 값으로 생각된다.(조기종료)\n",
        "for x in range(1, 300):\n",
        "  sc= SGDClassifier(loss='log', max_iter=x, tol=None, random_state=42)\n",
        "  sc.fit(train_scaled, train_target)\n",
        "  train_score.append(sc.score(train_scaled, train_target))\n",
        "  test_score.append(sc.score(test_scaled, test_target))\n",
        "  #print(x, \":\", train_score[len(train_score)-1], test_score[len(test_score)-1])\n",
        "\n",
        "import matplotlib.pyplot as plt\n",
        "plt.plot(range(1, 300), train_score)\n",
        "plt.plot(range(1, 300), test_score)\n",
        "plt.xlabel('epoch')\n",
        "plt.ylabel('정확도')\n",
        "plt.title('fit을 쓴 경우')\n",
        "plt.show()\n",
        "\n",
        "sc= SGDClassifier(loss='log', max_iter=100, tol=None, random_state=42)\n",
        "sc.fit(train_scaled, train_target)\n",
        "print(sc.score(train_scaled, train_target))\n",
        "print(sc.score(test_scaled, test_target))"
      ],
      "metadata": {
        "colab": {
          "base_uri": "https://localhost:8080/",
          "height": 976
        },
        "id": "BSiGNY6rL0ue",
        "outputId": "798d7e97-33dd-4d87-997f-eca3a65a54b6"
      },
      "execution_count": null,
      "outputs": [
        {
          "output_type": "stream",
          "name": "stdout",
          "text": [
            "100 : 0.9411764705882353 0.925\n",
            "101 : 0.9411764705882353 0.925\n",
            "102 : 0.9411764705882353 0.925\n",
            "103 : 0.9411764705882353 0.925\n",
            "104 : 0.9411764705882353 0.925\n",
            "105 : 0.9411764705882353 0.925\n",
            "106 : 0.9411764705882353 0.925\n",
            "107 : 0.9495798319327731 0.925\n",
            "108 : 0.9495798319327731 0.925\n",
            "109 : 0.9495798319327731 0.925\n",
            "110 : 0.9495798319327731 0.925\n",
            "111 : 0.9495798319327731 0.925\n",
            "112 : 0.9495798319327731 0.925\n",
            "113 : 0.9495798319327731 0.925\n",
            "114 : 0.9495798319327731 0.925\n",
            "115 : 0.9495798319327731 0.925\n",
            "116 : 0.957983193277311 0.925\n",
            "117 : 0.957983193277311 0.925\n",
            "118 : 0.957983193277311 0.925\n",
            "119 : 0.957983193277311 0.925\n"
          ]
        },
        {
          "output_type": "display_data",
          "data": {
            "image/png": "[encoded data removed]",
            "text/plain": [
              "<Figure size 432x288 with 1 Axes>"
            ]
          },
          "metadata": {
            "needs_background": "light"
          }
        },
        {
          "output_type": "display_data",
          "data": {
            "image/png": "[encoded data removed]",
            "text/plain": [
              "<Figure size 432x288 with 1 Axes>"
            ]
          },
          "metadata": {
            "needs_background": "light"
          }
        },
        {
          "output_type": "stream",
          "name": "stdout",
          "text": [
            "0.957983193277311\n",
            "0.925\n"
          ]
        }
      ]
    },
    {
      "cell_type": "markdown",
      "source": [
        "### 확인문제"
      ],
      "metadata": {
        "id": "e-b7xfq4fjk1"
      }
    },
    {
      "cell_type": "markdown",
      "source": [
        "#### 1. 다음 중 표준화 같은 데이터 전처리를 수행하지 않아도 되는 방식으로 구현된 클래스는 무엇인가요?"
      ],
      "metadata": {
        "id": "xu2H_iibfnyS"
      }
    },
    {
      "cell_type": "markdown",
      "source": [
        "LinearRegression. 데이터의 경향을 바탕으로 예측하는 것이기 때문에 표준화를 해버리면 곤란합니다(..)"
      ],
      "metadata": {
        "id": "3qnKAfh-swBu"
      }
    },
    {
      "cell_type": "markdown",
      "source": [
        "#### 2. 경사 하강법 알고리즘의 하나로 훈련 세트에서 몇 개의 샘플을 뽑아서 훈련하는 방식은 무엇인가요?"
      ],
      "metadata": {
        "id": "HxZokygqs_So"
      }
    },
    {
      "cell_type": "markdown",
      "source": [
        "미니배치 경사 하강법입니다."
      ],
      "metadata": {
        "id": "KTLoGlAOtEaa"
      }
    },
    {
      "cell_type": "markdown",
      "source": [
        "# 4주차 Chapter 05"
      ],
      "metadata": {
        "id": "G0g_UIjTXq6M"
      }
    },
    {
      "cell_type": "markdown",
      "source": [
        "* 강의\n",
        "  * [11강 로지스틱 회귀로 와인 분류하기 & 결정 트리](https://www.youtube.com/watch?v=tOzxDGp8rsg&list=PLJN246lAkhQjoU0C4v8FgtbjOIXxSs_4Q&index=11)\n",
        "  * [12강 교차 검증과 그리드 서치](https://www.youtube.com/watch?v=ZaIKUvHquEQ&list=PLJN246lAkhQjoU0C4v8FgtbjOIXxSs_4Q&index=12)\n",
        "  * [13강 트리의 앙상블](https://www.youtube.com/watch?v=Moz8i-tKurk&list=PLJN246lAkhQjoU0C4v8FgtbjOIXxSs_4Q&index=13)\n",
        "\n",
        "* 기본미션: 교차 검증을 그림으로 설명하기\n",
        "* 선택미션: Ch.05(05-3) 앙상블 모델 손코딩 코랩 화면 인증샷\n",
        "  "
      ],
      "metadata": {
        "id": "6A9FQBKhYkAP"
      }
    },
    {
      "cell_type": "markdown",
      "source": [
        "# 5주차 Chapter 06"
      ],
      "metadata": {
        "id": "mKzzGSqKXqwh"
      }
    },
    {
      "cell_type": "markdown",
      "source": [
        "* 강의\n",
        "  * [14강 흑백 이미지 분류 방법과 비지도 학습, 군집 알고리즘 이해하기](https://www.youtube.com/watch?v=u-G_sV7P_aA&list=PLJN246lAkhQjoU0C4v8FgtbjOIXxSs_4Q&index=14)\n",
        "  * [15강 k-평균 알고리즘 작동 방식을 이해하고 비지도 학습 모델 만들기](https://www.youtube.com/watch?v=SBdy0nSctRM&list=PLJN246lAkhQjoU0C4v8FgtbjOIXxSs_4Q&index=15)\n",
        "  * [16강 주성분 분석: 차원 축소 알고리즘 PCA 모델 만들기](https://www.youtube.com/watch?v=ePqKgBnpcw4&list=PLJN246lAkhQjoU0C4v8FgtbjOIXxSs_4Q&index=16)\n",
        "  \n",
        "* 기본미션: k-평균 알고리즘 작동 방식 설명하기\n",
        "* 선택미션: Ch.06(06-3) 확인 문제 풀고, 풀이 과정 정리하기"
      ],
      "metadata": {
        "id": "8deAF1-qYy77"
      }
    },
    {
      "cell_type": "markdown",
      "source": [
        ""
      ],
      "metadata": {
        "id": "59v3ffJWXqr1"
      }
    },
    {
      "cell_type": "markdown",
      "source": [
        "# 6주차 Chapter 07"
      ],
      "metadata": {
        "id": "RNbV_IpiXqm5"
      }
    },
    {
      "cell_type": "markdown",
      "source": [
        "* 강의\n",
        "  * [17강 인공 신경망 ▶️ 간단한 인공 신경망 모델 만들기](https://www.youtube.com/watch?v=ZiP9erf5Fo0&list=PLJN246lAkhQjoU0C4v8FgtbjOIXxSs_4Q&index=17)\n",
        "  * [18강 심층 신경망 ▶️인공 신경망에 층을 추가하여 심층 신경망 만들어 보기](https://www.youtube.com/watch?v=JskWW5MlzOg&list=PLJN246lAkhQjoU0C4v8FgtbjOIXxSs_4Q&index=18)\n",
        "  * [19강 신경망 모델 훈련 ▶️인경 신경망 모델 훈련의 모범 사례 학습하기](https://www.youtube.com/watch?v=2by0Fz3XC84&list=PLJN246lAkhQjoU0C4v8FgtbjOIXxSs_4Q&index=19)\n",
        "  \n",
        "* 기본미션: Ch.07(07-1) 확인 문제 풀고, 풀이 과정 정리하기\n",
        "* 선택미션: Ch.07(07-2) 확인 문제 풀고, 풀이 과정 정리하기"
      ],
      "metadata": {
        "id": "Oi7B8NGrZEnJ"
      }
    },
    {
      "cell_type": "markdown",
      "source": [
        "# 7주차 Chapter 08"
      ],
      "metadata": {
        "id": "i4R7_612Xqhw"
      }
    },
    {
      "cell_type": "markdown",
      "source": [
        "* 강의\n",
        "  * [20강 합성곱 신경망의 개념과 동작 원리 배우기](https://www.youtube.com/watch?v=tPLRox0YYc8&list=PLJN246lAkhQjoU0C4v8FgtbjOIXxSs_4Q&index=20)\n",
        "  * [21강 합성곱 신경망을 사용한 이미지 분류](https://www.youtube.com/watch?v=WuHD9yUuTDk&list=PLJN246lAkhQjoU0C4v8FgtbjOIXxSs_4Q&index=21)\n",
        "  * [22강 합성곱 신경망의 시각화](https://www.youtube.com/watch?v=_lDVf8jDKHg&list=PLJN246lAkhQjoU0C4v8FgtbjOIXxSs_4Q&index=22)\n",
        "  "
      ],
      "metadata": {
        "id": "-BPdSOV0ZUPD"
      }
    },
    {
      "cell_type": "markdown",
      "source": [
        "# 8주차 Chapter 09"
      ],
      "metadata": {
        "id": "5fntqyvrXqaj"
      }
    },
    {
      "cell_type": "markdown",
      "source": [
        "* 강의\n",
        "  * [23강 순차 데이터와 순환 신경망](https://www.youtube.com/watch?v=QCh_FqPWEsk&list=PLJN246lAkhQjoU0C4v8FgtbjOIXxSs_4Q&index=23)\n",
        "  * [24강 순환 신경망으로 IMDB 리뷰 분류하기](https://www.youtube.com/watch?v=YIrpKw04ic8&list=PLJN246lAkhQjoU0C4v8FgtbjOIXxSs_4Q&index=24)\n",
        "  * [25강 LSTM과 GRU 셀](https://www.youtube.com/watch?v=ub8S29bF6rk&list=PLJN246lAkhQjoU0C4v8FgtbjOIXxSs_4Q&index=25)\n",
        "  "
      ],
      "metadata": {
        "id": "klSVM0zxZma4"
      }
    }
  ]
}